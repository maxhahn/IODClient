{
 "cells": [
  {
   "cell_type": "code",
   "execution_count": 1,
   "metadata": {},
   "outputs": [],
   "source": [
    "import polars as pl"
   ]
  },
  {
   "cell_type": "code",
   "execution_count": 2,
   "metadata": {},
   "outputs": [
    {
     "data": {
      "text/html": [
       "<div><style>\n",
       ".dataframe > thead > tr,\n",
       ".dataframe > tbody > tr {\n",
       "  text-align: right;\n",
       "  white-space: pre-wrap;\n",
       "}\n",
       "</style>\n",
       "<small>shape: (870, 7)</small><table border=\"1\" class=\"dataframe\"><thead><tr><th>name</th><th>num_clients</th><th>num_samples</th><th>max_regressors</th><th>predicted_p_values</th><th>true_p_values</th><th>experiment_type</th></tr><tr><td>str</td><td>i64</td><td>i64</td><td>null</td><td>f64</td><td>f64</td><td>str</td></tr></thead><tbody><tr><td>&quot;L-B Unc. Indep.&quot;</td><td>1</td><td>500</td><td>null</td><td>0.9104</td><td>0.9106</td><td>&quot;L-B&quot;</td></tr><tr><td>&quot;L-B Unc. Indep.&quot;</td><td>3</td><td>500</td><td>null</td><td>0.1222</td><td>0.121</td><td>&quot;L-B&quot;</td></tr><tr><td>&quot;L-B Unc. Indep.&quot;</td><td>5</td><td>500</td><td>null</td><td>0.0302</td><td>0.0291</td><td>&quot;L-B&quot;</td></tr><tr><td>&quot;L-B Unc. Dep.&quot;</td><td>1</td><td>500</td><td>null</td><td>0.4239</td><td>0.425</td><td>&quot;L-B&quot;</td></tr><tr><td>&quot;L-B Unc. Dep.&quot;</td><td>3</td><td>500</td><td>null</td><td>0.2751</td><td>0.2561</td><td>&quot;L-B&quot;</td></tr><tr><td>&hellip;</td><td>&hellip;</td><td>&hellip;</td><td>&hellip;</td><td>&hellip;</td><td>&hellip;</td><td>&hellip;</td></tr><tr><td>&quot;L-B Con. Indep.&quot;</td><td>1</td><td>500</td><td>null</td><td>0.8853</td><td>0.852</td><td>&quot;L-B&quot;</td></tr><tr><td>&quot;L-B Con. Indep.&quot;</td><td>1</td><td>500</td><td>null</td><td>0.0</td><td>0.0</td><td>&quot;L-B&quot;</td></tr><tr><td>&quot;L-B Con. Indep.&quot;</td><td>1</td><td>500</td><td>null</td><td>0.0</td><td>0.0</td><td>&quot;L-B&quot;</td></tr><tr><td>&quot;L-B Con. Indep.&quot;</td><td>1</td><td>500</td><td>null</td><td>0.0</td><td>0.0</td><td>&quot;L-B&quot;</td></tr><tr><td>&quot;L-B Con. Indep.&quot;</td><td>1</td><td>500</td><td>null</td><td>0.0</td><td>0.0</td><td>&quot;L-B&quot;</td></tr></tbody></table></div>"
      ],
      "text/plain": [
       "shape: (870, 7)\n",
       "┌──────────┬─────────────┬─────────────┬──────────────┬──────────────┬──────────────┬──────────────┐\n",
       "│ name     ┆ num_clients ┆ num_samples ┆ max_regresso ┆ predicted_p_ ┆ true_p_value ┆ experiment_t │\n",
       "│ ---      ┆ ---         ┆ ---         ┆ rs           ┆ values       ┆ s            ┆ ype          │\n",
       "│ str      ┆ i64         ┆ i64         ┆ ---          ┆ ---          ┆ ---          ┆ ---          │\n",
       "│          ┆             ┆             ┆ null         ┆ f64          ┆ f64          ┆ str          │\n",
       "╞══════════╪═════════════╪═════════════╪══════════════╪══════════════╪══════════════╪══════════════╡\n",
       "│ L-B Unc. ┆ 1           ┆ 500         ┆ null         ┆ 0.9104       ┆ 0.9106       ┆ L-B          │\n",
       "│ Indep.   ┆             ┆             ┆              ┆              ┆              ┆              │\n",
       "│ L-B Unc. ┆ 3           ┆ 500         ┆ null         ┆ 0.1222       ┆ 0.121        ┆ L-B          │\n",
       "│ Indep.   ┆             ┆             ┆              ┆              ┆              ┆              │\n",
       "│ L-B Unc. ┆ 5           ┆ 500         ┆ null         ┆ 0.0302       ┆ 0.0291       ┆ L-B          │\n",
       "│ Indep.   ┆             ┆             ┆              ┆              ┆              ┆              │\n",
       "│ L-B Unc. ┆ 1           ┆ 500         ┆ null         ┆ 0.4239       ┆ 0.425        ┆ L-B          │\n",
       "│ Dep.     ┆             ┆             ┆              ┆              ┆              ┆              │\n",
       "│ L-B Unc. ┆ 3           ┆ 500         ┆ null         ┆ 0.2751       ┆ 0.2561       ┆ L-B          │\n",
       "│ Dep.     ┆             ┆             ┆              ┆              ┆              ┆              │\n",
       "│ …        ┆ …           ┆ …           ┆ …            ┆ …            ┆ …            ┆ …            │\n",
       "│ L-B Con. ┆ 1           ┆ 500         ┆ null         ┆ 0.8853       ┆ 0.852        ┆ L-B          │\n",
       "│ Indep.   ┆             ┆             ┆              ┆              ┆              ┆              │\n",
       "│ L-B Con. ┆ 1           ┆ 500         ┆ null         ┆ 0.0          ┆ 0.0          ┆ L-B          │\n",
       "│ Indep.   ┆             ┆             ┆              ┆              ┆              ┆              │\n",
       "│ L-B Con. ┆ 1           ┆ 500         ┆ null         ┆ 0.0          ┆ 0.0          ┆ L-B          │\n",
       "│ Indep.   ┆             ┆             ┆              ┆              ┆              ┆              │\n",
       "│ L-B Con. ┆ 1           ┆ 500         ┆ null         ┆ 0.0          ┆ 0.0          ┆ L-B          │\n",
       "│ Indep.   ┆             ┆             ┆              ┆              ┆              ┆              │\n",
       "│ L-B Con. ┆ 1           ┆ 500         ┆ null         ┆ 0.0          ┆ 0.0          ┆ L-B          │\n",
       "│ Indep.   ┆             ┆             ┆              ┆              ┆              ┆              │\n",
       "└──────────┴─────────────┴─────────────┴──────────────┴──────────────┴──────────────┴──────────────┘"
      ]
     },
     "execution_count": 2,
     "metadata": {},
     "output_type": "execute_result"
    }
   ],
   "source": [
    "df = pl.read_ndjson('./experiments/rewrite/*.ndjson')\n",
    "df = df.explode('predicted_p_values', 'true_p_values')\n",
    "df = df.with_columns(experiment_type=pl.col('name').str.slice(0,3))\n",
    "df"
   ]
  },
  {
   "cell_type": "code",
   "execution_count": 4,
   "metadata": {},
   "outputs": [
    {
     "data": {
      "application/vnd.jupyter.widget-view+json": {
       "model_id": "4bc6ffaf747d4a6681d2bbd2d51af0f2",
       "version_major": 2,
       "version_minor": 0
      },
      "text/plain": [
       "BokehModel(combine_events=True, render_bundle={'docs_json': {'006b8338-e0be-4981-b16c-1ae2d7379f75': {'version…"
      ]
     },
     "execution_count": 4,
     "metadata": {},
     "output_type": "execute_result"
    }
   ],
   "source": [
    "df.plot.scatter(\n",
    "    x='predicted_p_values',\n",
    "    y='true_p_values',\n",
    "    alpha=0.7,\n",
    "    ylim=(-0.1,1.1),\n",
    "    xlim=(-0.1,1.1),\n",
    "    width=400,\n",
    "    height=400,\n",
    "    #by='name',\n",
    "    groupby=['experiment_type', 'num_clients', 'num_samples']\n",
    "    )"
   ]
  },
  {
   "cell_type": "code",
   "execution_count": null,
   "metadata": {},
   "outputs": [],
   "source": []
  }
 ],
 "metadata": {
  "kernelspec": {
   "display_name": "promotion",
   "language": "python",
   "name": "python3"
  },
  "language_info": {
   "codemirror_mode": {
    "name": "ipython",
    "version": 3
   },
   "file_extension": ".py",
   "mimetype": "text/x-python",
   "name": "python",
   "nbconvert_exporter": "python",
   "pygments_lexer": "ipython3",
   "version": "3.10.14"
  }
 },
 "nbformat": 4,
 "nbformat_minor": 2
}
