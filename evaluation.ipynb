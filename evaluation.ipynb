{
 "cells": [
  {
   "cell_type": "code",
   "execution_count": 1,
   "metadata": {},
   "outputs": [],
   "source": [
    "import polars as pl"
   ]
  },
  {
   "cell_type": "code",
   "execution_count": 36,
   "metadata": {},
   "outputs": [
    {
     "data": {
      "text/plain": [
       "1684"
      ]
     },
     "execution_count": 36,
     "metadata": {},
     "output_type": "execute_result"
    }
   ],
   "source": [
    "df = pl.read_ndjson('./experiments/base/tests.ndjson')\n",
    "df = df.explode('predicted_p_values', 'true_p_values')\n",
    "df = df.with_columns(experiment_type=pl.col('name').str.slice(0,3))\n",
    "len(df)"
   ]
  },
  {
   "cell_type": "code",
   "execution_count": 37,
   "metadata": {},
   "outputs": [
    {
     "data": {
      "application/vnd.jupyter.widget-view+json": {
       "model_id": "455d14f4be7c46a3b9c7db3d0cab4dc8",
       "version_major": 2,
       "version_minor": 0
      },
      "text/plain": [
       "BokehModel(combine_events=True, render_bundle={'docs_json': {'2ea71da9-12c6-45d9-a422-d4cd79652162': {'version…"
      ]
     },
     "execution_count": 37,
     "metadata": {},
     "output_type": "execute_result"
    }
   ],
   "source": [
    "df.plot.scatter(\n",
    "    x='predicted_p_values',\n",
    "    y='true_p_values',\n",
    "    alpha=0.7,\n",
    "    ylim=(-0.1,1.1),\n",
    "    xlim=(-0.1,1.1),\n",
    "    height=400,\n",
    "    width=400,\n",
    "    #by='name', width=600,\n",
    "    groupby=['experiment_type', 'num_clients', 'num_samples']\n",
    "    )"
   ]
  },
  {
   "cell_type": "code",
   "execution_count": 38,
   "metadata": {},
   "outputs": [
    {
     "data": {
      "application/vnd.jupyter.widget-view+json": {
       "model_id": "eec9ff526f80426898642e53b991d183",
       "version_major": 2,
       "version_minor": 0
      },
      "text/plain": [
       "BokehModel(combine_events=True, render_bundle={'docs_json': {'00860a50-f76d-4559-a08b-5d262691688f': {'version…"
      ]
     },
     "execution_count": 38,
     "metadata": {},
     "output_type": "execute_result"
    }
   ],
   "source": [
    "_df = df\n",
    "_df = _df.group_by('name', 'experiment_type', 'num_clients', 'num_samples') \\\n",
    "    .agg(pl.corr('predicted_p_values', 'true_p_values')) \\\n",
    "    .rename({'predicted_p_values': 'p_value_correlation'}) \n",
    "    \n",
    "_df.sort('num_samples').plot.line(x='num_samples',\n",
    "                                  y='p_value_correlation',\n",
    "                                  alpha=0.6,\n",
    "                                  by='name',\n",
    "                                  groupby=['experiment_type','num_clients'],\n",
    "                                  ylim=(0.5,1.001)\n",
    "                                  )"
   ]
  },
  {
   "cell_type": "code",
   "execution_count": 42,
   "metadata": {},
   "outputs": [
    {
     "data": {
      "application/vnd.jupyter.widget-view+json": {
       "model_id": "a1d59436ed3146939b39b0aecdb09a39",
       "version_major": 2,
       "version_minor": 0
      },
      "text/plain": [
       "BokehModel(combine_events=True, render_bundle={'docs_json': {'1b24183b-b6ca-4c25-90d3-4fd08b171dc0': {'version…"
      ]
     },
     "execution_count": 42,
     "metadata": {},
     "output_type": "execute_result"
    }
   ],
   "source": [
    "alpha = 0.05\n",
    "\n",
    "_df = df\n",
    "_df = _df.with_columns(\n",
    "    tp=(pl.col('predicted_p_values') < alpha) & (pl.col('true_p_values') < alpha),\n",
    "    tn=(pl.col('predicted_p_values') > alpha) & (pl.col('true_p_values') > alpha),\n",
    "    fp=(pl.col('predicted_p_values') < alpha) & (pl.col('true_p_values') > alpha),\n",
    "    fn=(pl.col('predicted_p_values') > alpha) & (pl.col('true_p_values') < alpha),\n",
    ")\n",
    "\n",
    "_df = _df.group_by('name', 'experiment_type', 'num_clients', 'num_samples').agg((pl.col('tp')+pl.col('tn')).mean().alias('accuracy'))\n",
    "    \n",
    "_df.sort('num_samples').plot.line(x='num_samples',\n",
    "                                  y='accuracy',\n",
    "                                  alpha=0.6,\n",
    "                                  by='name',\n",
    "                                  groupby=['experiment_type','num_clients'],\n",
    "                                  ylim=(0.5,1.001)\n",
    "                                  )"
   ]
  },
  {
   "cell_type": "code",
   "execution_count": null,
   "metadata": {},
   "outputs": [],
   "source": []
  }
 ],
 "metadata": {
  "kernelspec": {
   "display_name": "promotion",
   "language": "python",
   "name": "python3"
  },
  "language_info": {
   "codemirror_mode": {
    "name": "ipython",
    "version": 3
   },
   "file_extension": ".py",
   "mimetype": "text/x-python",
   "name": "python",
   "nbconvert_exporter": "python",
   "pygments_lexer": "ipython3",
   "version": "3.10.14"
  }
 },
 "nbformat": 4,
 "nbformat_minor": 2
}
