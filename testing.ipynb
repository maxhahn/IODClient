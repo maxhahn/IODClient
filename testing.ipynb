{
 "cells": [
  {
   "cell_type": "code",
   "execution_count": 1,
   "metadata": {},
   "outputs": [],
   "source": [
    "%load_ext autoreload\n",
    "%autoreload 2"
   ]
  },
  {
   "cell_type": "code",
   "execution_count": 2,
   "metadata": {},
   "outputs": [],
   "source": [
    "import dgp\n",
    "from fedci import run_test, run_configured_test, run_test_on_data\n",
    "from tqdm.contrib.concurrent import thread_map"
   ]
  },
  {
   "cell_type": "code",
   "execution_count": 3,
   "metadata": {},
   "outputs": [],
   "source": [
    "## L-B CASE\n",
    "# Unc. Indep. Case\n",
    "node1 = dgp.GenericNode('X', node_restrictions=[dgp.Node])\n",
    "node2 = dgp.GenericNode('Y', node_restrictions=[dgp.BinaryNode])\n",
    "nc911 = dgp.NodeCollection('L-B Unc. Indep.', [node1, node2])\n",
    "# Unc. Dep. Case\n",
    "node1 = dgp.GenericNode('X', node_restrictions=[dgp.Node])\n",
    "node2 = dgp.GenericNode('Y', node_restrictions=[dgp.BinaryNode])\n",
    "nc912 = dgp.NodeCollection('L-B Unc. Dep.', [node1, node2])\n",
    "# Con. Dep. Case given Z\n",
    "node1 = dgp.GenericNode('X', node_restrictions=[dgp.Node])\n",
    "node2 = dgp.GenericNode('Y', node_restrictions=[dgp.BinaryNode])\n",
    "node3 = dgp.GenericNode('Z', parents=[node1, node2], node_restrictions=[dgp.Node])\n",
    "nc913 = dgp.NodeCollection('L-B Con. Dep.', [node1, node2, node3])\n",
    "# Con. Indep. Case given Z\n",
    "node1 = dgp.GenericNode('Z', node_restrictions=[dgp.Node])\n",
    "node2 = dgp.GenericNode('X', parents=[node1], node_restrictions=[dgp.Node])\n",
    "node3 = dgp.GenericNode('Y', parents=[node1], node_restrictions=[dgp.BinaryNode])\n",
    "nc914 = dgp.NodeCollection('L-B Con. Indep.', [node1, node2, node3])\n",
    "\n",
    "## L-M CASE\n",
    "# Unc. Indep. Case\n",
    "node1 = dgp.GenericNode('X', node_restrictions=[dgp.Node])\n",
    "node2 = dgp.GenericNode('Y', node_restrictions=[dgp.CategoricalNode], min_categories=3)\n",
    "nc921 = dgp.NodeCollection('L-M Unc. Indep.', [node1, node2])\n",
    "# Unc. Dep. Case\n",
    "node1 = dgp.GenericNode('X', node_restrictions=[dgp.Node])\n",
    "node2 = dgp.GenericNode('Y', node_restrictions=[dgp.CategoricalNode], min_categories=3)\n",
    "nc922 = dgp.NodeCollection('L-M Unc. Dep.', [node1, node2])\n",
    "# Con. Dep. Case given Z\n",
    "node1 = dgp.GenericNode('X', node_restrictions=[dgp.Node])\n",
    "node2 = dgp.GenericNode('Y', node_restrictions=[dgp.CategoricalNode], min_categories=3)\n",
    "node3 = dgp.GenericNode('Z', parents=[node1, node2], node_restrictions=[dgp.Node])\n",
    "nc923 = dgp.NodeCollection('L-M Con. Dep.', [node1, node2, node3])\n",
    "# Con. Indep. Case given Z\n",
    "node1 = dgp.GenericNode('Z', node_restrictions=[dgp.Node])\n",
    "node2 = dgp.GenericNode('X', parents=[node1], node_restrictions=[dgp.Node])\n",
    "node3 = dgp.GenericNode('Y', parents=[node1], node_restrictions=[dgp.CategoricalNode], min_categories=3)\n",
    "nc924 = dgp.NodeCollection('L-M Con. Indep.', [node1, node2, node3])\n",
    "\n",
    "## L-O CASE\n",
    "# Unc. Indep. Case\n",
    "node1 = dgp.GenericNode('X', node_restrictions=[dgp.Node])\n",
    "node2 = dgp.GenericNode('Y', node_restrictions=[dgp.OrdinalNode], min_categories=3)\n",
    "nc931 = dgp.NodeCollection('L-O Unc. Indep.', [node1, node2])\n",
    "# Unc. Dep. Case\n",
    "node1 = dgp.GenericNode('X', node_restrictions=[dgp.Node])\n",
    "node2 = dgp.GenericNode('Y', node_restrictions=[dgp.OrdinalNode], min_categories=3)\n",
    "nc932 = dgp.NodeCollection('L-O Unc. Dep.', [node1, node2])\n",
    "# Con. Dep. Case given Z\n",
    "node1 = dgp.GenericNode('X', node_restrictions=[dgp.Node])\n",
    "node2 = dgp.GenericNode('Y', node_restrictions=[dgp.OrdinalNode], min_categories=3)\n",
    "node3 = dgp.GenericNode('Z', parents=[node1, node2], node_restrictions=[dgp.Node])\n",
    "nc933 = dgp.NodeCollection('L-O Con. Dep.', [node1, node2, node3])\n",
    "# Con. Indep. Case given Z\n",
    "node1 = dgp.GenericNode('Z', node_restrictions=[dgp.Node])\n",
    "node2 = dgp.GenericNode('X', parents=[node1], node_restrictions=[dgp.Node])\n",
    "node3 = dgp.GenericNode('Y', parents=[node1], node_restrictions=[dgp.OrdinalNode], min_categories=3)\n",
    "nc934 = dgp.NodeCollection('L-O Con. Indep.', [node1, node2, node3])\n",
    "\n",
    "## B-O CASE\n",
    "# Unc. Indep. Case\n",
    "node1 = dgp.GenericNode('X', node_restrictions=[dgp.BinaryNode])\n",
    "node2 = dgp.GenericNode('Y', node_restrictions=[dgp.OrdinalNode], min_categories=3)\n",
    "nc941 = dgp.NodeCollection('B-O Unc. Indep.', [node1, node2])\n",
    "# Unc. Dep. Case\n",
    "node1 = dgp.GenericNode('X', node_restrictions=[dgp.BinaryNode])\n",
    "node2 = dgp.GenericNode('Y', node_restrictions=[dgp.OrdinalNode], min_categories=3)\n",
    "nc942 = dgp.NodeCollection('B-O Unc. Dep.', [node1, node2])\n",
    "# Con. Dep. Case given Z\n",
    "node1 = dgp.GenericNode('X', node_restrictions=[dgp.BinaryNode])\n",
    "node2 = dgp.GenericNode('Y', node_restrictions=[dgp.OrdinalNode], min_categories=3)\n",
    "node3 = dgp.GenericNode('Z', parents=[node1, node2], node_restrictions=[dgp.Node])\n",
    "nc943 = dgp.NodeCollection('B-O Con. Dep.', [node1, node2, node3])\n",
    "# Con. Indep. Case given Z\n",
    "node1 = dgp.GenericNode('Z', node_restrictions=[dgp.Node])\n",
    "node2 = dgp.GenericNode('X', parents=[node1], node_restrictions=[dgp.BinaryNode])\n",
    "node3 = dgp.GenericNode('Y', parents=[node1], node_restrictions=[dgp.OrdinalNode], min_categories=3)\n",
    "nc944 = dgp.NodeCollection('B-O Con. Indep.', [node1, node2, node3])\n",
    "\n",
    "## M-O CASE\n",
    "# Unc. Indep. Case\n",
    "node1 = dgp.GenericNode('X', node_restrictions=[dgp.CategoricalNode], min_categories=3)\n",
    "node2 = dgp.GenericNode('Y', node_restrictions=[dgp.OrdinalNode], min_categories=3)\n",
    "nc951 = dgp.NodeCollection('M-O Unc. Indep.', [node1, node2])\n",
    "# Unc. Dep. Case\n",
    "node1 = dgp.GenericNode('X', node_restrictions=[dgp.CategoricalNode], min_categories=3)\n",
    "node2 = dgp.GenericNode('Y', node_restrictions=[dgp.OrdinalNode], min_categories=3)\n",
    "nc952 = dgp.NodeCollection('M-O Unc. Dep.', [node1, node2])\n",
    "# Con. Dep. Case given Z\n",
    "node1 = dgp.GenericNode('X', node_restrictions=[dgp.CategoricalNode], min_categories=3)\n",
    "node2 = dgp.GenericNode('Y', node_restrictions=[dgp.OrdinalNode], min_categories=3)\n",
    "node3 = dgp.GenericNode('Z', parents=[node1, node2], node_restrictions=[dgp.Node])\n",
    "nc953 = dgp.NodeCollection('M-O Con. Dep.', [node1, node2, node3])\n",
    "# Con. Indep. Case given Z\n",
    "node1 = dgp.GenericNode('Z', node_restrictions=[dgp.Node])\n",
    "node2 = dgp.GenericNode('X', parents=[node1], node_restrictions=[dgp.CategoricalNode], min_categories=3)\n",
    "node3 = dgp.GenericNode('Y', parents=[node1], node_restrictions=[dgp.OrdinalNode], min_categories=3)\n",
    "nc954 = dgp.NodeCollection('M-O Con. Indep.', [node1, node2, node3])\n",
    "\n",
    "\n",
    "## L-L CASE\n",
    "# Unc. Indep. Case\n",
    "node1 = dgp.GenericNode('X', node_restrictions=[dgp.Node])\n",
    "node2 = dgp.GenericNode('Y', node_restrictions=[dgp.Node])\n",
    "nc961 = dgp.NodeCollection('L-L Unc. Indep.', [node1, node2])\n",
    "# Unc. Dep. Case\n",
    "node1 = dgp.GenericNode('X', node_restrictions=[dgp.Node])\n",
    "node2 = dgp.GenericNode('Y', node_restrictions=[dgp.Node])\n",
    "nc962 = dgp.NodeCollection('L-L Unc. Dep.', [node1, node2])\n",
    "# Con. Dep. Case given Z\n",
    "node1 = dgp.GenericNode('X', node_restrictions=[dgp.Node])\n",
    "node2 = dgp.GenericNode('Y', node_restrictions=[dgp.Node])\n",
    "node3 = dgp.GenericNode('Z', parents=[node1, node2], node_restrictions=[dgp.Node])\n",
    "nc963 = dgp.NodeCollection('L-L Con. Dep.', [node1, node2, node3])\n",
    "# Con. Indep. Case given Z\n",
    "node1 = dgp.GenericNode('Z', node_restrictions=[dgp.Node])\n",
    "node2 = dgp.GenericNode('X', parents=[node1], node_restrictions=[dgp.Node])\n",
    "node3 = dgp.GenericNode('Y', parents=[node1], node_restrictions=[dgp.Node])\n",
    "nc964 = dgp.NodeCollection('L-L Con. Indep.', [node1, node2, node3])"
   ]
  },
  {
   "cell_type": "code",
   "execution_count": 6,
   "metadata": {},
   "outputs": [
    {
     "data": {
      "text/plain": [
       "40000"
      ]
     },
     "execution_count": 6,
     "metadata": {},
     "output_type": "execute_result"
    }
   ],
   "source": [
    "import itertools\n",
    "\n",
    "node_collections = [\n",
    "    nc911, nc912, nc913, nc914,\n",
    "    nc921, nc922, nc923, nc924,\n",
    "    nc931, nc932, nc933, nc934,\n",
    "    nc941, nc942, nc943, nc944,\n",
    "    nc951, nc952, nc953, nc954,\n",
    "]\n",
    "num_samples = [\n",
    "    100, 200, 300, 400,\n",
    "    500, 600, 700, 800,\n",
    "    900, 1000,# 1250, 1500,\n",
    "    #1750, 2000, 2500, 3000\n",
    "]\n",
    "num_clients = [\n",
    "    1, 3,# 5\n",
    "]\n",
    "\n",
    "file_info = ('./experiments/base', 'tests.ndjson')\n",
    "\n",
    "configurations = list(itertools.product(node_collections, num_samples, num_clients))\n",
    "configurations = [c + file_info for c in configurations]\n",
    "\n",
    "num_runs = 100 \n",
    "\n",
    "configurations *= num_runs\n",
    "len(configurations)"
   ]
  },
  {
   "cell_type": "code",
   "execution_count": 7,
   "metadata": {},
   "outputs": [],
   "source": [
    "from tqdm.notebook import tqdm"
   ]
  },
  {
   "cell_type": "code",
   "execution_count": 8,
   "metadata": {},
   "outputs": [
    {
     "data": {
      "application/vnd.jupyter.widget-view+json": {
       "model_id": "a6d3f4d7503244d881913a38b9146fbc",
       "version_major": 2,
       "version_minor": 0
      },
      "text/plain": [
       "  0%|          | 0/40000 [00:00<?, ?it/s]"
      ]
     },
     "metadata": {},
     "output_type": "display_data"
    },
    {
     "ename": "RRuntimeError",
     "evalue": "StopIteration",
     "output_type": "error",
     "traceback": [
      "\u001b[0;31m---------------------------------------------------------------------------\u001b[0m",
      "\u001b[0;31mRRuntimeError\u001b[0m                             Traceback (most recent call last)",
      "Cell \u001b[0;32mIn[8], line 2\u001b[0m\n\u001b[1;32m      1\u001b[0m \u001b[38;5;28;01mfor\u001b[39;00m configuration \u001b[38;5;129;01min\u001b[39;00m tqdm(configurations):\n\u001b[0;32m----> 2\u001b[0m     \u001b[43mrun_configured_test\u001b[49m\u001b[43m(\u001b[49m\u001b[43mconfiguration\u001b[49m\u001b[43m)\u001b[49m\n",
      "File \u001b[0;32m~/git/IOD_Rpackage/fedci/helper.py:37\u001b[0m, in \u001b[0;36mrun_configured_test\u001b[0;34m(config)\u001b[0m\n\u001b[1;32m     34\u001b[0m \u001b[38;5;28;01mdef\u001b[39;00m \u001b[38;5;21mrun_configured_test\u001b[39m(config):\n\u001b[1;32m     35\u001b[0m     node_collection, num_samples, num_clients, target_directory, target_file \u001b[38;5;241m=\u001b[39m config\n\u001b[0;32m---> 37\u001b[0m     \u001b[38;5;28;01mreturn\u001b[39;00m \u001b[43mrun_test\u001b[49m\u001b[43m(\u001b[49m\u001b[43mdgp_nodes\u001b[49m\u001b[38;5;241;43m=\u001b[39;49m\u001b[43mnode_collection\u001b[49m\u001b[43m,\u001b[49m\n\u001b[1;32m     38\u001b[0m \u001b[43m                    \u001b[49m\u001b[43mnum_samples\u001b[49m\u001b[38;5;241;43m=\u001b[39;49m\u001b[43mnum_samples\u001b[49m\u001b[43m,\u001b[49m\n\u001b[1;32m     39\u001b[0m \u001b[43m                    \u001b[49m\u001b[43mnum_clients\u001b[49m\u001b[38;5;241;43m=\u001b[39;49m\u001b[43mnum_clients\u001b[49m\u001b[43m,\u001b[49m\n\u001b[1;32m     40\u001b[0m \u001b[43m                    \u001b[49m\u001b[43mtarget_directory\u001b[49m\u001b[38;5;241;43m=\u001b[39;49m\u001b[43mtarget_directory\u001b[49m\u001b[43m,\u001b[49m\n\u001b[1;32m     41\u001b[0m \u001b[43m                    \u001b[49m\u001b[43mtarget_file\u001b[49m\u001b[38;5;241;43m=\u001b[39;49m\u001b[43mtarget_file\u001b[49m\u001b[43m,\u001b[49m\n\u001b[1;32m     42\u001b[0m \u001b[43m                    \u001b[49m\u001b[43mwrite_to_disk\u001b[49m\u001b[38;5;241;43m=\u001b[39;49m\u001b[38;5;28;43;01mTrue\u001b[39;49;00m\n\u001b[1;32m     43\u001b[0m \u001b[43m                    \u001b[49m\u001b[43m)\u001b[49m\n",
      "File \u001b[0;32m~/git/IOD_Rpackage/fedci/helper.py:58\u001b[0m, in \u001b[0;36mrun_test\u001b[0;34m(dgp_nodes, num_samples, num_clients, target_directory, target_file, max_regressors, suppress_r_output, write_to_disk)\u001b[0m\n\u001b[1;32m     55\u001b[0m dgp_nodes\u001b[38;5;241m.\u001b[39mreset()\n\u001b[1;32m     56\u001b[0m data \u001b[38;5;241m=\u001b[39m dgp_nodes\u001b[38;5;241m.\u001b[39mget(num_samples)\n\u001b[0;32m---> 58\u001b[0m \u001b[38;5;28;01mreturn\u001b[39;00m \u001b[43mrun_test_on_data\u001b[49m\u001b[43m(\u001b[49m\u001b[43mdata\u001b[49m\u001b[43m,\u001b[49m\n\u001b[1;32m     59\u001b[0m \u001b[43m                        \u001b[49m\u001b[43mdgp_nodes\u001b[49m\u001b[38;5;241;43m.\u001b[39;49m\u001b[43mname\u001b[49m\u001b[43m,\u001b[49m\n\u001b[1;32m     60\u001b[0m \u001b[43m                        \u001b[49m\u001b[43mnum_clients\u001b[49m\u001b[43m,\u001b[49m\n\u001b[1;32m     61\u001b[0m \u001b[43m                        \u001b[49m\u001b[43mtarget_directory\u001b[49m\u001b[43m,\u001b[49m\n\u001b[1;32m     62\u001b[0m \u001b[43m                        \u001b[49m\u001b[43mtarget_file\u001b[49m\u001b[43m,\u001b[49m\n\u001b[1;32m     63\u001b[0m \u001b[43m                        \u001b[49m\u001b[43mmax_regressors\u001b[49m\u001b[43m,\u001b[49m\n\u001b[1;32m     64\u001b[0m \u001b[43m                        \u001b[49m\u001b[43msuppress_r_output\u001b[49m\u001b[43m,\u001b[49m\n\u001b[1;32m     65\u001b[0m \u001b[43m                        \u001b[49m\u001b[43mwrite_to_disk\u001b[49m\n\u001b[1;32m     66\u001b[0m \u001b[43m                        \u001b[49m\u001b[43m)\u001b[49m\n",
      "File \u001b[0;32m~/git/IOD_Rpackage/fedci/helper.py:90\u001b[0m, in \u001b[0;36mrun_test_on_data\u001b[0;34m(data, data_name, num_clients, target_directory, target_file, max_regressors, suppress_r_output, write_to_disk)\u001b[0m\n\u001b[1;32m     87\u001b[0m server\u001b[38;5;241m.\u001b[39mrun()\n\u001b[1;32m     89\u001b[0m likelihood_ratio_tests \u001b[38;5;241m=\u001b[39m get_symmetric_likelihood_tests(server\u001b[38;5;241m.\u001b[39mget_tests())\n\u001b[0;32m---> 90\u001b[0m ground_truth_tests \u001b[38;5;241m=\u001b[39m \u001b[43mget_riod_tests\u001b[49m\u001b[43m(\u001b[49m\u001b[43mdata\u001b[49m\u001b[43m,\u001b[49m\u001b[43m \u001b[49m\u001b[43mmax_regressors\u001b[49m\u001b[38;5;241;43m=\u001b[39;49m\u001b[43mmax_regressors\u001b[49m\u001b[43m)\u001b[49m\n\u001b[1;32m     91\u001b[0m predicted_p_values, true_p_values \u001b[38;5;241m=\u001b[39m compare_tests_to_truth(likelihood_ratio_tests, ground_truth_tests)\n\u001b[1;32m     93\u001b[0m result \u001b[38;5;241m=\u001b[39m {\n\u001b[1;32m     94\u001b[0m     \u001b[38;5;124m'\u001b[39m\u001b[38;5;124mname\u001b[39m\u001b[38;5;124m'\u001b[39m: data_name,\n\u001b[1;32m     95\u001b[0m     \u001b[38;5;124m'\u001b[39m\u001b[38;5;124mnum_clients\u001b[39m\u001b[38;5;124m'\u001b[39m: num_clients,\n\u001b[0;32m   (...)\u001b[0m\n\u001b[1;32m     99\u001b[0m     \u001b[38;5;124m'\u001b[39m\u001b[38;5;124mtrue_p_values\u001b[39m\u001b[38;5;124m'\u001b[39m: true_p_values\n\u001b[1;32m    100\u001b[0m }\n",
      "File \u001b[0;32m~/git/IOD_Rpackage/fedci/evaluation.py:172\u001b[0m, in \u001b[0;36mget_riod_tests\u001b[0;34m(data, max_regressors)\u001b[0m\n\u001b[1;32m    170\u001b[0m ro\u001b[38;5;241m.\u001b[39mr[\u001b[38;5;124m'\u001b[39m\u001b[38;5;124msource\u001b[39m\u001b[38;5;124m'\u001b[39m](\u001b[38;5;124m'\u001b[39m\u001b[38;5;124m./local-ci.r\u001b[39m\u001b[38;5;124m'\u001b[39m)\n\u001b[1;32m    171\u001b[0m run_ci_test_f \u001b[38;5;241m=\u001b[39m ro\u001b[38;5;241m.\u001b[39mglobalenv[\u001b[38;5;124m'\u001b[39m\u001b[38;5;124mrun_ci_test\u001b[39m\u001b[38;5;124m'\u001b[39m]\n\u001b[0;32m--> 172\u001b[0m df_r \u001b[38;5;241m=\u001b[39m \u001b[43m_transform_dataframe\u001b[49m\u001b[43m(\u001b[49m\u001b[43mdata\u001b[49m\u001b[38;5;241;43m.\u001b[39;49m\u001b[43mwith_columns\u001b[49m\u001b[43m(\u001b[49m\u001b[43mcs\u001b[49m\u001b[38;5;241;43m.\u001b[39;49m\u001b[43mboolean\u001b[49m\u001b[43m(\u001b[49m\u001b[43m)\u001b[49m\u001b[38;5;241;43m.\u001b[39;49m\u001b[43mcast\u001b[49m\u001b[43m(\u001b[49m\u001b[43mpl\u001b[49m\u001b[38;5;241;43m.\u001b[39;49m\u001b[43mUtf8\u001b[49m\u001b[43m)\u001b[49m\u001b[43m)\u001b[49m\u001b[38;5;241;43m.\u001b[39;49m\u001b[43mto_pandas\u001b[49m\u001b[43m(\u001b[49m\u001b[43m)\u001b[49m\u001b[43m)\u001b[49m\n\u001b[1;32m    174\u001b[0m \u001b[38;5;66;03m# delete potentially existing file\u001b[39;00m\n\u001b[1;32m    175\u001b[0m \u001b[38;5;28;01mif\u001b[39;00m os\u001b[38;5;241m.\u001b[39mpath\u001b[38;5;241m.\u001b[39mexists(\u001b[38;5;124m'\u001b[39m\u001b[38;5;124m./tmp/citestResults_dummy.csv\u001b[39m\u001b[38;5;124m'\u001b[39m):\n",
      "File \u001b[0;32m~/git/IOD_Rpackage/fedci/evaluation.py:141\u001b[0m, in \u001b[0;36m_transform_dataframe\u001b[0;34m(df)\u001b[0m\n\u001b[1;32m    139\u001b[0m \u001b[38;5;28;01mdef\u001b[39;00m \u001b[38;5;21m_transform_dataframe\u001b[39m(df):\n\u001b[1;32m    140\u001b[0m     pandas2ri\u001b[38;5;241m.\u001b[39mactivate()\n\u001b[0;32m--> 141\u001b[0m     base \u001b[38;5;241m=\u001b[39m \u001b[43mimportr\u001b[49m\u001b[43m(\u001b[49m\u001b[38;5;124;43m'\u001b[39;49m\u001b[38;5;124;43mbase\u001b[39;49m\u001b[38;5;124;43m'\u001b[39;49m\u001b[43m)\u001b[49m\n\u001b[1;32m    142\u001b[0m     df_copy \u001b[38;5;241m=\u001b[39m df\u001b[38;5;241m.\u001b[39mcopy()\n\u001b[1;32m    143\u001b[0m     r_list \u001b[38;5;241m=\u001b[39m {}\u001b[38;5;66;03m#ro.ListVector({})\u001b[39;00m\n",
      "File \u001b[0;32m/opt/homebrew/Caskroom/miniforge/base/envs/promotion/lib/python3.10/site-packages/rpy2/robjects/packages.py:471\u001b[0m, in \u001b[0;36mimportr\u001b[0;34m(name, lib_loc, robject_translations, signature_translation, suppress_messages, on_conflict, symbol_r2python, symbol_resolve, data)\u001b[0m\n\u001b[1;32m    431\u001b[0m \u001b[38;5;28;01mdef\u001b[39;00m \u001b[38;5;21mimportr\u001b[39m(name: \u001b[38;5;28mstr\u001b[39m,\n\u001b[1;32m    432\u001b[0m             lib_loc\u001b[38;5;241m=\u001b[39m\u001b[38;5;28;01mNone\u001b[39;00m,\n\u001b[1;32m    433\u001b[0m             robject_translations\u001b[38;5;241m=\u001b[39m{},\n\u001b[0;32m   (...)\u001b[0m\n\u001b[1;32m    438\u001b[0m             symbol_resolve\u001b[38;5;241m=\u001b[39mdefault_symbol_resolve,\n\u001b[1;32m    439\u001b[0m             data\u001b[38;5;241m=\u001b[39m\u001b[38;5;28;01mTrue\u001b[39;00m):\n\u001b[1;32m    440\u001b[0m \u001b[38;5;250m    \u001b[39m\u001b[38;5;124;03m\"\"\" Import an R package.\u001b[39;00m\n\u001b[1;32m    441\u001b[0m \n\u001b[1;32m    442\u001b[0m \u001b[38;5;124;03m    Arguments:\u001b[39;00m\n\u001b[0;32m   (...)\u001b[0m\n\u001b[1;32m    468\u001b[0m \n\u001b[1;32m    469\u001b[0m \u001b[38;5;124;03m    \"\"\"\u001b[39;00m\n\u001b[0;32m--> 471\u001b[0m     \u001b[38;5;28;01mif\u001b[39;00m \u001b[38;5;129;01mnot\u001b[39;00m \u001b[43misinstalled\u001b[49m\u001b[43m(\u001b[49m\u001b[43mname\u001b[49m\u001b[43m,\u001b[49m\u001b[43m \u001b[49m\u001b[43mlib_loc\u001b[49m\u001b[38;5;241;43m=\u001b[39;49m\u001b[43mlib_loc\u001b[49m\u001b[43m)\u001b[49m:\n\u001b[1;32m    472\u001b[0m         \u001b[38;5;28;01mraise\u001b[39;00m PackageNotInstalledError(\n\u001b[1;32m    473\u001b[0m             \u001b[38;5;124m'\u001b[39m\u001b[38;5;124mThe R package \u001b[39m\u001b[38;5;124m\"\u001b[39m\u001b[38;5;132;01m%s\u001b[39;00m\u001b[38;5;124m\"\u001b[39m\u001b[38;5;124m is not installed.\u001b[39m\u001b[38;5;124m'\u001b[39m \u001b[38;5;241m%\u001b[39m name\n\u001b[1;32m    474\u001b[0m         )\n\u001b[1;32m    476\u001b[0m     \u001b[38;5;28;01mif\u001b[39;00m suppress_messages:\n",
      "File \u001b[0;32m/opt/homebrew/Caskroom/miniforge/base/envs/promotion/lib/python3.10/site-packages/rpy2/robjects/packages.py:427\u001b[0m, in \u001b[0;36misinstalled\u001b[0;34m(name, lib_loc)\u001b[0m\n\u001b[1;32m    417\u001b[0m \u001b[38;5;28;01mdef\u001b[39;00m \u001b[38;5;21misinstalled\u001b[39m(name: \u001b[38;5;28mstr\u001b[39m,\n\u001b[1;32m    418\u001b[0m                 lib_loc\u001b[38;5;241m=\u001b[39m\u001b[38;5;28;01mNone\u001b[39;00m):\n\u001b[1;32m    419\u001b[0m \u001b[38;5;250m    \u001b[39m\u001b[38;5;124;03m\"\"\"\u001b[39;00m\n\u001b[1;32m    420\u001b[0m \u001b[38;5;124;03m    Find whether an R package is installed\u001b[39;00m\n\u001b[1;32m    421\u001b[0m \u001b[38;5;124;03m    :param name: name of an R package\u001b[39;00m\n\u001b[0;32m   (...)\u001b[0m\n\u001b[1;32m    424\u001b[0m \u001b[38;5;124;03m    :rtype: a :class:`bool`\u001b[39;00m\n\u001b[1;32m    425\u001b[0m \u001b[38;5;124;03m    \"\"\"\u001b[39;00m\n\u001b[0;32m--> 427\u001b[0m     instapack \u001b[38;5;241m=\u001b[39m \u001b[43mInstalledPackages\u001b[49m\u001b[43m(\u001b[49m\u001b[43mlib_loc\u001b[49m\u001b[43m)\u001b[49m\n\u001b[1;32m    428\u001b[0m     \u001b[38;5;28;01mreturn\u001b[39;00m instapack\u001b[38;5;241m.\u001b[39misinstalled(name)\n",
      "File \u001b[0;32m/opt/homebrew/Caskroom/miniforge/base/envs/promotion/lib/python3.10/site-packages/rpy2/robjects/packages.py:386\u001b[0m, in \u001b[0;36mInstalledPackages.__init__\u001b[0;34m(self, lib_loc)\u001b[0m\n\u001b[1;32m    385\u001b[0m \u001b[38;5;28;01mdef\u001b[39;00m \u001b[38;5;21m__init__\u001b[39m(\u001b[38;5;28mself\u001b[39m, lib_loc\u001b[38;5;241m=\u001b[39m\u001b[38;5;28;01mNone\u001b[39;00m):\n\u001b[0;32m--> 386\u001b[0m     libraryiqr \u001b[38;5;241m=\u001b[39m \u001b[43m_library\u001b[49m\u001b[43m(\u001b[49m\u001b[38;5;241;43m*\u001b[39;49m\u001b[38;5;241;43m*\u001b[39;49m\u001b[43m{\u001b[49m\u001b[38;5;124;43m'\u001b[39;49m\u001b[38;5;124;43mlib.loc\u001b[39;49m\u001b[38;5;124;43m'\u001b[39;49m\u001b[43m:\u001b[49m\u001b[43m \u001b[49m\u001b[43mlib_loc\u001b[49m\u001b[43m}\u001b[49m\u001b[43m)\u001b[49m\n\u001b[1;32m    387\u001b[0m     lib_results_i \u001b[38;5;241m=\u001b[39m libraryiqr\u001b[38;5;241m.\u001b[39mdo_slot(\u001b[38;5;124m'\u001b[39m\u001b[38;5;124mnames\u001b[39m\u001b[38;5;124m'\u001b[39m)\u001b[38;5;241m.\u001b[39mindex(\u001b[38;5;124m'\u001b[39m\u001b[38;5;124mresults\u001b[39m\u001b[38;5;124m'\u001b[39m)\n\u001b[1;32m    388\u001b[0m     \u001b[38;5;28mself\u001b[39m\u001b[38;5;241m.\u001b[39mlib_results \u001b[38;5;241m=\u001b[39m libraryiqr[lib_results_i]\n",
      "File \u001b[0;32m/opt/homebrew/Caskroom/miniforge/base/envs/promotion/lib/python3.10/site-packages/rpy2/rinterface_lib/conversion.py:45\u001b[0m, in \u001b[0;36m_cdata_res_to_rinterface.<locals>._\u001b[0;34m(*args, **kwargs)\u001b[0m\n\u001b[1;32m     44\u001b[0m \u001b[38;5;28;01mdef\u001b[39;00m \u001b[38;5;21m_\u001b[39m(\u001b[38;5;241m*\u001b[39margs, \u001b[38;5;241m*\u001b[39m\u001b[38;5;241m*\u001b[39mkwargs):\n\u001b[0;32m---> 45\u001b[0m     cdata \u001b[38;5;241m=\u001b[39m \u001b[43mfunction\u001b[49m\u001b[43m(\u001b[49m\u001b[38;5;241;43m*\u001b[39;49m\u001b[43margs\u001b[49m\u001b[43m,\u001b[49m\u001b[43m \u001b[49m\u001b[38;5;241;43m*\u001b[39;49m\u001b[38;5;241;43m*\u001b[39;49m\u001b[43mkwargs\u001b[49m\u001b[43m)\u001b[49m\n\u001b[1;32m     46\u001b[0m     \u001b[38;5;66;03m# TODO: test cdata is of the expected CType\u001b[39;00m\n\u001b[1;32m     47\u001b[0m     \u001b[38;5;28;01mreturn\u001b[39;00m _cdata_to_rinterface(cdata)\n",
      "File \u001b[0;32m/opt/homebrew/Caskroom/miniforge/base/envs/promotion/lib/python3.10/site-packages/rpy2/rinterface.py:817\u001b[0m, in \u001b[0;36mSexpClosure.__call__\u001b[0;34m(self, *args, **kwargs)\u001b[0m\n\u001b[1;32m    810\u001b[0m     res \u001b[38;5;241m=\u001b[39m rmemory\u001b[38;5;241m.\u001b[39mprotect(\n\u001b[1;32m    811\u001b[0m         openrlib\u001b[38;5;241m.\u001b[39mrlib\u001b[38;5;241m.\u001b[39mR_tryEval(\n\u001b[1;32m    812\u001b[0m             call_r,\n\u001b[1;32m    813\u001b[0m             call_context\u001b[38;5;241m.\u001b[39m__sexp__\u001b[38;5;241m.\u001b[39m_cdata,\n\u001b[1;32m    814\u001b[0m             error_occured)\n\u001b[1;32m    815\u001b[0m     )\n\u001b[1;32m    816\u001b[0m     \u001b[38;5;28;01mif\u001b[39;00m error_occured[\u001b[38;5;241m0\u001b[39m]:\n\u001b[0;32m--> 817\u001b[0m         \u001b[38;5;28;01mraise\u001b[39;00m embedded\u001b[38;5;241m.\u001b[39mRRuntimeError(_rinterface\u001b[38;5;241m.\u001b[39m_geterrmessage())\n\u001b[1;32m    818\u001b[0m \u001b[38;5;28;01mreturn\u001b[39;00m res\n",
      "\u001b[0;31mRRuntimeError\u001b[0m: StopIteration"
     ]
    }
   ],
   "source": [
    "for configuration in tqdm(configurations):\n",
    "    run_configured_test(configuration)"
   ]
  },
  {
   "cell_type": "code",
   "execution_count": 11,
   "metadata": {},
   "outputs": [
    {
     "data": {
      "application/vnd.jupyter.widget-view+json": {
       "model_id": "f4a9de5169f345cfad6907e40a8d5a04",
       "version_major": 2,
       "version_minor": 0
      },
      "text/plain": [
       "  0%|          | 0/6000 [00:00<?, ?it/s]"
      ]
     },
     "metadata": {},
     "output_type": "display_data"
    },
    {
     "ename": "",
     "evalue": "",
     "output_type": "error",
     "traceback": [
      "\u001b[1;31mDer Kernel ist beim Ausführen von Code in der aktuellen Zelle oder einer vorherigen Zelle abgestürzt. \n",
      "\u001b[1;31mBitte überprüfen Sie den Code in der/den Zelle(n), um eine mögliche Fehlerursache zu identifizieren. \n",
      "\u001b[1;31mKlicken Sie <a href='https://aka.ms/vscodeJupyterKernelCrash'>hier</a>, um weitere Informationen zu erhalten. \n",
      "\u001b[1;31mWeitere Informationen finden Sie unter Jupyter <a href='command:jupyter.viewOutput'>Protokoll</a>."
     ]
    }
   ],
   "source": [
    "thread_map(run_configured_test, configurations, max_workers=1, chunksize=10)"
   ]
  },
  {
   "cell_type": "code",
   "execution_count": 10,
   "metadata": {},
   "outputs": [
    {
     "data": {
      "text/html": [
       "<div><style>\n",
       ".dataframe > thead > tr,\n",
       ".dataframe > tbody > tr {\n",
       "  text-align: right;\n",
       "  white-space: pre-wrap;\n",
       "}\n",
       "</style>\n",
       "<small>shape: (5, 2)</small><table border=\"1\" class=\"dataframe\"><thead><tr><th>X</th><th>Y</th></tr><tr><td>f64</td><td>i32</td></tr></thead><tbody><tr><td>-0.227406</td><td>4</td></tr><tr><td>-0.311773</td><td>4</td></tr><tr><td>0.35271</td><td>4</td></tr><tr><td>-0.304975</td><td>1</td></tr><tr><td>-0.275558</td><td>4</td></tr></tbody></table></div>"
      ],
      "text/plain": [
       "shape: (5, 2)\n",
       "┌───────────┬─────┐\n",
       "│ X         ┆ Y   │\n",
       "│ ---       ┆ --- │\n",
       "│ f64       ┆ i32 │\n",
       "╞═══════════╪═════╡\n",
       "│ -0.227406 ┆ 4   │\n",
       "│ -0.311773 ┆ 4   │\n",
       "│ 0.35271   ┆ 4   │\n",
       "│ -0.304975 ┆ 1   │\n",
       "│ -0.275558 ┆ 4   │\n",
       "└───────────┴─────┘"
      ]
     },
     "execution_count": 10,
     "metadata": {},
     "output_type": "execute_result"
    }
   ],
   "source": [
    "nc931.reset()\n",
    "data = nc931.get(1000)\n",
    "data.head()"
   ]
  },
  {
   "cell_type": "code",
   "execution_count": 11,
   "metadata": {},
   "outputs": [
    {
     "data": {
      "text/html": [
       "<div><style>\n",
       ".dataframe > thead > tr,\n",
       ".dataframe > tbody > tr {\n",
       "  text-align: right;\n",
       "  white-space: pre-wrap;\n",
       "}\n",
       "</style>\n",
       "<small>shape: (4, 2)</small><table border=\"1\" class=\"dataframe\"><thead><tr><th>Y</th><th>count</th></tr><tr><td>i32</td><td>u32</td></tr></thead><tbody><tr><td>4</td><td>280</td></tr><tr><td>2</td><td>260</td></tr><tr><td>1</td><td>240</td></tr><tr><td>3</td><td>220</td></tr></tbody></table></div>"
      ],
      "text/plain": [
       "shape: (4, 2)\n",
       "┌─────┬───────┐\n",
       "│ Y   ┆ count │\n",
       "│ --- ┆ ---   │\n",
       "│ i32 ┆ u32   │\n",
       "╞═════╪═══════╡\n",
       "│ 4   ┆ 280   │\n",
       "│ 2   ┆ 260   │\n",
       "│ 1   ┆ 240   │\n",
       "│ 3   ┆ 220   │\n",
       "└─────┴───────┘"
      ]
     },
     "execution_count": 11,
     "metadata": {},
     "output_type": "execute_result"
    }
   ],
   "source": [
    "data['Y'].value_counts()"
   ]
  },
  {
   "cell_type": "code",
   "execution_count": 14,
   "metadata": {},
   "outputs": [
    {
     "name": "stdout",
     "output_type": "stream",
     "text": [
      "Test - predicting X, llf: -1431.1882365819974, deviance: 1024.8019831480065\n",
      "\t- RegressionTest X ~ 1 - beta: [0.04861685]\n",
      "Test - predicting Y, llf: -1382.2855642311126, deviance: 2764.5711284622253\n",
      "\t- RegressionTest Y__ord__1 ~ 1 - beta: [-1.15267951]\n",
      "\t- RegressionTest Y__ord__2 ~ 1 - beta: [0.]\n",
      "\t- RegressionTest Y__ord__3 ~ 1 - beta: [0.94446161]\n",
      "Test - predicting X, llf: -1430.7137990961673, deviance: 1023.8300353966627\n",
      "\t- RegressionTest X ~ Y, 1 - beta: [-0.02746604  0.1183806 ]\n",
      "Test - predicting Y, llf: -1380.6144762102595, deviance: 2761.228952420519\n",
      "\t- RegressionTest Y__ord__1 ~ X, 1 - beta: [ 0.10396509 -1.16102152]\n",
      "\t- RegressionTest Y__ord__2 ~ X, 1 - beta: [ 0.07402774 -0.00339415]\n",
      "\t- RegressionTest Y__ord__3 ~ X, 1 - beta: [-0.00905071  0.94492286]\n"
     ]
    },
    {
     "data": {
      "text/plain": [
       "[(SymmetricLikelihoodRatioTest - v0: X, v1: Y, conditioning set: [], p: 0.3418\n",
       "  \t- LikelihoodRatioTest - y: X, x: Y, S: [], p: 0.33\n",
       "  \t- LikelihoodRatioTest - y: Y, x: X, S: [], p: 0.3418,\n",
       "  EmptyLikelihoodRatioTest - v0: X, v1: Y, conditioning set: [], p: 0.353)]"
      ]
     },
     "execution_count": 14,
     "metadata": {},
     "output_type": "execute_result"
    }
   ],
   "source": [
    "run_test_on_data(data,\n",
    "                 'L-O Test',\n",
    "                 1,\n",
    "                 './experiments/base',\n",
    "                 'tests.ndjson',\n",
    "                 write_to_disk=False\n",
    "                 )"
   ]
  },
  {
   "cell_type": "code",
   "execution_count": 20,
   "metadata": {},
   "outputs": [],
   "source": [
    "import statsmodels.api as sm\n",
    "from statsmodels.discrete.discrete_model import MNLogit\n",
    "\n",
    "def run_multinomial_regression(df, X_cols, y_col):\n",
    "    \"\"\"\n",
    "    Run multinomial logistic regression and return key statistics\n",
    "    \n",
    "    Parameters:\n",
    "    df (pandas.DataFrame): Input dataframe\n",
    "    X_cols (list): List of predictor column names\n",
    "    y_col (str): Name of target variable column\n",
    "    \n",
    "    Returns:\n",
    "    dict: Dictionary containing coefficients, log-likelihood, and deviance\n",
    "    \"\"\"\n",
    "    # Prepare X and y\n",
    "    X = df[X_cols]\n",
    "    X = sm.add_constant(X)  # Add intercept term\n",
    "    y = df[y_col]\n",
    "    \n",
    "    # Fit the model\n",
    "    model = MNLogit(y, X)\n",
    "    results = model.fit()\n",
    "    \n",
    "    # Get results\n",
    "    output = {\n",
    "        'coefficients': results.params,\n",
    "        'log_likelihood': results.llf,\n",
    "        #'deviance': results.deviance\n",
    "    }\n",
    "    \n",
    "    return output"
   ]
  },
  {
   "cell_type": "code",
   "execution_count": 61,
   "metadata": {},
   "outputs": [
    {
     "name": "stdout",
     "output_type": "stream",
     "text": [
      "Test - predicting X, llf: -1407.3112454085026, deviance: 977.0137282624828\n",
      "\t- RegressionTest X ~ 1 - beta: [0.00288358]\n",
      "Test - predicting Y, llf: -3909.2414872674935, deviance: -15207.367955405467\n",
      "\t- RegressionTest Y__ord__1 ~ 1 - beta: [1.15267951]\n",
      "\t- RegressionTest Y__ord__2 ~ 1 - beta: [0.]\n",
      "\t- RegressionTest Y__ord__3 ~ 1 - beta: [-1.20831121]\n",
      "Test - predicting X, llf: -1407.3084137468425, deviance: 977.0081951335196\n",
      "\t- RegressionTest X ~ Y, 1 - beta: [ 0.0021564  -0.00248587]\n",
      "Test - predicting Y, llf: -3811.629967267992, deviance: -15402.59099540447\n",
      "\t- RegressionTest Y__ord__1 ~ X, 1 - beta: [0.05151311 1.15298192]\n",
      "\t- RegressionTest Y__ord__2 ~ X, 1 - beta: [ 1.50165821e-02 -5.20991681e-05]\n",
      "\t- RegressionTest Y__ord__3 ~ X, 1 - beta: [-0.07387994 -1.20984679]\n"
     ]
    }
   ],
   "source": [
    "test_result = run_test_on_data(data,\n",
    "                 'L-O Test',\n",
    "                 1,\n",
    "                 './experiments/base',\n",
    "                 'tests.ndjson',\n",
    "                 write_to_disk=False\n",
    "                 )"
   ]
  },
  {
   "cell_type": "code",
   "execution_count": 17,
   "metadata": {},
   "outputs": [],
   "source": [
    "from statsmodels.genmod.generalized_linear_model import GLMResults\n",
    "from statsmodels.genmod.families import family\n",
    "import statsmodels.api as sm\n",
    "\n",
    "def get_regression_model(y, X, glm_family):\n",
    "    model = sm.GLM(y, X, family=glm_family)\n",
    "    result = model.fit()#GLMResults(model, normalized_cov_params=None, scale=None)\n",
    "    return result\n",
    "def run_model(y, X, model):\n",
    "    llf = model.llf\n",
    "    deviance = model.deviance\n",
    "    return {'llf': llf, 'deviance': deviance, 'beta': model.params}\n",
    "\n",
    "def run_regression(y, X, glm_family):\n",
    "    model = get_regression_model(y, X, glm_family)\n",
    "    return run_model(y, X, model)"
   ]
  },
  {
   "cell_type": "code",
   "execution_count": 18,
   "metadata": {},
   "outputs": [
    {
     "name": "stdout",
     "output_type": "stream",
     "text": [
      "1\n",
      "{'llf': -550.1911087235337, 'deviance': 1100.3822174470674, 'beta': array([-1.15996476,  0.09766138])}\n",
      "2\n",
      "{'llf': -692.4460801867067, 'deviance': 1384.8921603734134, 'beta': array([-0.00360059,  0.07405453])}\n",
      "3\n",
      "{'llf': -592.9456537689102, 'deviance': 1185.8913075378202, 'beta': array([ 0.9448971 , -0.00861347])}\n"
     ]
    }
   ],
   "source": [
    "r = {}\n",
    "for i in range(1,data['Y'].n_unique()):\n",
    "    y = (data.to_pandas()['Y'] <= i).to_numpy()\n",
    "\n",
    "    X = data.to_pandas()[['X']].to_numpy()\n",
    "    X = sm.add_constant(X)\n",
    "\n",
    "    r[i] = run_regression(y, X, family.Binomial())\n",
    "for i, res in r.items():\n",
    "    print(i)\n",
    "    print(res)"
   ]
  },
  {
   "cell_type": "code",
   "execution_count": 19,
   "metadata": {},
   "outputs": [
    {
     "name": "stdout",
     "output_type": "stream",
     "text": [
      "Test - predicting X, llf: -1431.1882365819974, deviance: 1024.8019831480065\n",
      "\t- RegressionTest X ~ 1 - beta: [0.04861685]\n",
      "Test - predicting Y, llf: -1382.2855642311126, deviance: 2764.5711284622253\n",
      "\t- RegressionTest Y__ord__1 ~ 1 - beta: [-1.15267951]\n",
      "\t- RegressionTest Y__ord__2 ~ 1 - beta: [0.]\n",
      "\t- RegressionTest Y__ord__3 ~ 1 - beta: [0.94446161]\n",
      "Test - predicting X, llf: -1430.7137990961673, deviance: 1023.8300353966627\n",
      "\t- RegressionTest X ~ Y, 1 - beta: [-0.02746604  0.1183806 ]\n",
      "Test - predicting Y, llf: -1380.6144762102595, deviance: 2761.228952420519\n",
      "\t- RegressionTest Y__ord__1 ~ X, 1 - beta: [ 0.10396509 -1.16102152]\n",
      "\t- RegressionTest Y__ord__2 ~ X, 1 - beta: [ 0.07402774 -0.00339415]\n",
      "\t- RegressionTest Y__ord__3 ~ X, 1 - beta: [-0.00905071  0.94492286]\n"
     ]
    }
   ],
   "source": [
    "test_result = run_test_on_data(data,\n",
    "                 'L-O Test',\n",
    "                 1,\n",
    "                 './experiments/base',\n",
    "                 'test_ordinal.ndjson',\n",
    "                 write_to_disk=True\n",
    "                 )"
   ]
  },
  {
   "cell_type": "code",
   "execution_count": 141,
   "metadata": {},
   "outputs": [
    {
     "name": "stdout",
     "output_type": "stream",
     "text": [
      "a llf: 0, sat_llf: 0, null_llf: 0\n",
      "b llf: -22104.816892742834, sat_llf: 0.0, null_llf: -285.62374568218854\n",
      "c llf: -22797.96407330278, sat_llf: 0.0, null_llf: -650.2427163024653\n",
      "d llf: -23047.49705830436, sat_llf: 0.0, null_llf: -1018.0371654139785\n",
      "a llf: 0, sat_llf: 0, null_llf: 0\n",
      "b llf: -751.5016181926129, sat_llf: 0.0, null_llf: -285.62374568218854\n",
      "c llf: -1378.4956651728376, sat_llf: 0.0, null_llf: -650.2427163024653\n",
      "d llf: -1742.760019016788, sat_llf: 0.0, null_llf: -1018.0371654139785\n",
      "a llf: 0, sat_llf: 0, null_llf: 0\n",
      "b llf: -729.3394621431806, sat_llf: 0.0, null_llf: -285.62374568218854\n",
      "c llf: -1356.2089240197845, sat_llf: 0.0, null_llf: -650.2427163024653\n",
      "d llf: -1723.9958980435028, sat_llf: 0.0, null_llf: -1018.0371654139785\n",
      "a llf: 0, sat_llf: 0, null_llf: 0\n",
      "b llf: -729.237944406821, sat_llf: 0.0, null_llf: -285.62374568218854\n",
      "c llf: -1356.1074019792472, sat_llf: 0.0, null_llf: -650.2427163024653\n",
      "d llf: -1723.9018510568083, sat_llf: 0.0, null_llf: -1018.0371654139785\n",
      "a llf: 0, sat_llf: 0, null_llf: 0\n",
      "b llf: -729.2379412405536, sat_llf: 0.0, null_llf: -285.62374568218854\n",
      "c llf: -1356.10739881298, sat_llf: 0.0, null_llf: -650.2427163024653\n",
      "d llf: -1723.901847924493, sat_llf: 0.0, null_llf: -1018.0371654139785\n",
      "a llf: 0, sat_llf: 0, null_llf: 0\n",
      "b llf: -22104.816892742834, sat_llf: 0.0, null_llf: -285.62374568218854\n",
      "c llf: -22797.96407330278, sat_llf: 0.0, null_llf: -650.2427163024653\n",
      "d llf: -23047.49705830436, sat_llf: 0.0, null_llf: -1018.0371654139785\n",
      "a llf: 0, sat_llf: 0, null_llf: 0\n",
      "b llf: -752.0182061679084, sat_llf: 0.0, null_llf: -285.62374568218854\n",
      "c llf: -1378.668497857002, sat_llf: 0.0, null_llf: -650.2427163024653\n",
      "d llf: -1742.9222911158752, sat_llf: 0.0, null_llf: -1018.0371654139785\n",
      "a llf: 0, sat_llf: 0, null_llf: 0\n",
      "b llf: -729.7296077612185, sat_llf: 0.0, null_llf: -285.62374568218854\n",
      "c llf: -1356.2462674359576, sat_llf: 0.0, null_llf: -650.2427163024653\n",
      "d llf: -1724.0255942178192, sat_llf: 0.0, null_llf: -1018.0371654139785\n",
      "a llf: 0, sat_llf: 0, null_llf: 0\n",
      "b llf: -729.6242547573277, sat_llf: 0.0, null_llf: -285.62374568218854\n",
      "c llf: -1356.140929480447, sat_llf: 0.0, null_llf: -650.2427163024653\n",
      "d llf: -1723.9278179916967, sat_llf: 0.0, null_llf: -1018.0371654139785\n",
      "a llf: 0, sat_llf: 0, null_llf: 0\n",
      "b llf: -729.6242003322384, sat_llf: 0.0, null_llf: -285.62374568218854\n",
      "c llf: -1356.1408746500415, sat_llf: 0.0, null_llf: -650.2427163024653\n",
      "d llf: -1723.927763767201, sat_llf: 0.0, null_llf: -1018.0371654139785\n",
      "a llf: 0, sat_llf: 0, null_llf: 0\n",
      "b llf: -729.6242010933179, sat_llf: 0.0, null_llf: -285.62374568218854\n",
      "c llf: -1356.1408754197641, sat_llf: 0.0, null_llf: -650.2427163024653\n",
      "d llf: -1723.9277645418745, sat_llf: 0.0, null_llf: -1018.0371654139785\n",
      "Test - predicting X, llf: -1414.8961610792317, deviance: 991.9478493976685\n",
      "\t- RegressionTest X ~ 1 - beta: [0.01714819]\n",
      "Test - predicting Y, llf: -1723.901847924493, deviance: -1411.729365021029\n",
      "\t- RegressionTest Y__ord__1 ~ 1 - beta: [-0.7537718]\n",
      "\t- RegressionTest Y__ord__2 ~ 1 - beta: [0.57536414]\n",
      "Test - predicting X, llf: -1414.7353282228955, deviance: 991.6288250980981\n",
      "\t- RegressionTest X ~ Y, 1 - beta: [-0.02168548  0.06138656]\n",
      "Test - predicting Y, llf: -1723.9277645418745, deviance: -1411.7811982557919\n",
      "\t- RegressionTest Y__ord__1 ~ X, 1 - beta: [ 0.05601631 -0.75523983]\n",
      "\t- RegressionTest Y__ord__2 ~ X, 1 - beta: [0.01045653 0.57520093]\n",
      "T0 (-1723.901847924493) fitted better than T1 (-1723.9277645418745) for y: Y, x: X, S: []\n"
     ]
    }
   ],
   "source": [
    "test_result = run_test(nc931,\n",
    "                 1000,\n",
    "                 1,\n",
    "                 './experiments/base',\n",
    "                 'test_ordinal.ndjson',\n",
    "                 write_to_disk=True\n",
    "                 )"
   ]
  },
  {
   "cell_type": "code",
   "execution_count": null,
   "metadata": {},
   "outputs": [],
   "source": []
  }
 ],
 "metadata": {
  "kernelspec": {
   "display_name": "promotion",
   "language": "python",
   "name": "python3"
  },
  "language_info": {
   "codemirror_mode": {
    "name": "ipython",
    "version": 3
   },
   "file_extension": ".py",
   "mimetype": "text/x-python",
   "name": "python",
   "nbconvert_exporter": "python",
   "pygments_lexer": "ipython3",
   "version": "3.10.14"
  }
 },
 "nbformat": 4,
 "nbformat_minor": 2
}
