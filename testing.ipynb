{
 "cells": [
  {
   "cell_type": "code",
   "execution_count": 1,
   "metadata": {},
   "outputs": [],
   "source": [
    "%load_ext autoreload\n",
    "%autoreload 2"
   ]
  },
  {
   "cell_type": "code",
   "execution_count": 2,
   "metadata": {},
   "outputs": [],
   "source": [
    "import dgp\n",
    "from fedci import run_configured_test\n",
    "from tqdm.contrib.concurrent import thread_map"
   ]
  },
  {
   "cell_type": "code",
   "execution_count": 3,
   "metadata": {},
   "outputs": [],
   "source": [
    "## L-B CASE\n",
    "# Unc. Indep. Case\n",
    "node1 = dgp.GenericNode('X', node_restrictions=[dgp.Node])\n",
    "node2 = dgp.GenericNode('Y', node_restrictions=[dgp.BinaryNode])\n",
    "nc911 = dgp.NodeCollection('L-B Unc. Indep.', [node1, node2])\n",
    "# Unc. Dep. Case\n",
    "node1 = dgp.GenericNode('X', node_restrictions=[dgp.Node])\n",
    "node2 = dgp.GenericNode('Y', node_restrictions=[dgp.BinaryNode])\n",
    "nc912 = dgp.NodeCollection('L-B Unc. Dep.', [node1, node2])\n",
    "# Con. Dep. Case given Z\n",
    "node1 = dgp.GenericNode('X', node_restrictions=[dgp.Node])\n",
    "node2 = dgp.GenericNode('Y', node_restrictions=[dgp.BinaryNode])\n",
    "node3 = dgp.GenericNode('Z', parents=[node1, node2], node_restrictions=[dgp.Node])\n",
    "nc913 = dgp.NodeCollection('L-B Con. Dep.', [node1, node2, node3])\n",
    "# Con. Indep. Case given Z\n",
    "node1 = dgp.GenericNode('Z', node_restrictions=[dgp.Node])\n",
    "node2 = dgp.GenericNode('X', parents=[node1], node_restrictions=[dgp.Node])\n",
    "node3 = dgp.GenericNode('Y', parents=[node1], node_restrictions=[dgp.BinaryNode])\n",
    "nc914 = dgp.NodeCollection('L-B Con. Indep.', [node1, node2, node3])\n",
    "\n",
    "## L-M CASE\n",
    "# Unc. Indep. Case\n",
    "node1 = dgp.GenericNode('X', node_restrictions=[dgp.Node])\n",
    "node2 = dgp.GenericNode('Y', node_restrictions=[dgp.CategoricalNode], min_categories=3)\n",
    "nc921 = dgp.NodeCollection('L-M Unc. Indep.', [node1, node2])\n",
    "# Unc. Dep. Case\n",
    "node1 = dgp.GenericNode('X', node_restrictions=[dgp.Node])\n",
    "node2 = dgp.GenericNode('Y', node_restrictions=[dgp.CategoricalNode], min_categories=3)\n",
    "nc922 = dgp.NodeCollection('L-M Unc. Dep.', [node1, node2])\n",
    "# Con. Dep. Case given Z\n",
    "node1 = dgp.GenericNode('X', node_restrictions=[dgp.Node])\n",
    "node2 = dgp.GenericNode('Y', node_restrictions=[dgp.CategoricalNode], min_categories=3)\n",
    "node3 = dgp.GenericNode('Z', parents=[node1, node2], node_restrictions=[dgp.Node])\n",
    "nc923 = dgp.NodeCollection('L-M Con. Dep.', [node1, node2, node3])\n",
    "# Con. Indep. Case given Z\n",
    "node1 = dgp.GenericNode('Z', node_restrictions=[dgp.Node])\n",
    "node2 = dgp.GenericNode('X', parents=[node1], node_restrictions=[dgp.Node])\n",
    "node3 = dgp.GenericNode('Y', parents=[node1], node_restrictions=[dgp.CategoricalNode], min_categories=3)\n",
    "nc924 = dgp.NodeCollection('L-M Con. Indep.', [node1, node2, node3])\n",
    "\n",
    "## L-O CASE\n",
    "# Unc. Indep. Case\n",
    "node1 = dgp.GenericNode('X', node_restrictions=[dgp.Node])\n",
    "node2 = dgp.GenericNode('Y', node_restrictions=[dgp.OrdinalNode], min_categories=3)\n",
    "nc931 = dgp.NodeCollection('L-O Unc. Indep.', [node1, node2])\n",
    "# Unc. Dep. Case\n",
    "node1 = dgp.GenericNode('X', node_restrictions=[dgp.Node])\n",
    "node2 = dgp.GenericNode('Y', node_restrictions=[dgp.OrdinalNode], min_categories=3)\n",
    "nc932 = dgp.NodeCollection('L-O Unc. Dep.', [node1, node2])\n",
    "# Con. Dep. Case given Z\n",
    "node1 = dgp.GenericNode('X', node_restrictions=[dgp.Node])\n",
    "node2 = dgp.GenericNode('Y', node_restrictions=[dgp.OrdinalNode], min_categories=3)\n",
    "node3 = dgp.GenericNode('Z', parents=[node1, node2], node_restrictions=[dgp.Node])\n",
    "nc933 = dgp.NodeCollection('L-O Con. Dep.', [node1, node2, node3])\n",
    "# Con. Indep. Case given Z\n",
    "node1 = dgp.GenericNode('Z', node_restrictions=[dgp.Node])\n",
    "node2 = dgp.GenericNode('X', parents=[node1], node_restrictions=[dgp.Node])\n",
    "node3 = dgp.GenericNode('Y', parents=[node1], node_restrictions=[dgp.OrdinalNode], min_categories=3)\n",
    "nc934 = dgp.NodeCollection('L-O Con. Indep.', [node1, node2, node3])\n",
    "\n",
    "## B-O CASE\n",
    "# Unc. Indep. Case\n",
    "node1 = dgp.GenericNode('X', node_restrictions=[dgp.BinaryNode])\n",
    "node2 = dgp.GenericNode('Y', node_restrictions=[dgp.OrdinalNode], min_categories=3)\n",
    "nc941 = dgp.NodeCollection('B-O Unc. Indep.', [node1, node2])\n",
    "# Unc. Dep. Case\n",
    "node1 = dgp.GenericNode('X', node_restrictions=[dgp.BinaryNode])\n",
    "node2 = dgp.GenericNode('Y', node_restrictions=[dgp.OrdinalNode], min_categories=3)\n",
    "nc942 = dgp.NodeCollection('B-O Unc. Dep.', [node1, node2])\n",
    "# Con. Dep. Case given Z\n",
    "node1 = dgp.GenericNode('X', node_restrictions=[dgp.BinaryNode])\n",
    "node2 = dgp.GenericNode('Y', node_restrictions=[dgp.OrdinalNode], min_categories=3)\n",
    "node3 = dgp.GenericNode('Z', parents=[node1, node2], node_restrictions=[dgp.Node])\n",
    "nc943 = dgp.NodeCollection('B-O Con. Dep.', [node1, node2, node3])\n",
    "# Con. Indep. Case given Z\n",
    "node1 = dgp.GenericNode('Z', node_restrictions=[dgp.Node])\n",
    "node2 = dgp.GenericNode('X', parents=[node1], node_restrictions=[dgp.BinaryNode])\n",
    "node3 = dgp.GenericNode('Y', parents=[node1], node_restrictions=[dgp.OrdinalNode], min_categories=3)\n",
    "nc944 = dgp.NodeCollection('B-O Con. Indep.', [node1, node2, node3])\n",
    "\n",
    "## M-O CASE\n",
    "# Unc. Indep. Case\n",
    "node1 = dgp.GenericNode('X', node_restrictions=[dgp.CategoricalNode], min_categories=3)\n",
    "node2 = dgp.GenericNode('Y', node_restrictions=[dgp.OrdinalNode], min_categories=3)\n",
    "nc951 = dgp.NodeCollection('M-O Unc. Indep.', [node1, node2])\n",
    "# Unc. Dep. Case\n",
    "node1 = dgp.GenericNode('X', node_restrictions=[dgp.CategoricalNode], min_categories=3)\n",
    "node2 = dgp.GenericNode('Y', node_restrictions=[dgp.OrdinalNode], min_categories=3)\n",
    "nc952 = dgp.NodeCollection('M-O Unc. Dep.', [node1, node2])\n",
    "# Con. Dep. Case given Z\n",
    "node1 = dgp.GenericNode('X', node_restrictions=[dgp.CategoricalNode], min_categories=3)\n",
    "node2 = dgp.GenericNode('Y', node_restrictions=[dgp.OrdinalNode], min_categories=3)\n",
    "node3 = dgp.GenericNode('Z', parents=[node1, node2], node_restrictions=[dgp.Node])\n",
    "nc953 = dgp.NodeCollection('M-O Con. Dep.', [node1, node2, node3])\n",
    "# Con. Indep. Case given Z\n",
    "node1 = dgp.GenericNode('Z', node_restrictions=[dgp.Node])\n",
    "node2 = dgp.GenericNode('X', parents=[node1], node_restrictions=[dgp.CategoricalNode], min_categories=3)\n",
    "node3 = dgp.GenericNode('Y', parents=[node1], node_restrictions=[dgp.OrdinalNode], min_categories=3)\n",
    "nc954 = dgp.NodeCollection('M-O Con. Indep.', [node1, node2, node3])\n",
    "\n",
    "\n",
    "## L-L CASE\n",
    "# Unc. Indep. Case\n",
    "node1 = dgp.GenericNode('X', node_restrictions=[dgp.Node])\n",
    "node2 = dgp.GenericNode('Y', node_restrictions=[dgp.Node])\n",
    "nc961 = dgp.NodeCollection('L-L Unc. Indep.', [node1, node2])\n",
    "# Unc. Dep. Case\n",
    "node1 = dgp.GenericNode('X', node_restrictions=[dgp.Node])\n",
    "node2 = dgp.GenericNode('Y', node_restrictions=[dgp.Node])\n",
    "nc962 = dgp.NodeCollection('L-L Unc. Dep.', [node1, node2])\n",
    "# Con. Dep. Case given Z\n",
    "node1 = dgp.GenericNode('X', node_restrictions=[dgp.Node])\n",
    "node2 = dgp.GenericNode('Y', node_restrictions=[dgp.Node])\n",
    "node3 = dgp.GenericNode('Z', parents=[node1, node2], node_restrictions=[dgp.Node])\n",
    "nc963 = dgp.NodeCollection('L-L Con. Dep.', [node1, node2, node3])\n",
    "# Con. Indep. Case given Z\n",
    "node1 = dgp.GenericNode('Z', node_restrictions=[dgp.Node])\n",
    "node2 = dgp.GenericNode('X', parents=[node1], node_restrictions=[dgp.Node])\n",
    "node3 = dgp.GenericNode('Y', parents=[node1], node_restrictions=[dgp.Node])\n",
    "nc964 = dgp.NodeCollection('L-L Con. Indep.', [node1, node2, node3])"
   ]
  },
  {
   "cell_type": "code",
   "execution_count": 8,
   "metadata": {},
   "outputs": [],
   "source": [
    "import itertools\n",
    "\n",
    "node_collections = [\n",
    "    nc911, nc912, nc913, nc914,\n",
    "    nc921, nc922, nc923, nc924,\n",
    "    nc931, nc932, nc933, nc934,\n",
    "    nc941, nc942, nc943, nc944,\n",
    "    nc951, nc952, nc953, nc954,\n",
    "]\n",
    "num_samples = [\n",
    "    #100, 200, 300, 400,\n",
    "    500, #600, 700, 800,\n",
    "    #900, 1000, 1250, 1500,\n",
    "    #1750, 2000, 2500, 3000\n",
    "]\n",
    "num_clients = [\n",
    "    1, 3, 5\n",
    "]\n",
    "\n",
    "file_info = ('./experiments/rewrite', 'test.ndjson')\n",
    "\n",
    "configurations = list(itertools.product(node_collections, num_samples, num_clients))\n",
    "configurations = [c + file_info for c in configurations]\n",
    "\n",
    "num_runs = 100 \n",
    "\n",
    "configurations *= num_runs"
   ]
  },
  {
   "cell_type": "code",
   "execution_count": 9,
   "metadata": {},
   "outputs": [],
   "source": [
    "#for i,configuration in enumerate(configurations):\n",
    "#    run_configured_test(configuration)"
   ]
  },
  {
   "cell_type": "code",
   "execution_count": 11,
   "metadata": {},
   "outputs": [
    {
     "data": {
      "application/vnd.jupyter.widget-view+json": {
       "model_id": "f4a9de5169f345cfad6907e40a8d5a04",
       "version_major": 2,
       "version_minor": 0
      },
      "text/plain": [
       "  0%|          | 0/6000 [00:00<?, ?it/s]"
      ]
     },
     "metadata": {},
     "output_type": "display_data"
    },
    {
     "ename": "",
     "evalue": "",
     "output_type": "error",
     "traceback": [
      "\u001b[1;31mDer Kernel ist beim Ausführen von Code in der aktuellen Zelle oder einer vorherigen Zelle abgestürzt. \n",
      "\u001b[1;31mBitte überprüfen Sie den Code in der/den Zelle(n), um eine mögliche Fehlerursache zu identifizieren. \n",
      "\u001b[1;31mKlicken Sie <a href='https://aka.ms/vscodeJupyterKernelCrash'>hier</a>, um weitere Informationen zu erhalten. \n",
      "\u001b[1;31mWeitere Informationen finden Sie unter Jupyter <a href='command:jupyter.viewOutput'>Protokoll</a>."
     ]
    }
   ],
   "source": [
    "thread_map(run_configured_test, configurations, max_workers=1, chunksize=10)"
   ]
  },
  {
   "cell_type": "code",
   "execution_count": null,
   "metadata": {},
   "outputs": [],
   "source": []
  }
 ],
 "metadata": {
  "kernelspec": {
   "display_name": "promotion",
   "language": "python",
   "name": "python3"
  },
  "language_info": {
   "codemirror_mode": {
    "name": "ipython",
    "version": 3
   },
   "file_extension": ".py",
   "mimetype": "text/x-python",
   "name": "python",
   "nbconvert_exporter": "python",
   "pygments_lexer": "ipython3",
   "version": "3.10.14"
  }
 },
 "nbformat": 4,
 "nbformat_minor": 2
}
