{
 "cells": [
  {
   "cell_type": "code",
   "execution_count": 1,
   "metadata": {},
   "outputs": [],
   "source": [
    "%load_ext autoreload\n",
    "%autoreload 2"
   ]
  },
  {
   "cell_type": "code",
   "execution_count": 2,
   "metadata": {},
   "outputs": [],
   "source": [
    "import dgp\n",
    "from fedci import run_test, run_configured_test, run_test_on_data\n",
    "from tqdm.contrib.concurrent import thread_map"
   ]
  },
  {
   "cell_type": "code",
   "execution_count": 3,
   "metadata": {},
   "outputs": [],
   "source": [
    "## L-B CASE\n",
    "# Unc. Indep. Case\n",
    "node1 = dgp.GenericNode('X', node_restrictions=[dgp.Node])\n",
    "node2 = dgp.GenericNode('Y', node_restrictions=[dgp.BinaryNode])\n",
    "nc911 = dgp.NodeCollection('L-B Unc. Indep.', [node1, node2])\n",
    "# Unc. Dep. Case\n",
    "node1 = dgp.GenericNode('X', node_restrictions=[dgp.Node])\n",
    "node2 = dgp.GenericNode('Y', node_restrictions=[dgp.BinaryNode])\n",
    "nc912 = dgp.NodeCollection('L-B Unc. Dep.', [node1, node2])\n",
    "# Con. Dep. Case given Z\n",
    "node1 = dgp.GenericNode('X', node_restrictions=[dgp.Node])\n",
    "node2 = dgp.GenericNode('Y', node_restrictions=[dgp.BinaryNode])\n",
    "node3 = dgp.GenericNode('Z', parents=[node1, node2], node_restrictions=[dgp.Node])\n",
    "nc913 = dgp.NodeCollection('L-B Con. Dep.', [node1, node2, node3])\n",
    "# Con. Indep. Case given Z\n",
    "node1 = dgp.GenericNode('Z', node_restrictions=[dgp.Node])\n",
    "node2 = dgp.GenericNode('X', parents=[node1], node_restrictions=[dgp.Node])\n",
    "node3 = dgp.GenericNode('Y', parents=[node1], node_restrictions=[dgp.BinaryNode])\n",
    "nc914 = dgp.NodeCollection('L-B Con. Indep.', [node1, node2, node3])\n",
    "\n",
    "## L-M CASE\n",
    "# Unc. Indep. Case\n",
    "node1 = dgp.GenericNode('X', node_restrictions=[dgp.Node])\n",
    "node2 = dgp.GenericNode('Y', node_restrictions=[dgp.CategoricalNode], min_categories=3)\n",
    "nc921 = dgp.NodeCollection('L-M Unc. Indep.', [node1, node2])\n",
    "# Unc. Dep. Case\n",
    "node1 = dgp.GenericNode('X', node_restrictions=[dgp.Node])\n",
    "node2 = dgp.GenericNode('Y', node_restrictions=[dgp.CategoricalNode], min_categories=3)\n",
    "nc922 = dgp.NodeCollection('L-M Unc. Dep.', [node1, node2])\n",
    "# Con. Dep. Case given Z\n",
    "node1 = dgp.GenericNode('X', node_restrictions=[dgp.Node])\n",
    "node2 = dgp.GenericNode('Y', node_restrictions=[dgp.CategoricalNode], min_categories=3)\n",
    "node3 = dgp.GenericNode('Z', parents=[node1, node2], node_restrictions=[dgp.Node])\n",
    "nc923 = dgp.NodeCollection('L-M Con. Dep.', [node1, node2, node3])\n",
    "# Con. Indep. Case given Z\n",
    "node1 = dgp.GenericNode('Z', node_restrictions=[dgp.Node])\n",
    "node2 = dgp.GenericNode('X', parents=[node1], node_restrictions=[dgp.Node])\n",
    "node3 = dgp.GenericNode('Y', parents=[node1], node_restrictions=[dgp.CategoricalNode], min_categories=3)\n",
    "nc924 = dgp.NodeCollection('L-M Con. Indep.', [node1, node2, node3])\n",
    "\n",
    "## L-O CASE\n",
    "# Unc. Indep. Case\n",
    "node1 = dgp.GenericNode('X', node_restrictions=[dgp.Node])\n",
    "node2 = dgp.GenericNode('Y', node_restrictions=[dgp.OrdinalNode], min_categories=3)\n",
    "nc931 = dgp.NodeCollection('L-O Unc. Indep.', [node1, node2])\n",
    "# Unc. Dep. Case\n",
    "node1 = dgp.GenericNode('X', node_restrictions=[dgp.Node])\n",
    "node2 = dgp.GenericNode('Y', node_restrictions=[dgp.OrdinalNode], min_categories=3)\n",
    "nc932 = dgp.NodeCollection('L-O Unc. Dep.', [node1, node2])\n",
    "# Con. Dep. Case given Z\n",
    "node1 = dgp.GenericNode('X', node_restrictions=[dgp.Node])\n",
    "node2 = dgp.GenericNode('Y', node_restrictions=[dgp.OrdinalNode], min_categories=3)\n",
    "node3 = dgp.GenericNode('Z', parents=[node1, node2], node_restrictions=[dgp.Node])\n",
    "nc933 = dgp.NodeCollection('L-O Con. Dep.', [node1, node2, node3])\n",
    "# Con. Indep. Case given Z\n",
    "node1 = dgp.GenericNode('Z', node_restrictions=[dgp.Node])\n",
    "node2 = dgp.GenericNode('X', parents=[node1], node_restrictions=[dgp.Node])\n",
    "node3 = dgp.GenericNode('Y', parents=[node1], node_restrictions=[dgp.OrdinalNode], min_categories=3)\n",
    "nc934 = dgp.NodeCollection('L-O Con. Indep.', [node1, node2, node3])\n",
    "\n",
    "## B-O CASE\n",
    "# Unc. Indep. Case\n",
    "node1 = dgp.GenericNode('X', node_restrictions=[dgp.BinaryNode])\n",
    "node2 = dgp.GenericNode('Y', node_restrictions=[dgp.OrdinalNode], min_categories=3)\n",
    "nc941 = dgp.NodeCollection('B-O Unc. Indep.', [node1, node2])\n",
    "# Unc. Dep. Case\n",
    "node1 = dgp.GenericNode('X', node_restrictions=[dgp.BinaryNode])\n",
    "node2 = dgp.GenericNode('Y', node_restrictions=[dgp.OrdinalNode], min_categories=3)\n",
    "nc942 = dgp.NodeCollection('B-O Unc. Dep.', [node1, node2])\n",
    "# Con. Dep. Case given Z\n",
    "node1 = dgp.GenericNode('X', node_restrictions=[dgp.BinaryNode])\n",
    "node2 = dgp.GenericNode('Y', node_restrictions=[dgp.OrdinalNode], min_categories=3)\n",
    "node3 = dgp.GenericNode('Z', parents=[node1, node2], node_restrictions=[dgp.Node])\n",
    "nc943 = dgp.NodeCollection('B-O Con. Dep.', [node1, node2, node3])\n",
    "# Con. Indep. Case given Z\n",
    "node1 = dgp.GenericNode('Z', node_restrictions=[dgp.Node])\n",
    "node2 = dgp.GenericNode('X', parents=[node1], node_restrictions=[dgp.BinaryNode])\n",
    "node3 = dgp.GenericNode('Y', parents=[node1], node_restrictions=[dgp.OrdinalNode], min_categories=3)\n",
    "nc944 = dgp.NodeCollection('B-O Con. Indep.', [node1, node2, node3])\n",
    "\n",
    "## M-O CASE\n",
    "# Unc. Indep. Case\n",
    "node1 = dgp.GenericNode('X', node_restrictions=[dgp.CategoricalNode], min_categories=3)\n",
    "node2 = dgp.GenericNode('Y', node_restrictions=[dgp.OrdinalNode], min_categories=3)\n",
    "nc951 = dgp.NodeCollection('M-O Unc. Indep.', [node1, node2])\n",
    "# Unc. Dep. Case\n",
    "node1 = dgp.GenericNode('X', node_restrictions=[dgp.CategoricalNode], min_categories=3)\n",
    "node2 = dgp.GenericNode('Y', node_restrictions=[dgp.OrdinalNode], min_categories=3)\n",
    "nc952 = dgp.NodeCollection('M-O Unc. Dep.', [node1, node2])\n",
    "# Con. Dep. Case given Z\n",
    "node1 = dgp.GenericNode('X', node_restrictions=[dgp.CategoricalNode], min_categories=3)\n",
    "node2 = dgp.GenericNode('Y', node_restrictions=[dgp.OrdinalNode], min_categories=3)\n",
    "node3 = dgp.GenericNode('Z', parents=[node1, node2], node_restrictions=[dgp.Node])\n",
    "nc953 = dgp.NodeCollection('M-O Con. Dep.', [node1, node2, node3])\n",
    "# Con. Indep. Case given Z\n",
    "node1 = dgp.GenericNode('Z', node_restrictions=[dgp.Node])\n",
    "node2 = dgp.GenericNode('X', parents=[node1], node_restrictions=[dgp.CategoricalNode], min_categories=3)\n",
    "node3 = dgp.GenericNode('Y', parents=[node1], node_restrictions=[dgp.OrdinalNode], min_categories=3)\n",
    "nc954 = dgp.NodeCollection('M-O Con. Indep.', [node1, node2, node3])\n",
    "\n",
    "\n",
    "## L-L CASE\n",
    "# Unc. Indep. Case\n",
    "node1 = dgp.GenericNode('X', node_restrictions=[dgp.Node])\n",
    "node2 = dgp.GenericNode('Y', node_restrictions=[dgp.Node])\n",
    "nc961 = dgp.NodeCollection('L-L Unc. Indep.', [node1, node2])\n",
    "# Unc. Dep. Case\n",
    "node1 = dgp.GenericNode('X', node_restrictions=[dgp.Node])\n",
    "node2 = dgp.GenericNode('Y', node_restrictions=[dgp.Node])\n",
    "nc962 = dgp.NodeCollection('L-L Unc. Dep.', [node1, node2])\n",
    "# Con. Dep. Case given Z\n",
    "node1 = dgp.GenericNode('X', node_restrictions=[dgp.Node])\n",
    "node2 = dgp.GenericNode('Y', node_restrictions=[dgp.Node])\n",
    "node3 = dgp.GenericNode('Z', parents=[node1, node2], node_restrictions=[dgp.Node])\n",
    "nc963 = dgp.NodeCollection('L-L Con. Dep.', [node1, node2, node3])\n",
    "# Con. Indep. Case given Z\n",
    "node1 = dgp.GenericNode('Z', node_restrictions=[dgp.Node])\n",
    "node2 = dgp.GenericNode('X', parents=[node1], node_restrictions=[dgp.Node])\n",
    "node3 = dgp.GenericNode('Y', parents=[node1], node_restrictions=[dgp.Node])\n",
    "nc964 = dgp.NodeCollection('L-L Con. Indep.', [node1, node2, node3])"
   ]
  },
  {
   "cell_type": "code",
   "execution_count": 6,
   "metadata": {},
   "outputs": [
    {
     "data": {
      "text/plain": [
       "40000"
      ]
     },
     "execution_count": 6,
     "metadata": {},
     "output_type": "execute_result"
    }
   ],
   "source": [
    "import itertools\n",
    "\n",
    "node_collections = [\n",
    "    nc911, nc912, nc913, nc914,\n",
    "    nc921, nc922, nc923, nc924,\n",
    "    nc931, nc932, nc933, nc934,\n",
    "    nc941, nc942, nc943, nc944,\n",
    "    nc951, nc952, nc953, nc954,\n",
    "]\n",
    "num_samples = [\n",
    "    100, 200, 300, 400,\n",
    "    500, 600, 700, 800,\n",
    "    900, 1000,# 1250, 1500,\n",
    "    #1750, 2000, 2500, 3000\n",
    "]\n",
    "num_clients = [\n",
    "    1, 3,# 5\n",
    "]\n",
    "\n",
    "file_info = ('./experiments/base', 'tests.ndjson')\n",
    "\n",
    "configurations = list(itertools.product(node_collections, num_samples, num_clients))\n",
    "configurations = [c + file_info for c in configurations]\n",
    "\n",
    "num_runs = 100 \n",
    "\n",
    "configurations *= num_runs\n",
    "len(configurations)"
   ]
  },
  {
   "cell_type": "code",
   "execution_count": 7,
   "metadata": {},
   "outputs": [],
   "source": [
    "from tqdm.notebook import tqdm"
   ]
  },
  {
   "cell_type": "code",
   "execution_count": null,
   "metadata": {},
   "outputs": [
    {
     "data": {
      "application/vnd.jupyter.widget-view+json": {
       "model_id": "a6d3f4d7503244d881913a38b9146fbc",
       "version_major": 2,
       "version_minor": 0
      },
      "text/plain": [
       "  0%|          | 0/40000 [00:00<?, ?it/s]"
      ]
     },
     "metadata": {},
     "output_type": "display_data"
    }
   ],
   "source": [
    "for configuration in tqdm(configurations):\n",
    "    run_configured_test(configuration)"
   ]
  },
  {
   "cell_type": "code",
   "execution_count": 11,
   "metadata": {},
   "outputs": [
    {
     "data": {
      "application/vnd.jupyter.widget-view+json": {
       "model_id": "f4a9de5169f345cfad6907e40a8d5a04",
       "version_major": 2,
       "version_minor": 0
      },
      "text/plain": [
       "  0%|          | 0/6000 [00:00<?, ?it/s]"
      ]
     },
     "metadata": {},
     "output_type": "display_data"
    },
    {
     "ename": "",
     "evalue": "",
     "output_type": "error",
     "traceback": [
      "\u001b[1;31mDer Kernel ist beim Ausführen von Code in der aktuellen Zelle oder einer vorherigen Zelle abgestürzt. \n",
      "\u001b[1;31mBitte überprüfen Sie den Code in der/den Zelle(n), um eine mögliche Fehlerursache zu identifizieren. \n",
      "\u001b[1;31mKlicken Sie <a href='https://aka.ms/vscodeJupyterKernelCrash'>hier</a>, um weitere Informationen zu erhalten. \n",
      "\u001b[1;31mWeitere Informationen finden Sie unter Jupyter <a href='command:jupyter.viewOutput'>Protokoll</a>."
     ]
    }
   ],
   "source": [
    "thread_map(run_configured_test, configurations, max_workers=1, chunksize=10)"
   ]
  },
  {
   "cell_type": "code",
   "execution_count": 46,
   "metadata": {},
   "outputs": [
    {
     "data": {
      "text/html": [
       "<div><style>\n",
       ".dataframe > thead > tr,\n",
       ".dataframe > tbody > tr {\n",
       "  text-align: right;\n",
       "  white-space: pre-wrap;\n",
       "}\n",
       "</style>\n",
       "<small>shape: (5, 2)</small><table border=\"1\" class=\"dataframe\"><thead><tr><th>Y</th><th>X</th></tr><tr><td>i32</td><td>f64</td></tr></thead><tbody><tr><td>1</td><td>1.75308</td></tr><tr><td>1</td><td>0.020241</td></tr><tr><td>3</td><td>-0.744291</td></tr><tr><td>4</td><td>2.386503</td></tr><tr><td>1</td><td>-0.114304</td></tr></tbody></table></div>"
      ],
      "text/plain": [
       "shape: (5, 2)\n",
       "┌─────┬───────────┐\n",
       "│ Y   ┆ X         │\n",
       "│ --- ┆ ---       │\n",
       "│ i32 ┆ f64       │\n",
       "╞═════╪═══════════╡\n",
       "│ 1   ┆ 1.75308   │\n",
       "│ 1   ┆ 0.020241  │\n",
       "│ 3   ┆ -0.744291 │\n",
       "│ 4   ┆ 2.386503  │\n",
       "│ 1   ┆ -0.114304 │\n",
       "└─────┴───────────┘"
      ]
     },
     "execution_count": 46,
     "metadata": {},
     "output_type": "execute_result"
    }
   ],
   "source": [
    "nc931.reset()\n",
    "data = nc931.get(1000)\n",
    "data.head()"
   ]
  },
  {
   "cell_type": "code",
   "execution_count": null,
   "metadata": {},
   "outputs": [
    {
     "name": "stdout",
     "output_type": "stream",
     "text": [
      "Test - predicting X, llf: -1447.6799479477575, deviance: 1059.1670840555303\n",
      "\t- RegressionTest X ~ 1 - beta: [-0.00886559]\n",
      "Test - predicting Y, llf: -1085.7169404123501, deviance: 2171.4338808247003\n",
      "\t- RegressionTest Y__cat__1 ~ 1 - beta: [0.17693071]\n",
      "\t- RegressionTest Y__cat__2 ~ 1 - beta: [0.03174868]\n",
      "Test - predicting X, llf: -1447.6374442474919, deviance: 1059.0770508417854\n",
      "\t- RegressionTest X ~ Y__cat__1, Y__cat__2, 1 - beta: [-0.01106651  0.01183412 -0.0085579 ]\n",
      "Test - predicting Y, llf: -1085.6956521356597, deviance: 2171.3913042713193\n",
      "\t- RegressionTest Y__cat__1 ~ X, 1 - beta: [-0.00995176  0.17679394]\n",
      "\t- RegressionTest Y__cat__2 ~ X, 1 - beta: [0.01166121 0.03178012]\n"
     ]
    }
   ],
   "source": [
    "run_test_on_data(data,\n",
    "                 'L-O Test',\n",
    "                 1,\n",
    "                 './experiments/base',\n",
    "                 'tests.ndjson',\n",
    "                 write_to_disk=False\n",
    "                 )"
   ]
  },
  {
   "cell_type": "code",
   "execution_count": 20,
   "metadata": {},
   "outputs": [],
   "source": [
    "import statsmodels.api as sm\n",
    "from statsmodels.discrete.discrete_model import MNLogit\n",
    "\n",
    "def run_multinomial_regression(df, X_cols, y_col):\n",
    "    \"\"\"\n",
    "    Run multinomial logistic regression and return key statistics\n",
    "    \n",
    "    Parameters:\n",
    "    df (pandas.DataFrame): Input dataframe\n",
    "    X_cols (list): List of predictor column names\n",
    "    y_col (str): Name of target variable column\n",
    "    \n",
    "    Returns:\n",
    "    dict: Dictionary containing coefficients, log-likelihood, and deviance\n",
    "    \"\"\"\n",
    "    # Prepare X and y\n",
    "    X = df[X_cols]\n",
    "    X = sm.add_constant(X)  # Add intercept term\n",
    "    y = df[y_col]\n",
    "    \n",
    "    # Fit the model\n",
    "    model = MNLogit(y, X)\n",
    "    results = model.fit()\n",
    "    \n",
    "    # Get results\n",
    "    output = {\n",
    "        'coefficients': results.params,\n",
    "        'log_likelihood': results.llf,\n",
    "        #'deviance': results.deviance\n",
    "    }\n",
    "    \n",
    "    return output"
   ]
  },
  {
   "cell_type": "code",
   "execution_count": 57,
   "metadata": {},
   "outputs": [],
   "source": [
    "import pandas as pd\n",
    "import numpy as np\n",
    "import statsmodels.api as sm\n",
    "from statsmodels.miscmodels.ordinal_model import OrderedModel\n",
    "\n",
    "def run_ordinal_regression(data, dependent_var, independent_vars):\n",
    "    \"\"\"\n",
    "    Run ordinal regression and return results\n",
    "    \n",
    "    Parameters:\n",
    "    -----------\n",
    "    data : pandas.DataFrame\n",
    "        The input dataset\n",
    "    dependent_var : str\n",
    "        Name of the dependent variable column\n",
    "    independent_vars : list\n",
    "        List of independent variable column names\n",
    "    \n",
    "    Returns:\n",
    "    --------\n",
    "    model_fit : statsmodels.OrderedResults\n",
    "        Fitted model results\n",
    "    \"\"\"\n",
    "    # Prepare the data\n",
    "    y = data[dependent_var]\n",
    "    X = data[independent_vars]\n",
    "    #X = sm.add_constant(X)\n",
    "    \n",
    "    # Fit the model\n",
    "    model = OrderedModel(y, X, distr='logit')\n",
    "    model_fit = model.fit(method='bfgs', maxiter=1000)\n",
    "    \n",
    "    return model_fit\n",
    "\n",
    "def analyze_results(model_fit):\n",
    "    \"\"\"\n",
    "    Analyze and print the results of the ordinal regression\n",
    "    \n",
    "    Parameters:\n",
    "    -----------\n",
    "    model_fit : statsmodels.OrderedResults\n",
    "        Fitted model results\n",
    "    \"\"\"\n",
    "    # Print summary\n",
    "    print(\"\\nModel Summary:\")\n",
    "    print(\"==============\")\n",
    "    print(model_fit.summary())\n",
    "    \n",
    "    # Print odds ratios\n",
    "    print(\"\\nOdds Ratios:\")\n",
    "    print(\"============\")\n",
    "    odds_ratios = np.exp(model_fit.params[1:])  # Exclude intercepts\n",
    "    print(odds_ratios)\n",
    "    \n",
    "    # Print confidence intervals for parameters\n",
    "    print(\"\\nConfidence Intervals:\")\n",
    "    print(\"====================\")\n",
    "    print(model_fit.conf_int())"
   ]
  },
  {
   "cell_type": "code",
   "execution_count": 60,
   "metadata": {},
   "outputs": [
    {
     "name": "stdout",
     "output_type": "stream",
     "text": [
      "Optimization terminated successfully.\n",
      "         Current function value: 1.384289\n",
      "         Iterations: 3\n",
      "         Function evaluations: 4\n",
      "         Gradient evaluations: 4\n",
      "\n",
      "Model Summary:\n",
      "==============\n",
      "                             OrderedModel Results                             \n",
      "==============================================================================\n",
      "Dep. Variable:                      Y   Log-Likelihood:                -1384.3\n",
      "Model:                   OrderedModel   AIC:                             2777.\n",
      "Method:            Maximum Likelihood   BIC:                             2796.\n",
      "Date:                Sat, 02 Nov 2024                                         \n",
      "Time:                        12:07:01                                         \n",
      "No. Observations:                1000                                         \n",
      "Df Residuals:                     996                                         \n",
      "Df Model:                           1                                         \n",
      "==============================================================================\n",
      "                 coef    std err          z      P>|z|      [0.025      0.975]\n",
      "------------------------------------------------------------------------------\n",
      "X              0.0045      0.057      0.079      0.937      -0.107       0.116\n",
      "1/2           -1.1526      0.074    -15.566      0.000      -1.298      -1.008\n",
      "2/3            0.1421      0.056      2.522      0.012       0.032       0.253\n",
      "3/4            0.1892      0.055      3.427      0.001       0.081       0.297\n",
      "==============================================================================\n",
      "\n",
      "Odds Ratios:\n",
      "============\n",
      "1/2    0.315802\n",
      "2/3    1.152731\n",
      "3/4    1.208313\n",
      "dtype: float64\n",
      "\n",
      "Confidence Intervals:\n",
      "====================\n",
      "            0         1\n",
      "X   -0.106982  0.115996\n",
      "1/2 -1.297773 -1.007508\n",
      "2/3  0.031681  0.252587\n",
      "3/4  0.080998  0.297452\n"
     ]
    }
   ],
   "source": [
    "r = run_ordinal_regression(data.to_pandas(), 'Y', ['X'])\n",
    "analyze_results(r)\n",
    "#print(r['coefficients'])\n",
    "#print('llf', r['log_likelihood'])"
   ]
  },
  {
   "cell_type": "code",
   "execution_count": 61,
   "metadata": {},
   "outputs": [
    {
     "name": "stdout",
     "output_type": "stream",
     "text": [
      "Test - predicting X, llf: -1407.3112454085026, deviance: 977.0137282624828\n",
      "\t- RegressionTest X ~ 1 - beta: [0.00288358]\n",
      "Test - predicting Y, llf: -3909.2414872674935, deviance: -15207.367955405467\n",
      "\t- RegressionTest Y__ord__1 ~ 1 - beta: [1.15267951]\n",
      "\t- RegressionTest Y__ord__2 ~ 1 - beta: [0.]\n",
      "\t- RegressionTest Y__ord__3 ~ 1 - beta: [-1.20831121]\n",
      "Test - predicting X, llf: -1407.3084137468425, deviance: 977.0081951335196\n",
      "\t- RegressionTest X ~ Y, 1 - beta: [ 0.0021564  -0.00248587]\n",
      "Test - predicting Y, llf: -3811.629967267992, deviance: -15402.59099540447\n",
      "\t- RegressionTest Y__ord__1 ~ X, 1 - beta: [0.05151311 1.15298192]\n",
      "\t- RegressionTest Y__ord__2 ~ X, 1 - beta: [ 1.50165821e-02 -5.20991681e-05]\n",
      "\t- RegressionTest Y__ord__3 ~ X, 1 - beta: [-0.07387994 -1.20984679]\n"
     ]
    }
   ],
   "source": [
    "test_result = run_test_on_data(data,\n",
    "                 'L-O Test',\n",
    "                 1,\n",
    "                 './experiments/base',\n",
    "                 'tests.ndjson',\n",
    "                 write_to_disk=False\n",
    "                 )"
   ]
  },
  {
   "cell_type": "code",
   "execution_count": 34,
   "metadata": {},
   "outputs": [
    {
     "data": {
      "text/html": [
       "<div><style>\n",
       ".dataframe > thead > tr,\n",
       ".dataframe > tbody > tr {\n",
       "  text-align: right;\n",
       "  white-space: pre-wrap;\n",
       "}\n",
       "</style>\n",
       "<small>shape: (3, 2)</small><table border=\"1\" class=\"dataframe\"><thead><tr><th>Y</th><th>count</th></tr><tr><td>str</td><td>u32</td></tr></thead><tbody><tr><td>&quot;2&quot;</td><td>320</td></tr><tr><td>&quot;3&quot;</td><td>310</td></tr><tr><td>&quot;1&quot;</td><td>370</td></tr></tbody></table></div>"
      ],
      "text/plain": [
       "shape: (3, 2)\n",
       "┌─────┬───────┐\n",
       "│ Y   ┆ count │\n",
       "│ --- ┆ ---   │\n",
       "│ str ┆ u32   │\n",
       "╞═════╪═══════╡\n",
       "│ 2   ┆ 320   │\n",
       "│ 3   ┆ 310   │\n",
       "│ 1   ┆ 370   │\n",
       "└─────┴───────┘"
      ]
     },
     "execution_count": 34,
     "metadata": {},
     "output_type": "execute_result"
    }
   ],
   "source": [
    "data['Y'].value_counts()"
   ]
  },
  {
   "cell_type": "code",
   "execution_count": 93,
   "metadata": {},
   "outputs": [],
   "source": [
    "from statsmodels.genmod.generalized_linear_model import GLMResults\n",
    "from statsmodels.genmod.families import family\n",
    "\n",
    "def get_regression_model(y, X, glm_family):\n",
    "    model = sm.GLM(y, X, family=glm_family)\n",
    "    result = model.fit()#GLMResults(model, normalized_cov_params=None, scale=None)\n",
    "    return result\n",
    "def run_model(y, X, model):\n",
    "    llf = model.llf\n",
    "    deviance = model.deviance\n",
    "    return {'llf': llf, 'deviance': deviance, 'beta': model.params}\n",
    "\n",
    "def run_regression(y, X, glm_family):\n",
    "    model = get_regression_model(y, X, glm_family)\n",
    "    return run_model(y, X, model)"
   ]
  },
  {
   "cell_type": "code",
   "execution_count": 148,
   "metadata": {},
   "outputs": [
    {
     "name": "stdout",
     "output_type": "stream",
     "text": [
      "1\n",
      "{'llf': -550.7731341108265, 'deviance': 1101.5462682216532, 'beta': array([-1.15338558, -0.05872061])}\n",
      "2\n",
      "{'llf': -693.119665824273, 'deviance': 1386.239331648546, 'beta': array([ 4.32770695e-05, -1.50105333e-02])}\n",
      "3\n",
      "{'llf': -538.8903054814094, 'deviance': 1077.780610962819, 'beta': array([1.20929668, 0.06685844])}\n"
     ]
    }
   ],
   "source": [
    "r = {}\n",
    "for i in range(1,data['Y'].n_unique()):\n",
    "    y = (data.to_pandas()['Y'] <= i).to_numpy()\n",
    "\n",
    "    X = data.to_pandas()[['X']].to_numpy()\n",
    "    X = sm.add_constant(X)\n",
    "\n",
    "    r[i] = run_regression(y, X, family.Binomial())\n",
    "for i, res in r.items():\n",
    "    print(i)\n",
    "    print(res)"
   ]
  },
  {
   "cell_type": "code",
   "execution_count": 142,
   "metadata": {},
   "outputs": [
    {
     "data": {
      "text/html": [
       "<div><style>\n",
       ".dataframe > thead > tr,\n",
       ".dataframe > tbody > tr {\n",
       "  text-align: right;\n",
       "  white-space: pre-wrap;\n",
       "}\n",
       "</style>\n",
       "<small>shape: (4, 2)</small><table border=\"1\" class=\"dataframe\"><thead><tr><th>Y</th><th>count</th></tr><tr><td>i32</td><td>u32</td></tr></thead><tbody><tr><td>1</td><td>240</td></tr><tr><td>3</td><td>270</td></tr><tr><td>4</td><td>230</td></tr><tr><td>2</td><td>260</td></tr></tbody></table></div>"
      ],
      "text/plain": [
       "shape: (4, 2)\n",
       "┌─────┬───────┐\n",
       "│ Y   ┆ count │\n",
       "│ --- ┆ ---   │\n",
       "│ i32 ┆ u32   │\n",
       "╞═════╪═══════╡\n",
       "│ 1   ┆ 240   │\n",
       "│ 3   ┆ 270   │\n",
       "│ 4   ┆ 230   │\n",
       "│ 2   ┆ 260   │\n",
       "└─────┴───────┘"
      ]
     },
     "execution_count": 142,
     "metadata": {},
     "output_type": "execute_result"
    }
   ],
   "source": [
    "data['Y'].value_counts()"
   ]
  },
  {
   "cell_type": "code",
   "execution_count": 152,
   "metadata": {},
   "outputs": [
    {
     "name": "stdout",
     "output_type": "stream",
     "text": [
      "Test - predicting X, llf: -1407.3112454085026, deviance: 977.0137282624828\n",
      "\t- RegressionTest X ~ 1 - beta: [0.00288358]\n",
      "Test - predicting Y, llf: -2362.2568788379926, deviance: 4724.513757675985\n",
      "\t- RegressionTest Y__ord__1 ~ 1 - beta: [-1.15267951]\n",
      "\t- RegressionTest Y__ord__2 ~ 1 - beta: [0.]\n",
      "\t- RegressionTest Y__ord__3 ~ 1 - beta: [1.20831121]\n",
      "Test - predicting X, llf: -1407.3084137468425, deviance: 977.0081951335196\n",
      "\t- RegressionTest X ~ Y, 1 - beta: [ 0.0021564  -0.00248587]\n",
      "Test - predicting Y, llf: -2362.494729022238, deviance: 4724.989458044476\n",
      "\t- RegressionTest Y__ord__1 ~ X, 1 - beta: [-0.05151311 -1.15298192]\n",
      "\t- RegressionTest Y__ord__2 ~ X, 1 - beta: [-1.50165821e-02  5.20991681e-05]\n",
      "\t- RegressionTest Y__ord__3 ~ X, 1 - beta: [0.07387994 1.20984679]\n",
      "T0 (-2362.2568788379926) fitted better than T1 (-2362.494729022238) for y: Y, x: X, S: []\n"
     ]
    }
   ],
   "source": [
    "test_result = run_test_on_data(data,\n",
    "                 'L-O Test',\n",
    "                 1,\n",
    "                 './experiments/base',\n",
    "                 'test_ordinal.ndjson',\n",
    "                 write_to_disk=True\n",
    "                 )"
   ]
  },
  {
   "cell_type": "code",
   "execution_count": 141,
   "metadata": {},
   "outputs": [
    {
     "name": "stdout",
     "output_type": "stream",
     "text": [
      "a llf: 0, sat_llf: 0, null_llf: 0\n",
      "b llf: -22104.816892742834, sat_llf: 0.0, null_llf: -285.62374568218854\n",
      "c llf: -22797.96407330278, sat_llf: 0.0, null_llf: -650.2427163024653\n",
      "d llf: -23047.49705830436, sat_llf: 0.0, null_llf: -1018.0371654139785\n",
      "a llf: 0, sat_llf: 0, null_llf: 0\n",
      "b llf: -751.5016181926129, sat_llf: 0.0, null_llf: -285.62374568218854\n",
      "c llf: -1378.4956651728376, sat_llf: 0.0, null_llf: -650.2427163024653\n",
      "d llf: -1742.760019016788, sat_llf: 0.0, null_llf: -1018.0371654139785\n",
      "a llf: 0, sat_llf: 0, null_llf: 0\n",
      "b llf: -729.3394621431806, sat_llf: 0.0, null_llf: -285.62374568218854\n",
      "c llf: -1356.2089240197845, sat_llf: 0.0, null_llf: -650.2427163024653\n",
      "d llf: -1723.9958980435028, sat_llf: 0.0, null_llf: -1018.0371654139785\n",
      "a llf: 0, sat_llf: 0, null_llf: 0\n",
      "b llf: -729.237944406821, sat_llf: 0.0, null_llf: -285.62374568218854\n",
      "c llf: -1356.1074019792472, sat_llf: 0.0, null_llf: -650.2427163024653\n",
      "d llf: -1723.9018510568083, sat_llf: 0.0, null_llf: -1018.0371654139785\n",
      "a llf: 0, sat_llf: 0, null_llf: 0\n",
      "b llf: -729.2379412405536, sat_llf: 0.0, null_llf: -285.62374568218854\n",
      "c llf: -1356.10739881298, sat_llf: 0.0, null_llf: -650.2427163024653\n",
      "d llf: -1723.901847924493, sat_llf: 0.0, null_llf: -1018.0371654139785\n",
      "a llf: 0, sat_llf: 0, null_llf: 0\n",
      "b llf: -22104.816892742834, sat_llf: 0.0, null_llf: -285.62374568218854\n",
      "c llf: -22797.96407330278, sat_llf: 0.0, null_llf: -650.2427163024653\n",
      "d llf: -23047.49705830436, sat_llf: 0.0, null_llf: -1018.0371654139785\n",
      "a llf: 0, sat_llf: 0, null_llf: 0\n",
      "b llf: -752.0182061679084, sat_llf: 0.0, null_llf: -285.62374568218854\n",
      "c llf: -1378.668497857002, sat_llf: 0.0, null_llf: -650.2427163024653\n",
      "d llf: -1742.9222911158752, sat_llf: 0.0, null_llf: -1018.0371654139785\n",
      "a llf: 0, sat_llf: 0, null_llf: 0\n",
      "b llf: -729.7296077612185, sat_llf: 0.0, null_llf: -285.62374568218854\n",
      "c llf: -1356.2462674359576, sat_llf: 0.0, null_llf: -650.2427163024653\n",
      "d llf: -1724.0255942178192, sat_llf: 0.0, null_llf: -1018.0371654139785\n",
      "a llf: 0, sat_llf: 0, null_llf: 0\n",
      "b llf: -729.6242547573277, sat_llf: 0.0, null_llf: -285.62374568218854\n",
      "c llf: -1356.140929480447, sat_llf: 0.0, null_llf: -650.2427163024653\n",
      "d llf: -1723.9278179916967, sat_llf: 0.0, null_llf: -1018.0371654139785\n",
      "a llf: 0, sat_llf: 0, null_llf: 0\n",
      "b llf: -729.6242003322384, sat_llf: 0.0, null_llf: -285.62374568218854\n",
      "c llf: -1356.1408746500415, sat_llf: 0.0, null_llf: -650.2427163024653\n",
      "d llf: -1723.927763767201, sat_llf: 0.0, null_llf: -1018.0371654139785\n",
      "a llf: 0, sat_llf: 0, null_llf: 0\n",
      "b llf: -729.6242010933179, sat_llf: 0.0, null_llf: -285.62374568218854\n",
      "c llf: -1356.1408754197641, sat_llf: 0.0, null_llf: -650.2427163024653\n",
      "d llf: -1723.9277645418745, sat_llf: 0.0, null_llf: -1018.0371654139785\n",
      "Test - predicting X, llf: -1414.8961610792317, deviance: 991.9478493976685\n",
      "\t- RegressionTest X ~ 1 - beta: [0.01714819]\n",
      "Test - predicting Y, llf: -1723.901847924493, deviance: -1411.729365021029\n",
      "\t- RegressionTest Y__ord__1 ~ 1 - beta: [-0.7537718]\n",
      "\t- RegressionTest Y__ord__2 ~ 1 - beta: [0.57536414]\n",
      "Test - predicting X, llf: -1414.7353282228955, deviance: 991.6288250980981\n",
      "\t- RegressionTest X ~ Y, 1 - beta: [-0.02168548  0.06138656]\n",
      "Test - predicting Y, llf: -1723.9277645418745, deviance: -1411.7811982557919\n",
      "\t- RegressionTest Y__ord__1 ~ X, 1 - beta: [ 0.05601631 -0.75523983]\n",
      "\t- RegressionTest Y__ord__2 ~ X, 1 - beta: [0.01045653 0.57520093]\n",
      "T0 (-1723.901847924493) fitted better than T1 (-1723.9277645418745) for y: Y, x: X, S: []\n"
     ]
    }
   ],
   "source": [
    "test_result = run_test(nc931,\n",
    "                 1000,\n",
    "                 1,\n",
    "                 './experiments/base',\n",
    "                 'test_ordinal.ndjson',\n",
    "                 write_to_disk=True\n",
    "                 )"
   ]
  },
  {
   "cell_type": "code",
   "execution_count": null,
   "metadata": {},
   "outputs": [],
   "source": []
  }
 ],
 "metadata": {
  "kernelspec": {
   "display_name": "promotion",
   "language": "python",
   "name": "python3"
  },
  "language_info": {
   "codemirror_mode": {
    "name": "ipython",
    "version": 3
   },
   "file_extension": ".py",
   "mimetype": "text/x-python",
   "name": "python",
   "nbconvert_exporter": "python",
   "pygments_lexer": "ipython3",
   "version": "3.10.14"
  }
 },
 "nbformat": 4,
 "nbformat_minor": 2
}
