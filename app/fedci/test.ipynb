{
 "cells": [
  {
   "cell_type": "code",
   "execution_count": 10,
   "metadata": {},
   "outputs": [],
   "source": [
    "import polars as pl\n",
    "import numpy as np"
   ]
  },
  {
   "cell_type": "code",
   "execution_count": 3,
   "metadata": {},
   "outputs": [],
   "source": [
    "import statsmodels.api as sm\n",
    "from statsmodels.genmod.generalized_linear_model import GLMResults\n",
    "from statsmodels.genmod.families import family"
   ]
  },
  {
   "cell_type": "code",
   "execution_count": 71,
   "metadata": {},
   "outputs": [],
   "source": [
    "df = pl.read_csv('../rand-data-1.csv')"
   ]
  },
  {
   "cell_type": "code",
   "execution_count": 65,
   "metadata": {},
   "outputs": [],
   "source": [
    "#df = df.with_columns(pl.all().name.prefix('data_'))\n",
    "#df = df.with_columns(glm_intercept=pl.lit(1))"
   ]
  },
  {
   "cell_type": "code",
   "execution_count": 102,
   "metadata": {},
   "outputs": [],
   "source": [
    "glm_model = sm.GLM(df['Y'].to_pandas(), df[['Z']].to_pandas(), family=family.Gaussian())"
   ]
  },
  {
   "cell_type": "code",
   "execution_count": 98,
   "metadata": {},
   "outputs": [],
   "source": [
    "glm_model = sm.GLM(df['Y'].to_pandas(), df[['Z', 'X']].to_pandas(), family=family.Binomial())\n"
   ]
  },
  {
   "cell_type": "code",
   "execution_count": 91,
   "metadata": {},
   "outputs": [],
   "source": [
    "# Assuming you want to set the beta for 'x' to 0.5\n",
    "R = np.array([[1, 0], [0, 1]])  # This selects the 'x' coefficient\n",
    "r = np.array([2, 0.5])     # This is the value you want to set for beta"
   ]
  },
  {
   "cell_type": "code",
   "execution_count": 94,
   "metadata": {},
   "outputs": [],
   "source": [
    "# Assuming you want to set the beta for 'x' to 0.5\n",
    "R = np.array([[1]])  # This selects the 'x' coefficient\n",
    "r = np.array([0.5])     # This is the value you want to set for beta"
   ]
  },
  {
   "cell_type": "code",
   "execution_count": 103,
   "metadata": {},
   "outputs": [],
   "source": [
    "beta0 = np.array([2])"
   ]
  },
  {
   "cell_type": "code",
   "execution_count": 113,
   "metadata": {},
   "outputs": [],
   "source": [
    "glm_results = GLMResults(glm_model, beta0, normalized_cov_params=None, scale=None)"
   ]
  },
  {
   "cell_type": "code",
   "execution_count": 114,
   "metadata": {},
   "outputs": [
    {
     "data": {
      "text/plain": [
       "array([2])"
      ]
     },
     "execution_count": 114,
     "metadata": {},
     "output_type": "execute_result"
    }
   ],
   "source": [
    "glm_results.params"
   ]
  },
  {
   "cell_type": "code",
   "execution_count": 115,
   "metadata": {},
   "outputs": [
    {
     "ename": "AttributeError",
     "evalue": "'GLMResults' object has no attribute 'method'",
     "output_type": "error",
     "traceback": [
      "\u001b[0;31m---------------------------------------------------------------------------\u001b[0m",
      "\u001b[0;31mAttributeError\u001b[0m                            Traceback (most recent call last)",
      "Cell \u001b[0;32mIn[115], line 1\u001b[0m\n\u001b[0;32m----> 1\u001b[0m \u001b[43mglm_results\u001b[49m\u001b[38;5;241;43m.\u001b[39;49m\u001b[43msummary\u001b[49m\u001b[43m(\u001b[49m\u001b[43m)\u001b[49m\n",
      "File \u001b[0;32m/opt/homebrew/Caskroom/miniforge/base/lib/python3.10/site-packages/statsmodels/genmod/generalized_linear_model.py:2462\u001b[0m, in \u001b[0;36mGLMResults.summary\u001b[0;34m(self, yname, xname, title, alpha)\u001b[0m\n\u001b[1;32m   2429\u001b[0m \u001b[38;5;28;01mdef\u001b[39;00m \u001b[38;5;21msummary\u001b[39m(\u001b[38;5;28mself\u001b[39m, yname\u001b[38;5;241m=\u001b[39m\u001b[38;5;28;01mNone\u001b[39;00m, xname\u001b[38;5;241m=\u001b[39m\u001b[38;5;28;01mNone\u001b[39;00m, title\u001b[38;5;241m=\u001b[39m\u001b[38;5;28;01mNone\u001b[39;00m, alpha\u001b[38;5;241m=\u001b[39m\u001b[38;5;241m.05\u001b[39m):\n\u001b[1;32m   2430\u001b[0m \u001b[38;5;250m    \u001b[39m\u001b[38;5;124;03m\"\"\"\u001b[39;00m\n\u001b[1;32m   2431\u001b[0m \u001b[38;5;124;03m    Summarize the Regression Results\u001b[39;00m\n\u001b[1;32m   2432\u001b[0m \n\u001b[0;32m   (...)\u001b[0m\n\u001b[1;32m   2455\u001b[0m \u001b[38;5;124;03m    statsmodels.iolib.summary.Summary : class to hold summary results\u001b[39;00m\n\u001b[1;32m   2456\u001b[0m \u001b[38;5;124;03m    \"\"\"\u001b[39;00m\n\u001b[1;32m   2458\u001b[0m     top_left \u001b[38;5;241m=\u001b[39m [(\u001b[38;5;124m'\u001b[39m\u001b[38;5;124mDep. Variable:\u001b[39m\u001b[38;5;124m'\u001b[39m, \u001b[38;5;28;01mNone\u001b[39;00m),\n\u001b[1;32m   2459\u001b[0m                 (\u001b[38;5;124m'\u001b[39m\u001b[38;5;124mModel:\u001b[39m\u001b[38;5;124m'\u001b[39m, \u001b[38;5;28;01mNone\u001b[39;00m),\n\u001b[1;32m   2460\u001b[0m                 (\u001b[38;5;124m'\u001b[39m\u001b[38;5;124mModel Family:\u001b[39m\u001b[38;5;124m'\u001b[39m, [\u001b[38;5;28mself\u001b[39m\u001b[38;5;241m.\u001b[39mfamily\u001b[38;5;241m.\u001b[39m\u001b[38;5;18m__class__\u001b[39m\u001b[38;5;241m.\u001b[39m\u001b[38;5;18m__name__\u001b[39m]),\n\u001b[1;32m   2461\u001b[0m                 (\u001b[38;5;124m'\u001b[39m\u001b[38;5;124mLink Function:\u001b[39m\u001b[38;5;124m'\u001b[39m, [\u001b[38;5;28mself\u001b[39m\u001b[38;5;241m.\u001b[39mfamily\u001b[38;5;241m.\u001b[39mlink\u001b[38;5;241m.\u001b[39m\u001b[38;5;18m__class__\u001b[39m\u001b[38;5;241m.\u001b[39m\u001b[38;5;18m__name__\u001b[39m]),\n\u001b[0;32m-> 2462\u001b[0m                 (\u001b[38;5;124m'\u001b[39m\u001b[38;5;124mMethod:\u001b[39m\u001b[38;5;124m'\u001b[39m, [\u001b[38;5;28;43mself\u001b[39;49m\u001b[38;5;241;43m.\u001b[39;49m\u001b[43mmethod\u001b[49m]),\n\u001b[1;32m   2463\u001b[0m                 (\u001b[38;5;124m'\u001b[39m\u001b[38;5;124mDate:\u001b[39m\u001b[38;5;124m'\u001b[39m, \u001b[38;5;28;01mNone\u001b[39;00m),\n\u001b[1;32m   2464\u001b[0m                 (\u001b[38;5;124m'\u001b[39m\u001b[38;5;124mTime:\u001b[39m\u001b[38;5;124m'\u001b[39m, \u001b[38;5;28;01mNone\u001b[39;00m),\n\u001b[1;32m   2465\u001b[0m                 (\u001b[38;5;124m'\u001b[39m\u001b[38;5;124mNo. Iterations:\u001b[39m\u001b[38;5;124m'\u001b[39m,\n\u001b[1;32m   2466\u001b[0m                  [\u001b[38;5;124m\"\u001b[39m\u001b[38;5;132;01m%d\u001b[39;00m\u001b[38;5;124m\"\u001b[39m \u001b[38;5;241m%\u001b[39m \u001b[38;5;28mself\u001b[39m\u001b[38;5;241m.\u001b[39mfit_history[\u001b[38;5;124m'\u001b[39m\u001b[38;5;124miteration\u001b[39m\u001b[38;5;124m'\u001b[39m]]),\n\u001b[1;32m   2467\u001b[0m                 ]\n\u001b[1;32m   2469\u001b[0m     \u001b[38;5;28;01mtry\u001b[39;00m:\n\u001b[1;32m   2470\u001b[0m         prsquared \u001b[38;5;241m=\u001b[39m \u001b[38;5;28mself\u001b[39m\u001b[38;5;241m.\u001b[39mpseudo_rsquared(kind\u001b[38;5;241m=\u001b[39m\u001b[38;5;124m\"\u001b[39m\u001b[38;5;124mcs\u001b[39m\u001b[38;5;124m\"\u001b[39m)\n",
      "\u001b[0;31mAttributeError\u001b[0m: 'GLMResults' object has no attribute 'method'"
     ]
    }
   ],
   "source": [
    "glm_results.summary()"
   ]
  },
  {
   "cell_type": "code",
   "execution_count": 116,
   "metadata": {},
   "outputs": [
    {
     "data": {
      "text/plain": [
       "<bound method Power.inverse_deriv of <statsmodels.genmod.families.links.Identity object at 0x28d614a00>>"
      ]
     },
     "execution_count": 116,
     "metadata": {},
     "output_type": "execute_result"
    }
   ],
   "source": [
    "derivative_inverse_link = glm_results.family.link.inverse_deriv\n",
    "derivative_inverse_link"
   ]
  },
  {
   "cell_type": "code",
   "execution_count": 117,
   "metadata": {},
   "outputs": [
    {
     "data": {
      "text/plain": [
       "array([1., 1., 1., ..., 1., 1., 1.])"
      ]
     },
     "execution_count": 117,
     "metadata": {},
     "output_type": "execute_result"
    }
   ],
   "source": [
    "eta = glm_results.predict(which='linear')  # Get the linear predictor\n",
    "dmu_deta = derivative_inverse_link(eta)\n",
    "dmu_deta"
   ]
  },
  {
   "cell_type": "code",
   "execution_count": 118,
   "metadata": {},
   "outputs": [
    {
     "data": {
      "text/plain": [
       "100000"
      ]
     },
     "execution_count": 118,
     "metadata": {},
     "output_type": "execute_result"
    }
   ],
   "source": [
    "len(dmu_deta)"
   ]
  },
  {
   "cell_type": "code",
   "execution_count": 25,
   "metadata": {},
   "outputs": [],
   "source": [
    "import numpy as np"
   ]
  },
  {
   "cell_type": "code",
   "execution_count": 26,
   "metadata": {},
   "outputs": [],
   "source": [
    "eta = np.array([0.1, 0.3, 0.5, 0.7, 0.9]) # X * beta"
   ]
  },
  {
   "cell_type": "code",
   "execution_count": 27,
   "metadata": {},
   "outputs": [
    {
     "data": {
      "text/plain": [
       "array([11.11111111,  4.76190476,  4.        ,  4.76190476, 11.11111111])"
      ]
     },
     "execution_count": 27,
     "metadata": {},
     "output_type": "execute_result"
    }
   ],
   "source": [
    "mu = sm.families.links.Logit().deriv(eta)"
   ]
  },
  {
   "cell_type": "code",
   "execution_count": 1,
   "metadata": {},
   "outputs": [],
   "source": [
    "import polars as pl\n",
    "import numpy as np\n",
    "import pickle\n",
    "from typing import List\n",
    "from itertools import chain, combinations"
   ]
  },
  {
   "cell_type": "code",
   "execution_count": 2,
   "metadata": {},
   "outputs": [],
   "source": [
    "import statsmodels.api as sm\n",
    "from statsmodels.genmod.generalized_linear_model import GLMResults\n",
    "from statsmodels.genmod.families import family"
   ]
  },
  {
   "cell_type": "code",
   "execution_count": 3,
   "metadata": {},
   "outputs": [],
   "source": [
    "class TestingRound:\n",
    "    iterations = 0\n",
    "    last_deviance = None\n",
    "    deviance = 0\n",
    "    convergence_threshold = 1e-8\n",
    "    \n",
    "    def __init__(self, y_label, X_labels):\n",
    "        self.y_label = y_label\n",
    "        self.X_labels = X_labels\n",
    "        self._init_beta0()\n",
    "        \n",
    "    def __eq__(self, t):\n",
    "        assert type(t) == TestingRound\n",
    "        return self.y_label == t.y_label and self.X_labels == t.X_labels   \n",
    "    \n",
    "    def __repr__(self):\n",
    "        return f'TestingRound - y: {self.y_label}, X: {self.X_labels}, beta: {self.beta}, current iteration: {self.iterations}, current deviance: {abs(self.deviance)}, relative deviance change: {abs(self.deviance - self.last_deviance) / (0.1 + abs(self.deviance)) if self.last_deviance is not None else \"?\"}' \n",
    "    \n",
    "    def _init_beta0(self):\n",
    "        #self.beta = np.random.randn(len(self.X_labels) + 1) # +1 for intercept\n",
    "        self.beta = np.zeros(len(self.X_labels) + 1) # +1 for intercept\n",
    "    \n",
    "    def aggregate_results(self, results):\n",
    "        results1, results2, deviances = zip(*results)\n",
    "        #print('---')\n",
    "        #print(np.linalg.inv(sum(results1)))\n",
    "        #for r in results2:\n",
    "        #    print(r)\n",
    "        #print(sum(results2))\n",
    "        self.beta = np.linalg.inv(sum(results1)) @ sum(results2)\n",
    "        self.last_deviance = self.deviance\n",
    "        self.deviance = sum(deviances)\n",
    "        self.iterations += 1\n",
    "        \n",
    "        return abs(self.deviance - self.last_deviance) / (0.1 + abs(self.deviance)) < self.convergence_threshold\n",
    "    \n",
    "class FederatedGLMResult:\n",
    "    def __init__(self, testing_round: TestingRound):\n",
    "        self.y_label = testing_round.y_label\n",
    "        self.X_labels = testing_round.X_labels\n",
    "        self.beta = testing_round.beta\n",
    "        self.deviance = testing_round.deviance\n",
    "        \n",
    "    def __eq__(self, x):\n",
    "        assert type(x) == FederatedGLMResult\n",
    "        return self.y_label == x.y_label and self.X_labels == x.X_labels and self.beta == x.beta and self.deviance == x.deviance\n",
    "    \n",
    "class TestingEngine:\n",
    "    testing_rounds = []\n",
    "    finished_rounds = []\n",
    "    \n",
    "    def __init__(self, available_data, max_regressors=None, max_iterations=25, save_steps=10):\n",
    "        self.available_data = available_data\n",
    "        self.max_regressors = max_regressors\n",
    "        self.max_iterations = max_iterations\n",
    "        self.save_steps = save_steps\n",
    "        \n",
    "        _max_regressors = min(len(self.available_data), self.max_regressors+1) if self.max_regressors is not None else len(self.available_data)\n",
    "        \n",
    "        for e in available_data:\n",
    "            set_of_regressors = available_data - {e}\n",
    "            powerset_of_regressors = chain.from_iterable(combinations(set_of_regressors, r) for r in range(1,_max_regressors))\n",
    "            self.testing_rounds.extend([TestingRound(y_label=e, X_labels=list(r)) for r in powerset_of_regressors])\n",
    "            \n",
    "        self.testing_rounds = sorted(self.testing_rounds, key=lambda key: len(key.X_labels))\n",
    "        self.is_finished = len(self.testing_rounds) == 0\n",
    "            \n",
    "    def get_current_test_parameters(self):\n",
    "        curr_testing_round = self.testing_rounds[0]\n",
    "        return curr_testing_round.y_label, curr_testing_round.X_labels, curr_testing_round.beta\n",
    "    \n",
    "    def finish_current_test(self):\n",
    "        self.finished_rounds.append(self.testing_rounds.pop(0))\n",
    "        self.is_finished = len(self.testing_rounds) == 0\n",
    "        \n",
    "    def aggregate_results(self, results):\n",
    "        has_converged = self.testing_rounds[0].aggregate_results(results)\n",
    "        has_reached_max_iterations = self.testing_rounds[0].iterations >= self.max_iterations\n",
    "        print(self.testing_rounds[0])\n",
    "        if has_converged or has_reached_max_iterations:\n",
    "            self.finish_current_test()\n",
    "        \n",
    "\n",
    "class Server:\n",
    "    clients = {}\n",
    "    \n",
    "    def __init__(self, clients):\n",
    "        self.clients = clients\n",
    "        self.available_data = set.union(*[set(c.data_labels) for c in self.clients.values()])\n",
    "        self.testing_engine = TestingEngine(self.available_data, max_regressors=1)\n",
    "        \n",
    "    def run_tests(self):\n",
    "        counter = 1\n",
    "        while not self.testing_engine.is_finished:\n",
    "            y_label, X_labels, beta = self.testing_engine.get_current_test_parameters()\n",
    "            selected_clients = {id_: c for id_, c in self.clients.items() if set([y_label] + X_labels).issubset(c.data_labels)}\n",
    "            # http response, to compute glm results for y regressed on X with beta\n",
    "            results = [c.compute(y_label, X_labels, beta) for c in selected_clients.values()]\n",
    "            self.testing_engine.aggregate_results(results)\n",
    "            if counter % self.testing_engine.save_steps == 0:\n",
    "                counter = 0\n",
    "                with open('./testengine.ckp', 'wb') as f:\n",
    "                    pickle.dump(self.testing_engine, f)\n",
    "            counter += 1\n",
    "                \n",
    "    \n",
    "class Client:\n",
    "    def __init__(self, data):\n",
    "        self.data = data\n",
    "        self.data_labels = data.columns\n",
    "        \n",
    "        \n",
    "    def compute(self, y_label: str, X_labels: List[str], beta):\n",
    "        y = self.data[y_label]\n",
    "        X = self.data[X_labels]\n",
    "        \n",
    "        X = X.to_numpy()\n",
    "        X = sm.tools.add_constant(X)\n",
    "                \n",
    "        eta, mu, dmu_deta, deviance = self._init_compute(y,X,beta)\n",
    "        \n",
    "        #print('eta', eta)\n",
    "        #print('mu', mu)\n",
    "        #print('dmu/deta', dmu_deta)\n",
    "        \n",
    "        z = eta + (y - mu)/dmu_deta\n",
    "        W = np.diag((dmu_deta**2)/max(np.var(mu), 1e-8))\n",
    "        \n",
    "        #print(z)\n",
    "        \n",
    "        r1 = X.T @ W @ X\n",
    "        r2 = X.T @ W @ z\n",
    "        \n",
    "        \n",
    "        # TODO: r1 und r2 immer gleich, egal welches beta\n",
    "        \n",
    "        #print('r1', r1)\n",
    "        #print('r2', r2)\n",
    "        \n",
    "        return r1, r2, deviance\n",
    "        \n",
    "        \n",
    "    def _init_compute(self, y, X, beta):\n",
    "        glm_model = sm.GLM(y, X, family=family.Gaussian())\n",
    "        normalized_cov_params = np.linalg.inv(X.T.dot(X))\n",
    "        scale = glm_model.fit().scale\n",
    "        glm_results = GLMResults(glm_model, beta, normalized_cov_params=normalized_cov_params, scale=None)\n",
    "        \n",
    "        # GLMResult with correct scale\n",
    "        scale = glm_model.estimate_scale(glm_results.predict(which='linear'))\n",
    "        glm_results = GLMResults(glm_model, beta, normalized_cov_params=normalized_cov_params, scale=scale)\n",
    "        \n",
    "        eta = glm_results.predict(which='linear')\n",
    "        \n",
    "        # g' is inverse of link function\n",
    "        inverse_link = glm_results.family.link.inverse\n",
    "        mu = inverse_link(eta)\n",
    "        \n",
    "        deviance = glm_results.deviance\n",
    "        \n",
    "        # delta g' is derivative of inverse link function\n",
    "        derivative_inverse_link = glm_results.family.link.inverse_deriv\n",
    "        dmu_deta = derivative_inverse_link(eta)\n",
    "        return eta, mu, dmu_deta, deviance\n",
    "    "
   ]
  },
  {
   "cell_type": "code",
   "execution_count": 4,
   "metadata": {},
   "outputs": [],
   "source": [
    "df = pl.read_csv('../rand-data-1.csv')\n",
    "df = df[['Y', 'X']]\n",
    "c1 = Client(df.to_pandas())"
   ]
  },
  {
   "cell_type": "code",
   "execution_count": 5,
   "metadata": {},
   "outputs": [],
   "source": [
    "df = pl.read_csv('../rand-data-2.csv')\n",
    "df = df[['Y', 'X']]\n",
    "c2 = Client(df.to_pandas())"
   ]
  },
  {
   "cell_type": "code",
   "execution_count": 6,
   "metadata": {},
   "outputs": [],
   "source": [
    "df = pl.read_csv('../random-data-3.csv')\n",
    "df = df[['Y', 'X']]\n",
    "c3 = Client(df.to_pandas())"
   ]
  },
  {
   "cell_type": "code",
   "execution_count": 6,
   "metadata": {},
   "outputs": [],
   "source": [
    "server = Server({1: c1, 2: c2})#, 3: c3})"
   ]
  },
  {
   "cell_type": "code",
   "execution_count": 7,
   "metadata": {},
   "outputs": [
    {
     "name": "stdout",
     "output_type": "stream",
     "text": [
      "TestingRound - y: X, X: ['Y'], beta: [ 0.00190917 -0.12199378], current iteration: 1, current deviance: 200243.8786699699, relative deviance change: 0.9999995006092035\n",
      "TestingRound - y: X, X: ['Y'], beta: [ 0.00191739 -0.12237386], current iteration: 2, current deviance: 197274.86750913225, relative deviance change: 0.015050116080745113\n",
      "TestingRound - y: X, X: ['Y'], beta: [ 0.00191739 -0.12237386], current iteration: 3, current deviance: 197274.8963357231, relative deviance change: 1.4612389504854098e-07\n",
      "TestingRound - y: X, X: ['Y'], beta: [ 0.00191739 -0.12237386], current iteration: 4, current deviance: 197274.89633572308, relative deviance change: 1.4752924089378632e-16\n",
      "TestingRound - y: Y, X: ['X'], beta: [-0.00129733 -0.12150326], current iteration: 1, current deviance: 199438.33130657522, relative deviance change: 0.9999994985921251\n",
      "TestingRound - y: Y, X: ['X'], beta: [-0.00129665 -0.12142273], current iteration: 2, current deviance: 196481.6534200435, relative deviance change: 0.015048104137236902\n",
      "TestingRound - y: Y, X: ['X'], beta: [-0.00129665 -0.12142273], current iteration: 3, current deviance: 196481.6547187221, relative deviance change: 6.609665127349618e-09\n"
     ]
    }
   ],
   "source": [
    "server.run_tests()"
   ]
  },
  {
   "cell_type": "code",
   "execution_count": null,
   "metadata": {},
   "outputs": [],
   "source": [
    "---\n",
    "[-9.99927237e+04 -5.24604438e+01]\n",
    "[-100317.73809537  -24698.07765593]\n",
    "[-100378.55452192  -12122.88313476]\n",
    "[-300689.01633569  -36873.42123449]\n",
    "TestingRound - y: Y, X: ['X'], beta: [-1.00215417 -0.12168587], current iteration: 1, current deviance: 299458.9091783228, relative deviance change: 0.9999996660644799\n",
    "---\n",
    "[-200197.14371281  -12136.98947161]\n",
    "[-200595.22463893  -37401.01196537]\n",
    "[-200585.66431964  -24208.84103201]\n",
    "[-601378.03267137  -73746.84246899]\n",
    "TestingRound - y: Y, X: ['X'], beta: [-2.00430834 -0.24337174], current iteration: 2, current deviance: 595013.2161639454, relative deviance change: 0.4967188110865536\n",
    "---\n",
    "[-300401.56370722  -24221.51849942]\n",
    "[-300872.71118249  -50103.9462748 ]\n",
    "[-300792.77411735  -36294.79892926]\n",
    "[-902067.04900706 -110620.26370348]\n",
    "TestingRound - y: Y, X: ['X'], beta: [-3.00646251 -0.3650576 ], current iteration: 3, current deviance: 1502214.9745210703, relative deviance change: 0.6039093693999542"
   ]
  },
  {
   "cell_type": "code",
   "execution_count": 12,
   "metadata": {},
   "outputs": [
    {
     "data": {
      "text/plain": [
       "(12084.52902781, 12084.529027809998)"
      ]
     },
     "execution_count": 12,
     "metadata": {},
     "output_type": "execute_result"
    }
   ],
   "source": [
    "-5.24604438e+01 - -12136.98947161, -12136.98947161 - -24221.51849942"
   ]
  },
  {
   "cell_type": "code",
   "execution_count": 13,
   "metadata": {},
   "outputs": [
    {
     "data": {
      "text/plain": [
       "(12702.934309440003, 12702.934309429998)"
      ]
     },
     "execution_count": 13,
     "metadata": {},
     "output_type": "execute_result"
    }
   ],
   "source": [
    "-24698.07765593 - -37401.01196537, -37401.01196537 - -50103.9462748"
   ]
  },
  {
   "cell_type": "code",
   "execution_count": 14,
   "metadata": {},
   "outputs": [
    {
     "data": {
      "text/plain": [
       "(12085.95789725, 12085.957897250002)"
      ]
     },
     "execution_count": 14,
     "metadata": {},
     "output_type": "execute_result"
    }
   ],
   "source": [
    "-12122.88313476 - -24208.84103201, -24208.84103201 - -36294.79892926"
   ]
  },
  {
   "cell_type": "code",
   "execution_count": null,
   "metadata": {},
   "outputs": [],
   "source": []
  },
  {
   "cell_type": "code",
   "execution_count": 1,
   "metadata": {},
   "outputs": [
    {
     "data": {
      "text/plain": [
       "-5.00648665"
      ]
     },
     "execution_count": 1,
     "metadata": {},
     "output_type": "execute_result"
    }
   ],
   "source": [
    "TestingRound - y: Y, X: ['X'], beta: [-1.00129733 -0.12150326], current iteration: 1, current deviance: 199438.33130657522, relative deviance change: 0.9999994985921251\n",
    "TestingRound - y: Y, X: ['X'], beta: [-2.00259466 -0.24300653], current iteration: 2, current deviance: 396481.6534200435, relative deviance change: 0.49697954676041617\n",
    "TestingRound - y: Y, X: ['X'], beta: [-3.00389199 -0.36450979], current iteration: 3, current deviance: 1000680.1785616275, relative deviance change: 0.6037877812582214\n",
    "TestingRound - y: Y, X: ['X'], beta: [-4.00518932 -0.48601305], current iteration: 4, current deviance: 2012033.9067313261, relative deviance change: 0.5026524028849321\n",
    "TestingRound - y: Y, X: ['X'], beta: [-5.00648664 -0.60751631], current iteration: 5, current deviance: 3430542.837929135, relative deviance change: 0.4134940028047278"
   ]
  },
  {
   "cell_type": "code",
   "execution_count": null,
   "metadata": {},
   "outputs": [],
   "source": [
    "# value of r2 doubles! WHY?!\n",
    "\n",
    "[[5.00001208e-06 7.78342262e-09]\n",
    " [7.78342262e-09 5.01409338e-06]]\n",
    "[-199580.29097945  -24020.36726541]\n",
    "TestingRound - y: X, X: ['Y'], beta: [-0.99809083 -0.12199378], current iteration: 1, current deviance: 200243.8786699699, relative deviance change: 0.9999995006092035\n",
    "[[5.00001208e-06 7.78342262e-09]\n",
    " [7.78342262e-09 5.01409338e-06]]\n",
    "[-399160.58195889  -48040.73453083]\n",
    "TestingRound - y: X, X: ['Y'], beta: [-1.99618165 -0.24398756], current iteration: 2, current deviance: 397274.8675091318, relative deviance change: 0.4959562140915232"
   ]
  },
  {
   "cell_type": "code",
   "execution_count": null,
   "metadata": {},
   "outputs": [],
   "source": [
    "0       -2.545943\n",
    "1       -0.361617\n",
    "2        0.036539\n",
    "3       -1.585862\n",
    "4       -2.348629\n",
    "           ...   \n",
    "99995    0.094140\n",
    "99996    0.280835\n",
    "99997    0.284479\n",
    "99998   -1.091972\n",
    "99999   -1.101109\n",
    "Name: X, Length: 100000, dtype: float64\n",
    "\n",
    "0        0.928202\n",
    "1       -1.022850\n",
    "2       -1.459742\n",
    "3       -0.898023\n",
    "4       -1.055092\n",
    "           ...   \n",
    "99995    0.066543\n",
    "99996   -1.232357\n",
    "99997   -3.123878\n",
    "99998    0.378372\n",
    "99999   -1.262961\n",
    "Name: X, Length: 100000, dtype: float64"
   ]
  },
  {
   "cell_type": "code",
   "execution_count": null,
   "metadata": {},
   "outputs": [],
   "source": [
    "0       -3.566477\n",
    "1       -1.225785\n",
    "2       -0.811946\n",
    "3       -2.580938\n",
    "4       -3.395498\n",
    "           ...   \n",
    "99995   -1.013917\n",
    "99996   -0.561535\n",
    "99997   -0.891457\n",
    "99998   -2.152535\n",
    "99999   -2.143902\n",
    "Name: X, Length: 100000, dtype: float64\n",
    "\n",
    "0        0.138013\n",
    "1       -2.227509\n",
    "2       -2.629769\n",
    "3       -1.982297\n",
    "4       -2.199608\n",
    "           ...   \n",
    "99995   -0.746711\n",
    "99996   -2.236666\n",
    "99997   -4.337437\n",
    "99998   -0.635011\n",
    "99999   -2.552829\n",
    "Name: X, Length: 100000, dtype: float64"
   ]
  },
  {
   "cell_type": "code",
   "execution_count": null,
   "metadata": {},
   "outputs": [],
   "source": [
    "# r2 c1 and c2 vals plus sum\n",
    "\n",
    "---\n",
    "[-9.99927237e+04 -5.24604438e+01]\n",
    "[-100317.73809537  -24698.07765593]\n",
    "[-200310.46181376  -24750.53809973]\n",
    "TestingRound - y: Y, X: ['X'], beta: [-1.00129733 -0.12150326], current iteration: 1, current deviance: 199438.33130657522, relative deviance change: 0.9999994985921251\n",
    "---\n",
    "[-200111.47617361  -12118.79659865]\n",
    "[-200509.44745392  -37382.27960081]\n",
    "[-400620.92362753  -49501.07619946]\n",
    "TestingRound - y: Y, X: ['X'], beta: [-2.00259466 -0.24300653], current iteration: 2, current deviance: 396481.6534200439, relative deviance change: 0.4969795467604166\n",
    "---\n",
    "[-300230.22862883  -24185.13275351]\n",
    "[-300701.15681246  -50066.48154569]\n",
    "[-600931.38544129  -74251.6142992 ]\n",
    "TestingRound - y: Y, X: ['X'], beta: [-3.00389199 -0.36450979], current iteration: 3, current deviance: 1000680.1785616286, relative deviance change: 0.6037877812582214\n",
    "---\n",
    "[-400348.98108405  -36251.46890837]\n",
    "[-400892.866171    -62750.68349056]\n",
    "[-801241.84725505  -99002.15239893]\n",
    "TestingRound - y: Y, X: ['X'], beta: [-4.00518932 -0.48601305], current iteration: 4, current deviance: 2012033.9067313308, relative deviance change: 0.5026524028849326"
   ]
  },
  {
   "cell_type": "code",
   "execution_count": 1,
   "metadata": {},
   "outputs": [
    {
     "data": {
      "text/plain": [
       "-12631.741501080001"
      ]
     },
     "execution_count": 1,
     "metadata": {},
     "output_type": "execute_result"
    }
   ],
   "source": [
    "-24750.53809973 - -12118.79659865"
   ]
  },
  {
   "cell_type": "code",
   "execution_count": 2,
   "metadata": {},
   "outputs": [
    {
     "data": {
      "text/plain": [
       "12631.741501079996"
      ]
     },
     "execution_count": 2,
     "metadata": {},
     "output_type": "execute_result"
    }
   ],
   "source": [
    "-24750.53809973 - -37382.27960081"
   ]
  },
  {
   "cell_type": "code",
   "execution_count": null,
   "metadata": {},
   "outputs": [],
   "source": [
    "# Differences from C1 and C2 in beta directly cancel out in sum, so they sum up to t*beta1"
   ]
  },
  {
   "cell_type": "code",
   "execution_count": null,
   "metadata": {},
   "outputs": [],
   "source": []
  },
  {
   "cell_type": "code",
   "execution_count": null,
   "metadata": {},
   "outputs": [],
   "source": [
    "import polars as pl\n",
    "import numpy as np"
   ]
  },
  {
   "cell_type": "code",
   "execution_count": null,
   "metadata": {},
   "outputs": [],
   "source": [
    "import statsmodels.api as sm\n",
    "from statsmodels.genmod.generalized_linear_model import GLMResults\n",
    "from statsmodels.genmod.families import family"
   ]
  },
  {
   "cell_type": "code",
   "execution_count": null,
   "metadata": {},
   "outputs": [],
   "source": []
  },
  {
   "cell_type": "code",
   "execution_count": null,
   "metadata": {},
   "outputs": [],
   "source": [
    "#Differences from c1 and c2 EXACTLY cancel out!"
   ]
  },
  {
   "cell_type": "code",
   "execution_count": 2,
   "metadata": {},
   "outputs": [
    {
     "data": {
      "text/plain": [
       "-3.0038919900000005"
      ]
     },
     "execution_count": 2,
     "metadata": {},
     "output_type": "execute_result"
    }
   ],
   "source": [
    "# its just a multiple of the first beta\n",
    "-1.00129733 + -2.00259466"
   ]
  },
  {
   "cell_type": "code",
   "execution_count": 3,
   "metadata": {},
   "outputs": [
    {
     "data": {
      "text/plain": [
       "-3.0038919900000005"
      ]
     },
     "execution_count": 3,
     "metadata": {},
     "output_type": "execute_result"
    }
   ],
   "source": [
    "3 * -1.00129733"
   ]
  },
  {
   "cell_type": "code",
   "execution_count": 3,
   "metadata": {},
   "outputs": [],
   "source": [
    "df = pl.read_csv('../rand-data-1.csv').to_pandas()\n",
    "X1 = df[['X']].to_numpy()\n",
    "X1 = sm.tools.add_constant(X1)\n",
    "y1 = df['Y'].to_numpy()"
   ]
  },
  {
   "cell_type": "code",
   "execution_count": 13,
   "metadata": {},
   "outputs": [],
   "source": [
    "df1 = pl.read_csv('../rand-data-1.csv')\n",
    "df2 = pl.read_csv('../rand-data-2.csv')\n",
    "df = pl.concat([df1, df2], how='diagonal')\n",
    "X = df[['Y']].to_numpy()\n",
    "X = sm.tools.add_constant(X)\n",
    "y = df['X'].to_numpy()"
   ]
  },
  {
   "cell_type": "code",
   "execution_count": 14,
   "metadata": {},
   "outputs": [],
   "source": [
    "glm_model = sm.GLM(y, X, family=family.Gaussian())"
   ]
  },
  {
   "cell_type": "code",
   "execution_count": 15,
   "metadata": {},
   "outputs": [],
   "source": [
    "glm_result = glm_model.fit()"
   ]
  },
  {
   "cell_type": "code",
   "execution_count": 16,
   "metadata": {},
   "outputs": [
    {
     "data": {
      "text/plain": [
       "array([ 0.00190917, -0.12199378])"
      ]
     },
     "execution_count": 16,
     "metadata": {},
     "output_type": "execute_result"
    }
   ],
   "source": [
    "glm_result.params"
   ]
  },
  {
   "cell_type": "code",
   "execution_count": 17,
   "metadata": {},
   "outputs": [
    {
     "data": {
      "text/plain": [
       "197274.8675091323"
      ]
     },
     "execution_count": 17,
     "metadata": {},
     "output_type": "execute_result"
    }
   ],
   "source": [
    "glm_result.deviance"
   ]
  },
  {
   "cell_type": "code",
   "execution_count": 4,
   "metadata": {},
   "outputs": [],
   "source": [
    "beta = np.random.randn(3) # +1 for intercept"
   ]
  },
  {
   "cell_type": "code",
   "execution_count": 20,
   "metadata": {},
   "outputs": [],
   "source": [
    "scale = glm_model.fit().scale\n",
    "normalized_cov_params = np.linalg.inv(X.T.dot(X))"
   ]
  },
  {
   "cell_type": "code",
   "execution_count": null,
   "metadata": {},
   "outputs": [
    {
     "data": {
      "text/plain": [
       "0.8633559370405476"
      ]
     },
     "execution_count": 97,
     "metadata": {},
     "output_type": "execute_result"
    }
   ],
   "source": [
    "scale"
   ]
  },
  {
   "cell_type": "code",
   "execution_count": 21,
   "metadata": {},
   "outputs": [],
   "source": [
    "glm_model = sm.GLM(y, X, family=family.Gaussian())"
   ]
  },
  {
   "cell_type": "code",
   "execution_count": 27,
   "metadata": {},
   "outputs": [],
   "source": [
    "scale = None"
   ]
  },
  {
   "cell_type": "code",
   "execution_count": 31,
   "metadata": {},
   "outputs": [],
   "source": [
    "glm_results = GLMResults(glm_model, beta, normalized_cov_params=normalized_cov_params, scale=scale)"
   ]
  },
  {
   "cell_type": "code",
   "execution_count": 30,
   "metadata": {},
   "outputs": [],
   "source": [
    "eta = glm_results.predict(which='linear')\n",
    "\n",
    "scale = glm_model.estimate_scale(eta)"
   ]
  },
  {
   "cell_type": "code",
   "execution_count": 25,
   "metadata": {},
   "outputs": [
    {
     "data": {
      "text/plain": [
       "7.329039023691067"
      ]
     },
     "execution_count": 25,
     "metadata": {},
     "output_type": "execute_result"
    }
   ],
   "source": [
    "scale"
   ]
  },
  {
   "cell_type": "code",
   "execution_count": 32,
   "metadata": {},
   "outputs": [
    {
     "data": {
      "text/plain": [
       "array([[ 0.13428462,  0.16784324],\n",
       "       [-2.49771194, -2.46415748],\n",
       "       [ 0.16704232,  0.20063577]])"
      ]
     },
     "execution_count": 32,
     "metadata": {},
     "output_type": "execute_result"
    }
   ],
   "source": [
    "glm_results.conf_int()"
   ]
  },
  {
   "cell_type": "code",
   "execution_count": null,
   "metadata": {},
   "outputs": [],
   "source": [
    "a"
   ]
  }
 ],
 "metadata": {
  "kernelspec": {
   "display_name": "base",
   "language": "python",
   "name": "python3"
  },
  "language_info": {
   "codemirror_mode": {
    "name": "ipython",
    "version": 3
   },
   "file_extension": ".py",
   "mimetype": "text/x-python",
   "name": "python",
   "nbconvert_exporter": "python",
   "pygments_lexer": "ipython3",
   "version": "3.10.8"
  }
 },
 "nbformat": 4,
 "nbformat_minor": 2
}
