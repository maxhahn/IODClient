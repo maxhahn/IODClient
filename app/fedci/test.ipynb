{
 "cells": [
  {
   "cell_type": "code",
   "execution_count": 1,
   "metadata": {},
   "outputs": [],
   "source": [
    "import polars as pl\n",
    "import numpy as np\n",
    "import pickle\n",
    "from typing import List\n",
    "from itertools import chain, combinations\n",
    "import matplotlib.pyplot as plt\n",
    "from collections import defaultdict"
   ]
  },
  {
   "cell_type": "code",
   "execution_count": 2,
   "metadata": {},
   "outputs": [],
   "source": [
    "import statsmodels.api as sm\n",
    "from statsmodels.genmod.generalized_linear_model import GLMResults\n",
    "from statsmodels.genmod.families import family"
   ]
  },
  {
   "cell_type": "code",
   "execution_count": 3,
   "metadata": {},
   "outputs": [
    {
     "name": "stderr",
     "output_type": "stream",
     "text": [
      "No GPU automatically detected. Setting SETTINGS.GPU to 0, and SETTINGS.NJOBS to cpu_count.\n"
     ]
    }
   ],
   "source": [
    "import graphviz\n",
    "import networkx as nx\n",
    "from cdt.data import AcyclicGraphGenerator\n",
    "import scipy"
   ]
  },
  {
   "cell_type": "code",
   "execution_count": 122,
   "metadata": {},
   "outputs": [],
   "source": [
    "from scipy import stats\n",
    "from pycit import citest\n",
    "from pgmpy.estimators import CITests\n",
    "from tqdm import tqdm"
   ]
  },
  {
   "cell_type": "code",
   "execution_count": 5,
   "metadata": {},
   "outputs": [],
   "source": [
    "import rpy2.robjects as ro\n",
    "from rpy2.robjects import pandas2ri\n",
    "from collections import OrderedDict"
   ]
  },
  {
   "cell_type": "code",
   "execution_count": 449,
   "metadata": {},
   "outputs": [],
   "source": [
    "class TestingRound:\n",
    "    iterations = 0\n",
    "    last_deviance = None\n",
    "    deviance = 0\n",
    "    convergence_threshold = 1e-8\n",
    "    rss = None\n",
    "    llf = None\n",
    "    total_samples = None\n",
    "    \n",
    "    def __init__(self, y_label, X_labels):\n",
    "        self.y_label = y_label\n",
    "        self.X_labels = X_labels\n",
    "        self._init_beta0()\n",
    "        self.client_data = {\n",
    "            'xtx': [],\n",
    "            'xtz': [],\n",
    "            'dev': [],\n",
    "            'llf': [],\n",
    "            'rss': [],\n",
    "            'nobs': []\n",
    "            }\n",
    "        \n",
    "    def __eq__(self, t):\n",
    "        assert type(t) == TestingRound\n",
    "        return self.y_label == t.y_label and self.X_labels == t.X_labels   \n",
    "    \n",
    "    def __repr__(self):\n",
    "        return f'TestingRound - y: {self.y_label}, X: {self.X_labels}, total samples: {self.total_samples}, beta: {self.beta}, current iteration: {self.iterations}, current deviance: {abs(self.deviance)}, relative deviance change: {abs(self.deviance - self.last_deviance) / (0.1 + abs(self.deviance)) if self.last_deviance is not None else \"?\"}, llf: {self.llf}, rss: {self.rss}' \n",
    "    \n",
    "    def _init_beta0(self):\n",
    "        #self.beta = np.random.randn(len(self.X_labels) + 1) # +1 for intercept\n",
    "        self.beta = np.zeros(len(self.X_labels) + 1) # +1 for intercept\n",
    "        \n",
    "    def get_relative_change_in_deviance(self):\n",
    "        if self.last_deviance is None:\n",
    "            return None\n",
    "        return abs(self.deviance - self.last_deviance) / (0.1 + abs(self.deviance))\n",
    "    \n",
    "    def get_fit_stats(self, client_subset=None):\n",
    "        #dev = [v for k,v in self.client_data['dev'].items() if client_subset is None or k in client_subset]\n",
    "        llf = [v for k,v in self.client_data['llf'].items() if client_subset is None or k in client_subset]\n",
    "        rss = [v for k,v in self.client_data['rss'].items() if client_subset is None or k in client_subset]\n",
    "        nobs = [v for k,v in self.client_data['nobs'].items() if client_subset is None or k in client_subset]\n",
    "    \n",
    "        return {'llf': sum(llf), 'rss': sum(rss), 'nobs': sum(nobs)}\n",
    "        \n",
    "    def aggregate_results(self, results):\n",
    "        self.providing_clients = set(results.keys())\n",
    "        \n",
    "        client_data = [[(k,vi) for vi in v] for k,v in results.items()]\n",
    "        xtx, xtz, dev, llf, rss, nobs = zip(*client_data)\n",
    "        xtx, xtz, dev, llf, rss, nobs = dict(xtx), dict(xtz), dict(dev), dict(llf), dict(rss), dict(nobs)\n",
    "        \n",
    "        self.client_data['xtx'] = xtx\n",
    "        self.client_data['xtz'] = xtz\n",
    "        self.client_data['dev'] = dev\n",
    "        self.client_data['llf'] = llf\n",
    "        self.client_data['rss'] = rss\n",
    "        self.client_data['nobs'] = nobs\n",
    "        \n",
    "        self.beta = np.linalg.inv(sum(xtx.values())) @ sum(xtz.values())\n",
    "        self.last_deviance = self.deviance\n",
    "        self.deviance = sum(dev.values())\n",
    "        self.llf = sum(llf.values())\n",
    "        self.rss = sum(rss.values())\n",
    "        self.total_samples = sum(nobs.values())\n",
    "        self.iterations += 1\n",
    "        \n",
    "        return self.get_relative_change_in_deviance() < self.convergence_threshold\n",
    "    \n",
    "class TestingEngine:\n",
    "    def __init__(self, available_data, max_regressors=None, max_iterations=25, save_steps=10):\n",
    "        self.available_data = available_data\n",
    "        self.max_regressors = max_regressors\n",
    "        self.max_iterations = max_iterations\n",
    "        self.save_steps = save_steps\n",
    "        \n",
    "        self.finished_rounds = []\n",
    "        self.testing_rounds = []\n",
    "        \n",
    "        _max_conditioning_set_size = min(len(self.available_data)-1, self.max_regressors) if self.max_regressors is not None else len(self.available_data)-1\n",
    "        \n",
    "        # for y_var in available_data:\n",
    "        #     set_of_regressors = available_data - {y_var}\n",
    "        #     powerset_of_regressors = chain.from_iterable(combinations(set_of_regressors, r) for r in range(0,_max_conditioning_set_size+1))\n",
    "        #     self.testing_rounds.extend([TestingRound(y_label=y_var, X_labels=sorted(list(x_vars))) for x_vars in powerset_of_regressors])\n",
    "        self.testing_rounds.extend([TestingRound(y_label='X', X_labels=['Y']),\n",
    "                                    TestingRound(y_label='X', X_labels=['Y', 'Z']),\n",
    "                                    TestingRound(y_label='X', X_labels=['Z']),\n",
    "                                    ])\n",
    "            \n",
    "        self.testing_rounds = sorted(self.testing_rounds, key=lambda key: len(key.X_labels))\n",
    "        self.is_finished = len(self.testing_rounds) == 0\n",
    "            \n",
    "    def get_current_test_parameters(self):\n",
    "        curr_testing_round = self.testing_rounds[0]\n",
    "        return curr_testing_round.y_label, curr_testing_round.X_labels, curr_testing_round.beta\n",
    "    \n",
    "    def remove_current_test(self):\n",
    "        self.testing_rounds.pop(0)\n",
    "        self.is_finished = len(self.testing_rounds) == 0\n",
    "    \n",
    "    def finish_current_test(self):\n",
    "        self.finished_rounds.append(self.testing_rounds.pop(0))\n",
    "        self.is_finished = len(self.testing_rounds) == 0\n",
    "        \n",
    "    def aggregate_results(self, results):\n",
    "        has_converged = self.testing_rounds[0].aggregate_results(results)\n",
    "        has_reached_max_iterations = self.testing_rounds[0].iterations >= self.max_iterations\n",
    "        if has_converged or has_reached_max_iterations:\n",
    "            self.finish_current_test()\n",
    "        \n",
    "\n",
    "class Server:\n",
    "    def __init__(self, clients, max_regressors=None):\n",
    "        self.clients = clients\n",
    "        self.available_data = set.union(*[set(c.data_labels) for c in self.clients.values()])\n",
    "        self.testing_engine = TestingEngine(self.available_data, max_regressors=max_regressors)\n",
    "        \n",
    "    def run_tests(self):\n",
    "        counter = 1\n",
    "        while not self.testing_engine.is_finished:\n",
    "            y_label, X_labels, beta = self.testing_engine.get_current_test_parameters()\n",
    "            selected_clients = {id_: c for id_, c in self.clients.items() if set([y_label] + X_labels).issubset(c.data_labels)}\n",
    "            if len(selected_clients) == 0:\n",
    "                self.testing_engine.remove_current_test()\n",
    "                continue\n",
    "            # http response, to compute glm results for y regressed on X with beta\n",
    "            results = {id:c.compute(y_label, X_labels, beta) for id_,c in selected_clients.items()}\n",
    "            self.testing_engine.aggregate_results(results)\n",
    "            if counter % self.testing_engine.save_steps == 0:\n",
    "                counter = 0\n",
    "                with open('./testengine.ckp', 'wb') as f:\n",
    "                    pickle.dump(self.testing_engine, f)\n",
    "            counter += 1\n",
    "                \n",
    "    \n",
    "class Client:\n",
    "    def __init__(self, data):\n",
    "        self.data_labels = sorted(data.columns)\n",
    "        self.data = data[self.data_labels]\n",
    "        \n",
    "    def compute(self, y_label: str, X_labels: List[str], beta):\n",
    "        y = self.data[y_label]\n",
    "        X = self.data[X_labels]\n",
    "        \n",
    "        print(f'Computing {y_label} ~ {X_labels}')\n",
    "        print(X.head(1))\n",
    "        \n",
    "        X = X.to_numpy()\n",
    "        X = sm.tools.add_constant(X)\n",
    "                \n",
    "        eta, mu, dmu_deta, deviance, llf, rss = self._init_compute(y,X,beta)\n",
    "        \n",
    "        z = eta + (y - mu)/dmu_deta\n",
    "        W = np.diag((dmu_deta**2)/max(np.var(mu), 1e-8))\n",
    "        \n",
    "        r1 = X.T @ W @ X\n",
    "        r2 = X.T @ W @ z\n",
    "        \n",
    "        return r1, r2, deviance, llf, rss, len(y)\n",
    "        \n",
    "        \n",
    "    def _init_compute(self, y, X, beta):\n",
    "        glm_model = sm.GLM(y, X, family=family.Gaussian())\n",
    "        normalized_cov_params = np.linalg.inv(X.T.dot(X))\n",
    "        glm_results = GLMResults(glm_model, beta, normalized_cov_params=normalized_cov_params, scale=None)\n",
    "        \n",
    "        eta = glm_results.predict(which='linear')\n",
    "        \n",
    "        # g' is inverse of link function\n",
    "        inverse_link = glm_results.family.link.inverse\n",
    "        mu = inverse_link(eta)\n",
    "        \n",
    "        deviance = glm_results.deviance\n",
    "        \n",
    "        # delta g' is derivative of inverse link function\n",
    "        derivative_inverse_link = glm_results.family.link.inverse_deriv\n",
    "        dmu_deta = derivative_inverse_link(eta)\n",
    "        \n",
    "        rss = sum(glm_results.resid_response**2)\n",
    "    \n",
    "        return eta, mu, dmu_deta, deviance, glm_results.llf, rss"
   ]
  },
  {
   "cell_type": "code",
   "execution_count": 395,
   "metadata": {},
   "outputs": [],
   "source": [
    "class LikelihoodRatioTest:\n",
    "    def __init__(self, t0: TestingRound, t1: TestingRound) -> None:\n",
    "        \n",
    "        assert t0.y_label == t1.y_label\n",
    "        self.t0 = t0\n",
    "        self.t1 = t1\n",
    "        \n",
    "        self.y_label = self.t0.y_label\n",
    "        \n",
    "        if len(t0.X_labels) == 0 and len(t1.X_labels) == 1:\n",
    "            self.x_label = self.t1.X_labels[0]\n",
    "            self.s_labels = []\n",
    "        else:\n",
    "            assert len(t0.X_labels) == 1\n",
    "            assert len(t1.X_labels) > 1\n",
    "            assert t0.X_labels[0] in t1.X_labels\n",
    "            \n",
    "            self.x_label = self.t0.X_labels[0]\n",
    "            self.s_labels = sorted(list(set(self.t1.X_labels) - {self.x_label}))\n",
    "            #self.s_labels = self.t1.X_labels\n",
    "            #self.s_labels.remove(self.x_label)\n",
    "            \n",
    "        print(f\"{t0}\\n{t1}\\n{'-'*20}\\n{self.y_label, self.x_label, self.s_labels}\")\n",
    "        \n",
    "        #self.p_val = round(self._run_likelihood_test(),4)\n",
    "        self.p_val = round(self._run_f_test(),4)\n",
    "        \n",
    "    def __repr__(self):\n",
    "        return f\"LikelihoodRatioTest - y: {self.y_label}, x: {self.x_label}, S: {self.s_labels}, p: {self.p_val}\"\n",
    "    \n",
    "    def _run_likelihood_test(self):\n",
    "        \n",
    "        # t1 should always encompass more regressors -> less client can fulfill this\n",
    "        #assert len(self.t1.providing_clients) < len(self.t0.providing_clients)\n",
    "        \n",
    "        t0_fit_stats = self.t0.get_fit_stats(self.t1.providing_clients)\n",
    "        t1_fit_stats = self.t1.get_fit_stats(self.t1.providing_clients)\n",
    "        \n",
    "        #assert t0_fit_stats['nobs'] == t1_fit_stats['nobs']\n",
    "        \n",
    "        t = -2*(t0_fit_stats['llf'] - t1_fit_stats['llf'])\n",
    "        \n",
    "        par0 = len(self.t0.X_labels) + 1 # + intercept\n",
    "        par1 = len(self.t1.X_labels) + 1 # + intercept\n",
    "        \n",
    "        p_val = scipy.stats.chi2.sf(t, par1-par0)\n",
    "        \n",
    "        return p_val\n",
    "        \n",
    "    def _run_f_test(self):\n",
    "        # t1 should always encompass more regressors -> less client can fulfill this\n",
    "        #assert len(self.t1.providing_clients) < len(self.t0.providing_clients)\n",
    "        \n",
    "        t0_fit_stats = self.t0.get_fit_stats(self.t1.providing_clients)\n",
    "        t1_fit_stats = self.t1.get_fit_stats(self.t1.providing_clients)\n",
    "        \n",
    "        rss0 = t0_fit_stats['rss']\n",
    "        rss1 = t1_fit_stats['rss']\n",
    "        par0 = len(self.t0.X_labels) + 1 # X + intercept\n",
    "        par1 = len(self.t1.X_labels) + 1 # X + intercept\n",
    "        nobs = t0_fit_stats['nobs']\n",
    "        delta_rss = rss0 - rss1\n",
    "        dfn = par1 - par0\n",
    "        dfd = nobs - par1\n",
    "        \n",
    "        f = delta_rss*dfd/rss1/dfn\n",
    "        \n",
    "        p_val = scipy.stats.f.sf(f, dfn, dfd)\n",
    "        \n",
    "        return p_val"
   ]
  },
  {
   "cell_type": "code",
   "execution_count": 396,
   "metadata": {},
   "outputs": [],
   "source": [
    "class SymmetricLikelihoodRatioTest:\n",
    "    \n",
    "    def __init__(self, lrt0: LikelihoodRatioTest, lrt1: LikelihoodRatioTest):\n",
    "        \n",
    "        assert lrt0.y_label == lrt1.x_label or lrt1.x_label is None\n",
    "        assert lrt1.y_label == lrt0.x_label or lrt0.x_label is None\n",
    "        \n",
    "        \n",
    "        #print(lrt0.s_labels, lrt1.s_labels)\n",
    "        assert lrt0.s_labels.sort() == lrt1.s_labels.sort()\n",
    "        \n",
    "        self.label1 = lrt0.y_label\n",
    "        self.label2 = lrt1.y_label\n",
    "        self.conditioning_set = lrt0.s_labels\n",
    "        \n",
    "        self.lrt0: LikelihoodRatioTest = lrt0\n",
    "        self.lrt1: LikelihoodRatioTest = lrt1\n",
    "        \n",
    "        self.p_val = min(2*min(self.lrt0.p_val, self.lrt1.p_val), max(self.lrt0.p_val, self.lrt1.p_val))\n",
    "        \n",
    "    def __repr__(self):\n",
    "        #return f\"SymmetricLikelihoodRatioTest - v0: {self.label1}, v1: {self.label2}, conditioning set: {self.conditioning_set}\"\n",
    "        return f\"SymmetricLikelihoodRatioTest - v0: {self.label1}, v1: {self.label2}, conditioning set: {self.conditioning_set}, p: {self.p_val}\\n\\t-{self.lrt0}\\n\\t-{self.lrt1}\""
   ]
  },
  {
   "cell_type": "markdown",
   "metadata": {},
   "source": [
    "## Linear Model Results to Likelihood Ratio Tests"
   ]
  },
  {
   "cell_type": "code",
   "execution_count": 216,
   "metadata": {},
   "outputs": [],
   "source": [
    "def get_likelihood_tests(finished_rounds):\n",
    "    null_models = [r for r in finished_rounds if len(r.X_labels) == 0]\n",
    "    base_models = [r for r in finished_rounds if len(r.X_labels) == 1]\n",
    "    conditioned_models = [r for r in finished_rounds if len(r.X_labels) > 1]\n",
    "    \n",
    "    tests = []\n",
    "    \n",
    "    for bm in base_models:\n",
    "        nm = [m for m in null_models if m.y_label == bm.y_label]\n",
    "        if len(nm) == 0:\n",
    "            continue\n",
    "        assert len(nm) == 1, 'Too many hits for null model'\n",
    "        nm = nm[0]\n",
    "        \n",
    "        lrt = LikelihoodRatioTest(nm, bm)\n",
    "        tests.append(lrt)\n",
    "    for cm in conditioned_models:\n",
    "        bms = [m for m in base_models if m.y_label == cm.y_label and m.X_labels[0] in cm.X_labels]\n",
    "        for bm in bms:\n",
    "            lrt = LikelihoodRatioTest(bm, cm)\n",
    "            tests.append(lrt)\n",
    "    return tests"
   ]
  },
  {
   "cell_type": "code",
   "execution_count": 248,
   "metadata": {},
   "outputs": [],
   "source": [
    "def get_symmetric_likelihood_tests(finished_rounds):\n",
    "\n",
    "    # TODO: verfiy correctness\n",
    "\n",
    "    ### OBTAIN CORRECT TESTING ROUNDS FOR LIKELIHOOD RATIO TESTS\n",
    "    null_models = {}\n",
    "    base_models = {}\n",
    "    conditioned_models = defaultdict(list)\n",
    "\n",
    "    for round in finished_rounds:\n",
    "        if len(round.X_labels) == 0:\n",
    "            null_models[round.y_label] = round\n",
    "        elif len(round.X_labels) == 1:\n",
    "            base_models[(round.y_label, round.X_labels[0])] = round\n",
    "        else:\n",
    "            for x_var in round.X_labels:\n",
    "                conditioned_models[(round.y_label, x_var)].append(round)\n",
    "                      \n",
    "    #len(null_models), len(base_models), len(conditioned_models)\n",
    "    \n",
    "    ### GENERATE LIKELIHOOD RATIO TESTS\n",
    "    likelihood_ratio_tests = []\n",
    "    unique_combinations = [k for k in conditioned_models.keys() if k[0] < k[1]]\n",
    "\n",
    "    for v0, v1 in unique_combinations:\n",
    "        base_test0 = base_models[(v0,v1)]\n",
    "        base_test1 = base_models[(v1,v0)]\n",
    "        # null test\n",
    "        lrt0 = LikelihoodRatioTest(null_models[v0], base_test0)\n",
    "        lrt1 = LikelihoodRatioTest(null_models[v1], base_test1)\n",
    "        likelihood_ratio_tests.append(SymmetricLikelihoodRatioTest(lrt0, lrt1))\n",
    "        \n",
    "        cond_tests0 = conditioned_models[(v0, v1)]\n",
    "        cond_tests1 = conditioned_models[(v1, v0)]\n",
    "        \n",
    "        lrts0 = [LikelihoodRatioTest(base_test0, t) for t in cond_tests0]\n",
    "        lrts1 = [LikelihoodRatioTest(base_test1, t) for t in cond_tests1]\n",
    "        \n",
    "        likelihood_ratio_tests.extend([SymmetricLikelihoodRatioTest(l0, l1) for l0, l1 in zip(lrts0, lrts1)])\n",
    "        \n",
    "    return likelihood_ratio_tests"
   ]
  },
  {
   "cell_type": "markdown",
   "metadata": {},
   "source": [
    "# DGP Helpers (SEM)"
   ]
  },
  {
   "cell_type": "code",
   "execution_count": 10,
   "metadata": {},
   "outputs": [],
   "source": [
    "class Variable:\n",
    "    def __init__(self, name, parents, influence, intercept, error_mean, error_var):\n",
    "        self.name = name\n",
    "        self.parents = parents\n",
    "        self.influence = influence\n",
    "        self.intercept = intercept\n",
    "        self.error_mean = error_mean\n",
    "        self.error_var = error_var\n",
    "        \n",
    "        self.value = None\n",
    "        \n",
    "    def get(self):\n",
    "        if self.value is None:\n",
    "            self.value = self._calc()\n",
    "        return self.value\n",
    "    \n",
    "    def reset(self):\n",
    "        self.value = None\n",
    "        for p in self.parents:\n",
    "            p.reset()\n",
    "        \n",
    "    def _calc(self):\n",
    "        val = self.intercept\n",
    "        for parent, coeff in zip(self.parents, self.influence):\n",
    "            val += parent.get()*coeff\n",
    "        val += np.random.normal(self.error_mean,self.error_var)\n",
    "            \n",
    "        return val"
   ]
  },
  {
   "cell_type": "code",
   "execution_count": 11,
   "metadata": {},
   "outputs": [],
   "source": [
    "def toposort(variables):\n",
    "    sorted_list = []\n",
    "    no_inc_edge_nodes = {v for v in variables if len(v.parents) == 0}\n",
    "    graph = {v:set(v.parents) for v in variables if len(v.parents) > 0}\n",
    "    \n",
    "    while len(no_inc_edge_nodes) > 0:\n",
    "        node = no_inc_edge_nodes.pop()\n",
    "        sorted_list.append(node)\n",
    "        for node_i in [v for v,ps in graph.items() if node in ps]:\n",
    "            graph[node_i].remove(node)\n",
    "            if len(graph[node_i]) == 0:\n",
    "                no_inc_edge_nodes.add(node_i)\n",
    "                \n",
    "    return sorted_list"
   ]
  },
  {
   "cell_type": "markdown",
   "metadata": {},
   "source": [
    "## Visualization"
   ]
  },
  {
   "cell_type": "code",
   "execution_count": 12,
   "metadata": {},
   "outputs": [],
   "source": [
    "arrow_type_lookup = {\n",
    "        1: 'odot',\n",
    "        2: 'normal',\n",
    "        3: 'none'\n",
    "    }\n",
    "def data2graph(data, labels):\n",
    "    graph = graphviz.Digraph(format='png')\n",
    "    for i in range(len(data)):\n",
    "        for j in range(i+1,len(data)):\n",
    "            arrhead = data[i][j]\n",
    "            arrtail = data[j][i]\n",
    "            if data[i][j] == 1:\n",
    "                graph.edge(labels[i], labels[j], arrowtail=arrow_type_lookup[arrtail], arrowhead=arrow_type_lookup[arrhead])\n",
    "            elif data[i][j] == 2:\n",
    "                graph.edge(labels[i], labels[j], arrowtail=arrow_type_lookup[arrtail], arrowhead=arrow_type_lookup[arrhead])\n",
    "            elif data[i][j] == 3:\n",
    "                graph.edge(labels[i], labels[j], arrowtail=arrow_type_lookup[arrtail], arrowhead=arrow_type_lookup[arrhead])\n",
    "            else:\n",
    "                # just insert the nodes if there is no edge between them\n",
    "                graph.node(labels[i], labels[i])\n",
    "                graph.node(labels[j], labels[j])\n",
    "    return graph"
   ]
  },
  {
   "cell_type": "markdown",
   "metadata": {},
   "source": [
    "## Test Results to Dataframe Conversion"
   ]
  },
  {
   "cell_type": "code",
   "execution_count": 13,
   "metadata": {},
   "outputs": [],
   "source": [
    "def lrt2pandas(lrts: List[SymmetricLikelihoodRatioTest], label2id_mapping):\n",
    "    data = []\n",
    "    for lrt in lrts:\n",
    "        d = {}\n",
    "        d['ord'] = len(lrt.conditioning_set)\n",
    "        if lrt.label1 < lrt.label2:\n",
    "            d['X'] = str(label2id_mapping[lrt.label1])\n",
    "            d['Y'] = str(label2id_mapping[lrt.label2])\n",
    "        else:\n",
    "            d['X'] = str(label2id_mapping[lrt.label2])\n",
    "            d['Y'] = str(label2id_mapping[lrt.label1])\n",
    "        d['S'] = ','.join([str(label2id_mapping[l]) for l in lrt.conditioning_set])\n",
    "        #d['S'] = list([label2id_mapping[l] for l in lrt.conditioning_set])\n",
    "        d['pvalue'] = lrt.p_val\n",
    "        data.append(d)\n",
    "    df = pl.from_dicts(data).unique().sort('ord', 'X', 'Y', 'S').to_pandas()\n",
    "    df.index += 1\n",
    "    df = df.astype({'ord': 'int32', 'X':'int32', 'Y':'int32'})\n",
    "    df.index = [str(idx) for idx in df.index]\n",
    "    return df "
   ]
  },
  {
   "cell_type": "markdown",
   "metadata": {},
   "source": [
    "## FCI"
   ]
  },
  {
   "cell_type": "code",
   "execution_count": 15,
   "metadata": {},
   "outputs": [],
   "source": [
    "def run_local_fci(df, labels, alpha=0.05):\n",
    "    with (ro.default_converter + pandas2ri.converter).context():\n",
    "        ro.r['source']('../scripts/aggregation.r')\n",
    "        aggregate_ci_results_f = ro.globalenv['aggregate_ci_results']\n",
    "        \n",
    "        d = [('citestResults', ro.conversion.get_conversion().py2rpy(df)), ('labels', ro.StrVector(labels))]\n",
    "        od = OrderedDict(d)\n",
    "        lv = ro.ListVector(od)\n",
    "\n",
    "        result = aggregate_ci_results_f([lv], alpha)\n",
    "\n",
    "        pag = [x[1].tolist() for x in result['G_PAG_List'].items()][0]\n",
    "        pag_labels = [list(x[1]) for x in result['G_PAG_Label_List'].items()][0]\n",
    "        \n",
    "    return pag,pag_labels"
   ]
  },
  {
   "cell_type": "markdown",
   "metadata": {},
   "source": [
    "## DGP"
   ]
  },
  {
   "cell_type": "code",
   "execution_count": 36,
   "metadata": {},
   "outputs": [],
   "source": [
    "# generate: try rescale=False and rescale=True (default)"
   ]
  },
  {
   "cell_type": "code",
   "execution_count": 124,
   "metadata": {},
   "outputs": [],
   "source": [
    "NUM_CLIENTS = 1\n",
    "TOTAL_FEATURES = 3\n",
    "FEATURES_PER_CLIENT = 3"
   ]
  },
  {
   "cell_type": "code",
   "execution_count": 60,
   "metadata": {},
   "outputs": [
    {
     "data": {
      "image/svg+xml": [
       "<?xml version=\"1.0\" encoding=\"UTF-8\" standalone=\"no\"?>\n",
       "<!DOCTYPE svg PUBLIC \"-//W3C//DTD SVG 1.1//EN\"\n",
       " \"http://www.w3.org/Graphics/SVG/1.1/DTD/svg11.dtd\">\n",
       "<!-- Generated by graphviz version 11.0.0 (0)\n",
       " -->\n",
       "<!-- Pages: 1 -->\n",
       "<svg width=\"185pt\" height=\"260pt\"\n",
       " viewBox=\"0.00 0.00 185.32 260.00\" xmlns=\"http://www.w3.org/2000/svg\" xmlns:xlink=\"http://www.w3.org/1999/xlink\">\n",
       "<g id=\"graph0\" class=\"graph\" transform=\"scale(1 1) rotate(0) translate(4 256)\">\n",
       "<polygon fill=\"white\" stroke=\"none\" points=\"-4,4 -4,-256 181.32,-256 181.32,4 -4,4\"/>\n",
       "<!-- V0 -->\n",
       "<g id=\"node1\" class=\"node\">\n",
       "<title>V0</title>\n",
       "<ellipse fill=\"none\" stroke=\"black\" cx=\"109\" cy=\"-234\" rx=\"27\" ry=\"18\"/>\n",
       "<text text-anchor=\"middle\" x=\"109\" y=\"-228.95\" font-family=\"Times,serif\" font-size=\"14.00\">V0</text>\n",
       "</g>\n",
       "<!-- V1 -->\n",
       "<g id=\"node2\" class=\"node\">\n",
       "<title>V1</title>\n",
       "<ellipse fill=\"none\" stroke=\"black\" cx=\"82\" cy=\"-162\" rx=\"27\" ry=\"18\"/>\n",
       "<text text-anchor=\"middle\" x=\"82\" y=\"-156.95\" font-family=\"Times,serif\" font-size=\"14.00\">V1</text>\n",
       "</g>\n",
       "<!-- V0&#45;&gt;V1 -->\n",
       "<g id=\"edge1\" class=\"edge\">\n",
       "<title>V0&#45;&gt;V1</title>\n",
       "<path fill=\"none\" stroke=\"black\" d=\"M102.46,-216.05C99.48,-208.32 95.87,-198.96 92.52,-190.27\"/>\n",
       "<polygon fill=\"black\" stroke=\"black\" points=\"95.88,-189.27 89.02,-181.2 89.35,-191.79 95.88,-189.27\"/>\n",
       "</g>\n",
       "<!-- V2 -->\n",
       "<g id=\"node3\" class=\"node\">\n",
       "<title>V2</title>\n",
       "<ellipse fill=\"none\" stroke=\"black\" cx=\"27\" cy=\"-90\" rx=\"27\" ry=\"18\"/>\n",
       "<text text-anchor=\"middle\" x=\"27\" y=\"-84.95\" font-family=\"Times,serif\" font-size=\"14.00\">V2</text>\n",
       "</g>\n",
       "<!-- V0&#45;&gt;V2 -->\n",
       "<g id=\"edge2\" class=\"edge\">\n",
       "<title>V0&#45;&gt;V2</title>\n",
       "<path fill=\"none\" stroke=\"black\" d=\"M89.16,-221.38C74.95,-212.01 56.52,-197.52 46,-180 35.04,-161.75 30.36,-138.07 28.37,-119.72\"/>\n",
       "<polygon fill=\"black\" stroke=\"black\" points=\"31.86,-119.45 27.53,-109.78 24.89,-120.04 31.86,-119.45\"/>\n",
       "</g>\n",
       "<!-- V3 -->\n",
       "<g id=\"node4\" class=\"node\">\n",
       "<title>V3</title>\n",
       "<ellipse fill=\"none\" stroke=\"black\" cx=\"137\" cy=\"-90\" rx=\"27\" ry=\"18\"/>\n",
       "<text text-anchor=\"middle\" x=\"137\" y=\"-84.95\" font-family=\"Times,serif\" font-size=\"14.00\">V3</text>\n",
       "</g>\n",
       "<!-- V0&#45;&gt;V3 -->\n",
       "<g id=\"edge3\" class=\"edge\">\n",
       "<title>V0&#45;&gt;V3</title>\n",
       "<path fill=\"none\" stroke=\"black\" d=\"M112.38,-215.87C117.11,-191.88 125.76,-147.99 131.45,-119.16\"/>\n",
       "<polygon fill=\"black\" stroke=\"black\" points=\"134.82,-120.16 133.32,-109.67 127.95,-118.81 134.82,-120.16\"/>\n",
       "</g>\n",
       "<!-- V4 -->\n",
       "<g id=\"node5\" class=\"node\">\n",
       "<title>V4</title>\n",
       "<ellipse fill=\"none\" stroke=\"black\" cx=\"109\" cy=\"-18\" rx=\"27\" ry=\"18\"/>\n",
       "<text text-anchor=\"middle\" x=\"109\" y=\"-12.95\" font-family=\"Times,serif\" font-size=\"14.00\">V4</text>\n",
       "</g>\n",
       "<!-- V0&#45;&gt;V4 -->\n",
       "<g id=\"edge4\" class=\"edge\">\n",
       "<title>V0&#45;&gt;V4</title>\n",
       "<path fill=\"none\" stroke=\"black\" d=\"M120.17,-217.4C135.68,-194.66 162.97,-150.47 173,-108 176.68,-92.43 179.81,-86.48 173,-72 165.96,-57.02 152.37,-44.82 139.52,-35.92\"/>\n",
       "<polygon fill=\"black\" stroke=\"black\" points=\"141.53,-33.05 131.23,-30.58 137.74,-38.94 141.53,-33.05\"/>\n",
       "</g>\n",
       "<!-- V1&#45;&gt;V2 -->\n",
       "<g id=\"edge5\" class=\"edge\">\n",
       "<title>V1&#45;&gt;V2</title>\n",
       "<path fill=\"none\" stroke=\"black\" d=\"M69.79,-145.46C62.89,-136.67 54.09,-125.48 46.27,-115.53\"/>\n",
       "<polygon fill=\"black\" stroke=\"black\" points=\"49.04,-113.38 40.11,-107.68 43.53,-117.71 49.04,-113.38\"/>\n",
       "</g>\n",
       "<!-- V1&#45;&gt;V4 -->\n",
       "<g id=\"edge6\" class=\"edge\">\n",
       "<title>V1&#45;&gt;V4</title>\n",
       "<path fill=\"none\" stroke=\"black\" d=\"M85.26,-143.87C89.82,-119.88 98.16,-75.99 103.65,-47.16\"/>\n",
       "<polygon fill=\"black\" stroke=\"black\" points=\"107.02,-48.15 105.45,-37.68 100.14,-46.85 107.02,-48.15\"/>\n",
       "</g>\n",
       "<!-- V2&#45;&gt;V4 -->\n",
       "<g id=\"edge7\" class=\"edge\">\n",
       "<title>V2&#45;&gt;V4</title>\n",
       "<path fill=\"none\" stroke=\"black\" d=\"M43.2,-75.17C54.88,-65.2 70.86,-51.56 84.15,-40.21\"/>\n",
       "<polygon fill=\"black\" stroke=\"black\" points=\"86.35,-42.94 91.68,-33.78 81.8,-37.61 86.35,-42.94\"/>\n",
       "</g>\n",
       "<!-- V3&#45;&gt;V4 -->\n",
       "<g id=\"edge8\" class=\"edge\">\n",
       "<title>V3&#45;&gt;V4</title>\n",
       "<path fill=\"none\" stroke=\"black\" d=\"M130.36,-72.41C127.23,-64.57 123.4,-54.99 119.85,-46.13\"/>\n",
       "<polygon fill=\"black\" stroke=\"black\" points=\"123.11,-44.86 116.15,-36.88 116.61,-47.46 123.11,-44.86\"/>\n",
       "</g>\n",
       "</g>\n",
       "</svg>\n"
      ],
      "text/plain": [
       "<graphviz.sources.Source at 0x2ec1e4b80>"
      ]
     },
     "metadata": {},
     "output_type": "display_data"
    },
    {
     "name": "stderr",
     "output_type": "stream",
     "text": [
      "'DataFrame.swapaxes' is deprecated and will be removed in a future version. Please use 'DataFrame.transpose' instead.\n"
     ]
    }
   ],
   "source": [
    "## DGP 1\n",
    "\n",
    "generator = AcyclicGraphGenerator('linear', npoints=25000, nodes=TOTAL_FEATURES)\n",
    "data, graph = generator.generate()\n",
    "#generator.to_csv('generated_graph')\n",
    "\n",
    "dag = graphviz.Source(nx.nx_agraph.to_agraph(graph).to_string())\n",
    "# dag.render('target_graph')\n",
    "display(dag)\n",
    "\n",
    "# split data\n",
    "data_splits = np.array_split(data, NUM_CLIENTS)\n",
    "\n",
    "selected_data_splits = []\n",
    "for data_split in data_splits:\n",
    "    drop_cols = list(np.random.choice(data_split.columns, TOTAL_FEATURES-FEATURES_PER_CLIENT, replace=False))\n",
    "    selected_data_splits.append(data_split.drop(drop_cols, axis=1))\n",
    "data_splits = selected_data_splits\n",
    "del selected_data_splits\n",
    "\n",
    "clients = {i:Client(data_split) for i,data_split in enumerate(data_splits)}"
   ]
  },
  {
   "cell_type": "code",
   "execution_count": 450,
   "metadata": {},
   "outputs": [],
   "source": [
    "# DGP 2\n",
    "\n",
    "possible_dags = [\n",
    "    \"pdsep_g\",\n",
    "    \"collider\",\n",
    "    \"fork\",\n",
    "    \"chain4\",\n",
    "    \"descColl\",\n",
    "    \"2descColl\",\n",
    "    \"iv\"\n",
    "]\n",
    "\n",
    "\n",
    "clients = {}\n",
    "\n",
    "\n",
    "def get_sample_data(dag_type, num_clients, num_samples, num_vars):\n",
    "    with (ro.default_converter + pandas2ri.converter).context():\n",
    "        ro.r['source']('../scripts/example_data.r')\n",
    "        get_example_data_f = ro.globalenv['get_example_data']\n",
    "\n",
    "        result = get_example_data_f(dag_type, num_clients, num_samples, num_vars)\n",
    "        \n",
    "    return result\n",
    "\n",
    "# TOTAL_FEATURES cant be set for this call right now, because the true graph is fixed\n",
    "r = get_sample_data(possible_dags[2], NUM_CLIENTS, 10_000, FEATURES_PER_CLIENT)\n",
    "for i,(_,v) in enumerate(r.items()):\n",
    "    #v.to_csv(f'./test-data/data-{i}.csv')\n",
    "    clients[i] = Client(v)\n",
    "    \n",
    "data = pl.concat([pl.from_pandas(c.data) for c in clients.values()], how='diagonal').to_pandas()"
   ]
  },
  {
   "cell_type": "code",
   "execution_count": 180,
   "metadata": {},
   "outputs": [
    {
     "name": "stderr",
     "output_type": "stream",
     "text": [
      "'DataFrame.swapaxes' is deprecated and will be removed in a future version. Please use 'DataFrame.transpose' instead.\n"
     ]
    }
   ],
   "source": [
    "# DGP 3\n",
    "\n",
    "# Setup\n",
    "\n",
    "a = Variable('A', [], [], 2, 0, 1)\n",
    "b = Variable('B', [], [], -3, 1, 1)\n",
    "c = Variable('C', [a,b], [3,-1.5], 0, 1, 2)\n",
    "\n",
    "variables = [a,c,b]\n",
    "last_variable = toposort(variables)[-1]\n",
    "\n",
    "\n",
    "# Generate\n",
    "\n",
    "samples = []\n",
    "\n",
    "num_samples = 9000\n",
    "for i in range(num_samples):\n",
    "    last_variable.get()\n",
    "    sample = {v.name:v.get() for v in variables}\n",
    "    samples.append(sample)\n",
    "    last_variable.reset()\n",
    "    \n",
    "#samples = {k: [dic[k] for dic in samples] for k in samples[0]}\n",
    "data = pl.from_dicts(samples).to_pandas()\n",
    "\n",
    "# Seperate data to clients\n",
    "\n",
    "data_splits = np.array_split(data, NUM_CLIENTS)\n",
    "\n",
    "selected_data_splits = []\n",
    "for data_split in data_splits:\n",
    "    drop_cols = list(np.random.choice(data_split.columns, TOTAL_FEATURES-FEATURES_PER_CLIENT, replace=False))\n",
    "    selected_data_splits.append(data_split.drop(drop_cols, axis=1))\n",
    "data_splits = selected_data_splits\n",
    "del selected_data_splits\n",
    "\n",
    "clients = {i:Client(data_split) for i,data_split in enumerate(data_splits)}"
   ]
  },
  {
   "cell_type": "markdown",
   "metadata": {},
   "source": [
    "## Server Run"
   ]
  },
  {
   "cell_type": "code",
   "execution_count": null,
   "metadata": {},
   "outputs": [],
   "source": [
    "# Do not use FCI yet: Just test CI!\n",
    "# -> Generated correlated data with a set of equations, e.g. y = alpha*x + beta*z\n",
    "# linear equations with gaussian error, (cov mat needs to be pos def.)\n",
    "#\n",
    "# --- \n",
    "# logistic regression for binary variable\n",
    "# ---\n",
    "# check p value of other packages to my p value!!\n",
    "#  - compute p value pooled and unpooled\n",
    "\n",
    "\n",
    "# x ~ N(2,5) (may or may not be standard norm. dist.)\n",
    "\n",
    "\n",
    "# STANDARDIZE DATASET!! (x-mean)/var\n",
    "\n",
    "\n",
    "# y = beta0 + beta1*x + beta2*w + beta3*v + GAUSSIAN_ERROR\n",
    "# y = f(z,w)\n",
    "# x = g(z)"
   ]
  },
  {
   "cell_type": "code",
   "execution_count": null,
   "metadata": {},
   "outputs": [],
   "source": [
    "# partial correlation test, scipy (gaussian)\n",
    "# chi square test (multinomial)"
   ]
  },
  {
   "cell_type": "code",
   "execution_count": null,
   "metadata": {},
   "outputs": [],
   "source": [
    "# Lookup simulation of binary data for logistic regression/categories for multinomial"
   ]
  },
  {
   "cell_type": "code",
   "execution_count": null,
   "metadata": {},
   "outputs": [],
   "source": [
    "# For Paper:\n",
    "# Dont rewrite paper -> Just quickly review/mention/explain the papers this is based on\n",
    "\n",
    "# Explain Federated GLM\n",
    "# Explained Symmetric CI Test\n",
    "# Explain implementation\n",
    "\n",
    "# Focus on two points, 1. federated CI, 2. client server architecture to run tests with others"
   ]
  },
  {
   "cell_type": "code",
   "execution_count": 451,
   "metadata": {},
   "outputs": [],
   "source": [
    "server = Server(clients, max_regressors=None)"
   ]
  },
  {
   "cell_type": "code",
   "execution_count": 452,
   "metadata": {},
   "outputs": [
    {
     "name": "stdout",
     "output_type": "stream",
     "text": [
      "Computing X ~ ['Y']\n",
      "          Y\n",
      "1 -0.038854\n",
      "Computing X ~ ['Y']\n",
      "          Y\n",
      "1 -0.038854\n",
      "Computing X ~ ['Y']\n",
      "          Y\n",
      "1 -0.038854\n",
      "Computing X ~ ['Z']\n",
      "          Z\n",
      "1  0.972423\n",
      "Computing X ~ ['Z']\n",
      "          Z\n",
      "1  0.972423\n",
      "Computing X ~ ['Z']\n",
      "          Z\n",
      "1  0.972423\n",
      "Computing X ~ ['Y', 'Z']\n",
      "          Y         Z\n",
      "1 -0.038854  0.972423\n",
      "Computing X ~ ['Y', 'Z']\n",
      "          Y         Z\n",
      "1 -0.038854  0.972423\n",
      "Computing X ~ ['Y', 'Z']\n",
      "          Y         Z\n",
      "1 -0.038854  0.972423\n"
     ]
    }
   ],
   "source": [
    "server.run_tests()"
   ]
  },
  {
   "cell_type": "code",
   "execution_count": 279,
   "metadata": {},
   "outputs": [
    {
     "data": {
      "text/plain": [
       "6"
      ]
     },
     "execution_count": 279,
     "metadata": {},
     "output_type": "execute_result"
    }
   ],
   "source": [
    "likelihood_ratio_tests = get_symmetric_likelihood_tests(server.testing_engine.finished_rounds)\n",
    "len(likelihood_ratio_tests)"
   ]
  },
  {
   "cell_type": "code",
   "execution_count": 454,
   "metadata": {},
   "outputs": [
    {
     "name": "stdout",
     "output_type": "stream",
     "text": [
      "TestingRound - y: X, X: ['Y'], total samples: 10000, beta: [-0.00682777  0.05292265], current iteration: 3, current deviance: 9962.184372689702, relative deviance change: 0.0, llf: -14170.441677464849, rss: 9962.18437268967\n",
      "TestingRound - y: X, X: ['Y', 'Z'], total samples: 10000, beta: [-0.00497337 -0.00778686  0.12348866], current iteration: 3, current deviance: 9846.489477363455, relative deviance change: 0.0, llf: -14112.034834185693, rss: 9846.489477363477\n",
      "--------------------\n",
      "('X', 'Y', ['Z'])\n",
      "TestingRound - y: X, X: ['Z'], total samples: 10000, beta: [-0.00513483  0.11965614], current iteration: 3, current deviance: 9846.950028968095, relative deviance change: 0.0, llf: -14112.268694606355, rss: 9846.95002896808\n",
      "TestingRound - y: X, X: ['Y', 'Z'], total samples: 10000, beta: [-0.00497337 -0.00778686  0.12348866], current iteration: 3, current deviance: 9846.489477363455, relative deviance change: 0.0, llf: -14112.034834185693, rss: 9846.489477363477\n",
      "--------------------\n",
      "('X', 'Z', ['Y'])\n"
     ]
    },
    {
     "data": {
      "text/plain": [
       "2"
      ]
     },
     "execution_count": 454,
     "metadata": {},
     "output_type": "execute_result"
    }
   ],
   "source": [
    "likelihood_ratio_tests = get_likelihood_tests(server.testing_engine.finished_rounds)\n",
    "len(likelihood_ratio_tests)"
   ]
  },
  {
   "cell_type": "code",
   "execution_count": 467,
   "metadata": {},
   "outputs": [
    {
     "data": {
      "text/plain": [
       "[TestingRound - y: X, X: ['Y'], total samples: 10000, beta: [-0.00682777  0.05292265], current iteration: 3, current deviance: 9962.184372689702, relative deviance change: 0.0, llf: -14170.441677464849, rss: 9962.18437268967,\n",
       " TestingRound - y: X, X: ['Z'], total samples: 10000, beta: [-0.00513483  0.11965614], current iteration: 3, current deviance: 9846.950028968095, relative deviance change: 0.0, llf: -14112.268694606355, rss: 9846.95002896808,\n",
       " TestingRound - y: X, X: ['Y', 'Z'], total samples: 10000, beta: [-0.00497337 -0.00778686  0.12348866], current iteration: 3, current deviance: 9846.489477363455, relative deviance change: 0.0, llf: -14112.034834185693, rss: 9846.489477363477]"
      ]
     },
     "execution_count": 467,
     "metadata": {},
     "output_type": "execute_result"
    }
   ],
   "source": [
    "server.testing_engine.finished_rounds"
   ]
  },
  {
   "cell_type": "code",
   "execution_count": 474,
   "metadata": {},
   "outputs": [
    {
     "name": "stdout",
     "output_type": "stream",
     "text": [
      "Computing X ~ ['Y']\n",
      "          Y\n",
      "0 -0.038854\n",
      "Computing X ~ ['Z']\n",
      "          Z\n",
      "0  0.972423\n",
      "Computing X ~ ['Y', 'Z']\n",
      "          Y         Z\n",
      "0 -0.038854  0.972423\n"
     ]
    }
   ],
   "source": [
    "def _init_compute(y, X, beta):\n",
    "    glm_model = sm.GLM(y, X, family=family.Gaussian())\n",
    "    #normalized_cov_params = np.linalg.inv(X.T.dot(X))\n",
    "    #glm_results = GLMResults(glm_model, beta, normalized_cov_params=normalized_cov_params, scale=None)\n",
    "    glm_results = glm_model.fit()\n",
    "    \n",
    "    eta = glm_results.predict(which='linear')\n",
    "    \n",
    "    # g' is inverse of link function\n",
    "    inverse_link = glm_results.family.link.inverse\n",
    "    mu = inverse_link(eta)\n",
    "    \n",
    "    deviance = glm_results.deviance\n",
    "    \n",
    "    # delta g' is derivative of inverse link function\n",
    "    derivative_inverse_link = glm_results.family.link.inverse_deriv\n",
    "    dmu_deta = derivative_inverse_link(eta)\n",
    "    \n",
    "    rss = sum(glm_results.resid_response**2)\n",
    "\n",
    "    return eta, mu, dmu_deta, deviance, glm_results.llf, rss\n",
    "\n",
    "def compute(data, y_label: str, X_labels: List[str], beta):\n",
    "    y = data[y_label]\n",
    "    X = data[X_labels]\n",
    "    \n",
    "    print(f'Computing {y_label} ~ {X_labels}')\n",
    "    print(X.head(1))\n",
    "    \n",
    "    X = X.to_numpy()\n",
    "    X = sm.tools.add_constant(X)\n",
    "            \n",
    "    eta, mu, dmu_deta, deviance, llf, rss = _init_compute(y,X,beta)\n",
    "    \n",
    "    z = eta + (y - mu)/dmu_deta\n",
    "    W = np.diag((dmu_deta**2)/max(np.var(mu), 1e-8))\n",
    "    \n",
    "    r1 = X.T @ W @ X\n",
    "    r2 = X.T @ W @ z\n",
    "    \n",
    "    return r1, r2, deviance, llf, rss, len(y)\n",
    "        \n",
    "        \n",
    "t_x_y = compute(data, 'X', ['Y'], None)\n",
    "t_x_z = compute(data, 'X', ['Z'], None)\n",
    "t_x_yz = compute(data, 'X', ['Y', 'Z'], None)\n"
   ]
  },
  {
   "cell_type": "code",
   "execution_count": 482,
   "metadata": {},
   "outputs": [
    {
     "name": "stdout",
     "output_type": "stream",
     "text": [
      "9846.950028968078 9846.489477363477\n",
      "f 0.4675914600613368\n"
     ]
    },
    {
     "data": {
      "text/plain": [
       "0.49411315034053493"
      ]
     },
     "execution_count": 482,
     "metadata": {},
     "output_type": "execute_result"
    }
   ],
   "source": [
    "rss0 = t_x_z[-2]\n",
    "rss1 = t_x_yz[-2]\n",
    "\n",
    "print(rss0, rss1)\n",
    "\n",
    "par0 = 1 + 1 # X + intercept\n",
    "par1 = 2 + 1 # X + intercept\n",
    "nobs = len(data)\n",
    "delta_rss = rss0 - rss1\n",
    "dfn = par1 - par0\n",
    "dfd = nobs - par1\n",
    "\n",
    "f = delta_rss*dfd/rss1/dfn\n",
    "\n",
    "print('f',f)\n",
    "\n",
    "p_val = scipy.stats.f.sf(f, dfn, dfd)\n",
    "p_val"
   ]
  },
  {
   "cell_type": "code",
   "execution_count": 483,
   "metadata": {},
   "outputs": [
    {
     "name": "stdout",
     "output_type": "stream",
     "text": [
      "9962.18437268967 9846.489477363477\n",
      "f 117.46337323925549\n"
     ]
    },
    {
     "data": {
      "text/plain": [
       "3.219092988893084e-27"
      ]
     },
     "execution_count": 483,
     "metadata": {},
     "output_type": "execute_result"
    }
   ],
   "source": [
    "rss0 = t_x_y[-2]\n",
    "rss1 = t_x_yz[-2]\n",
    "\n",
    "print(rss0, rss1)\n",
    "\n",
    "par0 = 1 + 1 # X + intercept\n",
    "par1 = 2 + 1 # X + intercept\n",
    "nobs = len(data)\n",
    "delta_rss = rss0 - rss1\n",
    "dfn = par1 - par0\n",
    "dfd = nobs - par1\n",
    "\n",
    "f = delta_rss*dfd/rss1/dfn\n",
    "\n",
    "print('f',f)\n",
    "\n",
    "p_val = scipy.stats.f.sf(f, dfn, dfd)\n",
    "p_val"
   ]
  },
  {
   "cell_type": "code",
   "execution_count": 435,
   "metadata": {},
   "outputs": [
    {
     "name": "stdout",
     "output_type": "stream",
     "text": [
      "6852.23200399929 6851.675463552414\n",
      "f 0.812025449398098\n"
     ]
    },
    {
     "data": {
      "text/plain": [
       "0.3675438108010485"
      ]
     },
     "execution_count": 435,
     "metadata": {},
     "output_type": "execute_result"
    }
   ],
   "source": [
    "t0_fit_stats = t0.get_fit_stats(t1.providing_clients)\n",
    "t1_fit_stats = t1.get_fit_stats(t1.providing_clients)\n",
    "\n",
    "rss0 = t0_fit_stats['rss']\n",
    "rss1 = t1_fit_stats['rss']\n",
    "\n",
    "print(rss0, rss1)\n",
    "\n",
    "par0 = len(t0.X_labels) + 1 # X + intercept\n",
    "par1 = len(t1.X_labels) + 1 # X + intercept\n",
    "nobs = t0_fit_stats['nobs']\n",
    "delta_rss = rss0 - rss1\n",
    "dfn = par1 - par0\n",
    "dfd = nobs - par1\n",
    "\n",
    "f = delta_rss*dfd/rss1/dfn\n",
    "\n",
    "print('f',f)\n",
    "\n",
    "p_val = scipy.stats.f.sf(f, dfn, dfd)\n",
    "p_val"
   ]
  },
  {
   "cell_type": "code",
   "execution_count": null,
   "metadata": {},
   "outputs": [],
   "source": [
    "('X', 'Z', ('Y',), 0.1664, 0.0)\n",
    "('Y', 'Z', ('X',), 0.1664, 0.0)\n",
    "\n",
    "('Y', 'X', ('Z',), 0.0, 0.1664)\n",
    "('X', 'Y', ('Z',), 0.0, 0.1664)\n",
    "\n",
    "# TODO: WHY IS THIS SWITCHED IN MY IMPLEMENTATION?!"
   ]
  },
  {
   "cell_type": "code",
   "execution_count": 455,
   "metadata": {},
   "outputs": [
    {
     "data": {
      "text/plain": [
       "(0.0, 0.4941)"
      ]
     },
     "execution_count": 455,
     "metadata": {},
     "output_type": "execute_result"
    }
   ],
   "source": [
    "# Sanity check obtained p values\n",
    "p_vals = [l.p_val for l in likelihood_ratio_tests]\n",
    "min(p_vals), max(p_vals)"
   ]
  },
  {
   "cell_type": "code",
   "execution_count": 456,
   "metadata": {},
   "outputs": [
    {
     "data": {
      "image/png": "[encoded data removed]",
      "text/plain": [
       "<Figure size 640x480 with 1 Axes>"
      ]
     },
     "metadata": {},
     "output_type": "display_data"
    }
   ],
   "source": [
    "plt.hist(p_vals)\n",
    "plt.show()"
   ]
  },
  {
   "cell_type": "markdown",
   "metadata": {},
   "source": [
    "## CI Comparison"
   ]
  },
  {
   "cell_type": "code",
   "execution_count": 280,
   "metadata": {},
   "outputs": [
    {
     "data": {
      "text/plain": [
       "12"
      ]
     },
     "execution_count": 280,
     "metadata": {},
     "output_type": "execute_result"
    }
   ],
   "source": [
    "# ASYMMETRIC P_VALUES\n",
    "\n",
    "asymmetric_likelihood_ratio_tests = [t.lrt0 for t in likelihood_ratio_tests] + [t.lrt1 for t in likelihood_ratio_tests]\n",
    "possible_tests = set([(t.y_label, t.x_label, tuple(sorted(t.s_labels)), t.p_val) for t in asymmetric_likelihood_ratio_tests])\n",
    "len(possible_tests)\n"
   ]
  },
  {
   "cell_type": "code",
   "execution_count": 193,
   "metadata": {},
   "outputs": [
    {
     "data": {
      "text/plain": [
       "6"
      ]
     },
     "execution_count": 193,
     "metadata": {},
     "output_type": "execute_result"
    }
   ],
   "source": [
    "# ONLY HAS SYMMETRIC P_VALUE\n",
    "\n",
    "possible_tests = set([(t.label1, t.label2, tuple(sorted(t.conditioning_set)), t.p_val) for t in likelihood_ratio_tests])\n",
    "len(possible_tests)"
   ]
  },
  {
   "cell_type": "code",
   "execution_count": 457,
   "metadata": {},
   "outputs": [
    {
     "data": {
      "text/plain": [
       "2"
      ]
     },
     "execution_count": 457,
     "metadata": {},
     "output_type": "execute_result"
    }
   ],
   "source": [
    "# FROM ASYMMETRIC TESTS\n",
    "\n",
    "possible_tests = set([(t.y_label, t.x_label, tuple(sorted(t.s_labels)), t.p_val) for t in likelihood_ratio_tests])\n",
    "len(possible_tests)"
   ]
  },
  {
   "cell_type": "code",
   "execution_count": 458,
   "metadata": {},
   "outputs": [
    {
     "name": "stderr",
     "output_type": "stream",
     "text": [
      "100%|██████████| 2/2 [00:00<00:00, 142.93it/s]\n"
     ]
    }
   ],
   "source": [
    "ci_comparisons = []\n",
    "\n",
    "for test in tqdm(possible_tests):\n",
    "    if len(test[2]) > 0:\n",
    "        #v0 = data[test[0]].values\n",
    "        #v1 = data[test[1]].values\n",
    "        #s = data[list(test[2])].values\n",
    "        #p0 = test[3]\n",
    "        #p1 = citest(v0, v1, s, test_args={'statistic': 'ksg_cmi', 'n_jobs': 8})\n",
    "        \n",
    "        _, p1 = CITests.pearsonr(test[1], test[0], list(test[2]), data, boolean=False)\n",
    "    else:\n",
    "        v0 = data[test[0]]\n",
    "        v1 = data[test[1]]\n",
    "        correlation, p1 = stats.pearsonr(v0, v1)\n",
    "        \n",
    "    p1 = round(p1,4)\n",
    "    \n",
    "    ci_comparisons.append((*test, p1))"
   ]
  },
  {
   "cell_type": "code",
   "execution_count": 459,
   "metadata": {},
   "outputs": [
    {
     "name": "stdout",
     "output_type": "stream",
     "text": [
      "0.4941 0.0\n",
      "('X', 'Z', ('Y',), 0.4941, 0.0)\n",
      "0.0 0.4941\n",
      "('X', 'Y', ('Z',), 0.0, 0.4941)\n",
      "% correct: 0.00\n",
      "% same: 0.00\n"
     ]
    },
    {
     "name": "stderr",
     "output_type": "stream",
     "text": [
      "divide by zero encountered in scalar divide\n"
     ]
    }
   ],
   "source": [
    "alpha = 0.05\n",
    "\n",
    "counter = 0\n",
    "count_approx_same_val = 0\n",
    "\n",
    "for comp in ci_comparisons:\n",
    "    if comp[3] == comp[4] or abs(1-(comp[3]/comp[4])) < 0.0001:\n",
    "        count_approx_same_val += 1\n",
    "    else:\n",
    "        print(comp[3], comp[4])\n",
    "        \n",
    "    if (comp[3] < alpha and comp[4] < alpha) or (comp[3] > alpha and comp[4] > alpha):\n",
    "        counter += 1\n",
    "    else:\n",
    "        print(comp)\n",
    "        \n",
    "print(f'% correct: {counter if counter==0 else counter/len(ci_comparisons):.2f}')\n",
    "print(f'% same: {count_approx_same_val if count_approx_same_val==0 else count_approx_same_val/len(ci_comparisons):.2f}')"
   ]
  },
  {
   "cell_type": "markdown",
   "metadata": {},
   "source": [
    "## FCI / Causal Discovery"
   ]
  },
  {
   "cell_type": "code",
   "execution_count": 181,
   "metadata": {},
   "outputs": [
    {
     "ename": "KeyError",
     "evalue": "'D'",
     "output_type": "error",
     "traceback": [
      "\u001b[0;31m---------------------------------------------------------------------------\u001b[0m",
      "\u001b[0;31mKeyError\u001b[0m                                  Traceback (most recent call last)",
      "Cell \u001b[0;32mIn[181], line 3\u001b[0m\n\u001b[1;32m      1\u001b[0m label2id_mapping \u001b[38;5;241m=\u001b[39m {l:i \u001b[38;5;28;01mfor\u001b[39;00m i,l \u001b[38;5;129;01min\u001b[39;00m \u001b[38;5;28menumerate\u001b[39m(\u001b[38;5;28msorted\u001b[39m(server\u001b[38;5;241m.\u001b[39mavailable_data), start\u001b[38;5;241m=\u001b[39m\u001b[38;5;241m1\u001b[39m)}\n\u001b[0;32m----> 3\u001b[0m df \u001b[38;5;241m=\u001b[39m \u001b[43mlrt2pandas\u001b[49m\u001b[43m(\u001b[49m\u001b[43mlikelihood_ratio_tests\u001b[49m\u001b[43m,\u001b[49m\u001b[43m \u001b[49m\u001b[43mlabel2id_mapping\u001b[49m\u001b[43m)\u001b[49m\n\u001b[1;32m      4\u001b[0m df\n",
      "Cell \u001b[0;32mIn[10], line 7\u001b[0m, in \u001b[0;36mlrt2pandas\u001b[0;34m(lrts, label2id_mapping)\u001b[0m\n\u001b[1;32m      5\u001b[0m d[\u001b[38;5;124m'\u001b[39m\u001b[38;5;124mord\u001b[39m\u001b[38;5;124m'\u001b[39m] \u001b[38;5;241m=\u001b[39m \u001b[38;5;28mlen\u001b[39m(lrt\u001b[38;5;241m.\u001b[39mconditioning_set)\n\u001b[1;32m      6\u001b[0m \u001b[38;5;28;01mif\u001b[39;00m lrt\u001b[38;5;241m.\u001b[39mlabel1 \u001b[38;5;241m<\u001b[39m lrt\u001b[38;5;241m.\u001b[39mlabel2:\n\u001b[0;32m----> 7\u001b[0m     d[\u001b[38;5;124m'\u001b[39m\u001b[38;5;124mX\u001b[39m\u001b[38;5;124m'\u001b[39m] \u001b[38;5;241m=\u001b[39m \u001b[38;5;28mstr\u001b[39m(\u001b[43mlabel2id_mapping\u001b[49m\u001b[43m[\u001b[49m\u001b[43mlrt\u001b[49m\u001b[38;5;241;43m.\u001b[39;49m\u001b[43mlabel1\u001b[49m\u001b[43m]\u001b[49m)\n\u001b[1;32m      8\u001b[0m     d[\u001b[38;5;124m'\u001b[39m\u001b[38;5;124mY\u001b[39m\u001b[38;5;124m'\u001b[39m] \u001b[38;5;241m=\u001b[39m \u001b[38;5;28mstr\u001b[39m(label2id_mapping[lrt\u001b[38;5;241m.\u001b[39mlabel2])\n\u001b[1;32m      9\u001b[0m \u001b[38;5;28;01melse\u001b[39;00m:\n",
      "\u001b[0;31mKeyError\u001b[0m: 'D'"
     ]
    }
   ],
   "source": [
    "label2id_mapping = {l:i for i,l in enumerate(sorted(server.available_data), start=1)}\n",
    "\n",
    "df = lrt2pandas(likelihood_ratio_tests, label2id_mapping)\n",
    "df"
   ]
  },
  {
   "cell_type": "code",
   "execution_count": 93,
   "metadata": {},
   "outputs": [
    {
     "name": "stdout",
     "output_type": "stream",
     "text": [
      "[1] \"A\" \"B\" \"C\" \"D\" \"E\"\n",
      "[1] 5\n",
      "Order=0; remaining edges:20\n",
      "x= 1  y= 2  S=  : pval = 0.2945827 \n",
      "x= 1  y= 3  S=  : pval = 7.665671e-39 \n",
      "x= 1  y= 4  S=  : pval = 0.2783887 \n",
      "x= 1  y= 5  S=  : pval = 3.327375e-05 \n",
      "x= 2  y= 3  S=  : pval = 9.998619e-05 \n",
      "x= 2  y= 4  S=  : pval = 0.3033387 \n",
      "x= 2  y= 5  S=  : pval = 0.170096 \n",
      "x= 3  y= 1  S=  : pval = 7.665671e-39 \n",
      "x= 3  y= 2  S=  : pval = 9.998619e-05 \n",
      "x= 3  y= 4  S=  : pval = 0.3593654 \n",
      "x= 3  y= 5  S=  : pval = 1.792693e-66 \n",
      "x= 4  y= 5  S=  : pval = 0.07930975 \n",
      "x= 5  y= 1  S=  : pval = 3.327375e-05 \n",
      "x= 5  y= 3  S=  : pval = 1.792693e-66 \n",
      "Order=1; remaining edges:8\n",
      "x= 1  y= 3  S= 5 : pval = 1.980302e-62 \n",
      "x= 1  y= 5  S= 3 : pval = 1.980302e-62 \n",
      "x= 3  y= 1  S= 2 : pval = 0.0003544918 \n",
      "x= 3  y= 1  S= 5 : pval = 1.980302e-62 \n",
      "x= 3  y= 2  S= 1 : pval = 2.637628e-38 \n",
      "x= 3  y= 2  S= 5 : pval = 9.053535e-66 "
     ]
    },
    {
     "name": "stdout",
     "output_type": "stream",
     "text": [
      "\n",
      "x= 3  y= 5  S= 1 : pval = 8.665035e-35 \n",
      "x= 3  y= 5  S= 2 : pval = 0.000533483 \n",
      "x= 5  y= 1  S= 3 : pval = 1.980302e-62 \n",
      "x= 5  y= 3  S= 1 : pval = 8.665035e-35 \n",
      "Order=2; remaining edges:8\n",
      "x= 3  y= 1  S= 2 5 : pval = 8.396653e-64 \n",
      "x= 3  y= 2  S= 1 5 : pval = 2.047955e-97 \n",
      "x= 3  y= 5  S= 1 2 : pval = 2.724267e-36 \n",
      "\n",
      "Compute collider:\n",
      "\n",
      " 1 *-> 3 <-* 2 \n",
      "\n",
      " 2 *-> 3 <-* 1 \n",
      "\n",
      " 2 *-> 3 <-* 5 \n",
      "\n",
      " 5 *-> 3 <-* 2 \n",
      "\n",
      "Possible D-Sep of 1 is: 2 3 5 \n",
      "\n",
      "y =   3\n",
      ".........\n",
      "ord =  1 \n",
      "ord =  2 \n",
      "\n",
      "y =   5\n",
      ".........\n",
      "ord =  1 \n",
      "x= 1  y= 5  S= 2 : pval = 0.3434701 \n",
      "\n",
      "Possible D-Sep of 2 is: 1 3 5 \n",
      "\n",
      "y =   3\n",
      ".........\n",
      "ord =  1 \n",
      "ord =  2 \n",
      "\n",
      "Possible D-Sep of 3 is: 1 2 5 \n",
      "\n",
      "y =   1\n",
      ".........\n",
      "\n",
      "y =   2\n",
      ".........\n",
      "\n",
      "y =   5\n",
      ".........\n",
      "\n",
      "Possible D-Sep of 4 is:  \n",
      "\n",
      "Possible D-Sep of 5 is: 1 2 3 \n",
      "\n",
      "y =   3\n",
      ".........\n",
      "ord =  1 \n",
      "ord =  2 \n",
      "(1) Adding an arrowhead using dataset with variables  A,B,C,D,E \n",
      "(2) Adding an arrowhead using dataset with variables  A,B,C,D,E \n",
      "(1) Adding an arrowhead using dataset with variables  A,B,C,D,E \n",
      "(2) Adding an arrowhead using dataset with variables  A,B,C,D,E \n",
      "numValues: 1, numResults: 0, stopped: TRUE\n",
      "Checking if {  } m-separates A and B \n",
      "Checking if {  } m-separates A and D \n",
      "Checking if { B } m-separates A and E \n",
      "got results for task 1\n",
      "numValues: 1, numResults: 1, stopped: TRUE\n",
      "calling combine function\n",
      "evaluating call object to combine results:\n",
      "  fun(accum, result.1)\n",
      "returning status TRUE\n"
     ]
    }
   ],
   "source": [
    "labels = [str(v) for v in label2id_mapping.keys()]\n",
    "\n",
    "pag, pag_labels = run_local_fci(df, labels)"
   ]
  },
  {
   "cell_type": "code",
   "execution_count": 94,
   "metadata": {},
   "outputs": [
    {
     "data": {
      "image/svg+xml": [
       "<?xml version=\"1.0\" encoding=\"UTF-8\" standalone=\"no\"?>\n",
       "<!DOCTYPE svg PUBLIC \"-//W3C//DTD SVG 1.1//EN\"\n",
       " \"http://www.w3.org/Graphics/SVG/1.1/DTD/svg11.dtd\">\n",
       "<!-- Generated by graphviz version 11.0.0 (0)\n",
       " -->\n",
       "<!-- Pages: 1 -->\n",
       "<svg width=\"206pt\" height=\"188pt\"\n",
       " viewBox=\"0.00 0.00 206.00 188.00\" xmlns=\"http://www.w3.org/2000/svg\" xmlns:xlink=\"http://www.w3.org/1999/xlink\">\n",
       "<g id=\"graph0\" class=\"graph\" transform=\"scale(1 1) rotate(0) translate(4 184)\">\n",
       "<polygon fill=\"white\" stroke=\"none\" points=\"-4,4 -4,-184 202,-184 202,4 -4,4\"/>\n",
       "<!-- A -->\n",
       "<g id=\"node1\" class=\"node\">\n",
       "<title>A</title>\n",
       "<ellipse fill=\"none\" stroke=\"black\" cx=\"27\" cy=\"-162\" rx=\"27\" ry=\"18\"/>\n",
       "<text text-anchor=\"middle\" x=\"27\" y=\"-156.95\" font-family=\"Times,serif\" font-size=\"14.00\">A</text>\n",
       "</g>\n",
       "<!-- C -->\n",
       "<g id=\"node3\" class=\"node\">\n",
       "<title>C</title>\n",
       "<ellipse fill=\"none\" stroke=\"black\" cx=\"63\" cy=\"-90\" rx=\"27\" ry=\"18\"/>\n",
       "<text text-anchor=\"middle\" x=\"63\" y=\"-84.95\" font-family=\"Times,serif\" font-size=\"14.00\">C</text>\n",
       "</g>\n",
       "<!-- A&#45;&gt;C -->\n",
       "<g id=\"edge1\" class=\"edge\">\n",
       "<title>A&#45;&gt;C</title>\n",
       "<path fill=\"none\" stroke=\"black\" d=\"M35.35,-144.76C39.58,-136.55 44.81,-126.37 49.58,-117.09\"/>\n",
       "<polygon fill=\"black\" stroke=\"black\" points=\"52.54,-118.99 54,-108.49 46.32,-115.79 52.54,-118.99\"/>\n",
       "</g>\n",
       "<!-- B -->\n",
       "<g id=\"node2\" class=\"node\">\n",
       "<title>B</title>\n",
       "<ellipse fill=\"none\" stroke=\"black\" cx=\"99\" cy=\"-162\" rx=\"27\" ry=\"18\"/>\n",
       "<text text-anchor=\"middle\" x=\"99\" y=\"-156.95\" font-family=\"Times,serif\" font-size=\"14.00\">B</text>\n",
       "</g>\n",
       "<!-- B&#45;&gt;C -->\n",
       "<g id=\"edge2\" class=\"edge\">\n",
       "<title>B&#45;&gt;C</title>\n",
       "<path fill=\"none\" stroke=\"black\" d=\"M90.65,-144.76C86.42,-136.55 81.19,-126.37 76.42,-117.09\"/>\n",
       "<polygon fill=\"black\" stroke=\"black\" points=\"79.68,-115.79 72,-108.49 73.46,-118.99 79.68,-115.79\"/>\n",
       "</g>\n",
       "<!-- E -->\n",
       "<g id=\"node5\" class=\"node\">\n",
       "<title>E</title>\n",
       "<ellipse fill=\"none\" stroke=\"black\" cx=\"63\" cy=\"-18\" rx=\"27\" ry=\"18\"/>\n",
       "<text text-anchor=\"middle\" x=\"63\" y=\"-12.95\" font-family=\"Times,serif\" font-size=\"14.00\">E</text>\n",
       "</g>\n",
       "<!-- C&#45;&gt;E -->\n",
       "<g id=\"edge3\" class=\"edge\">\n",
       "<title>C&#45;&gt;E</title>\n",
       "<path fill=\"none\" stroke=\"black\" d=\"M63,-71.7C63,-63.64 63,-53.89 63,-44.98\"/>\n",
       "<ellipse fill=\"none\" stroke=\"black\" cx=\"63\" cy=\"-40.6\" rx=\"4\" ry=\"4\"/>\n",
       "</g>\n",
       "<!-- D -->\n",
       "<g id=\"node4\" class=\"node\">\n",
       "<title>D</title>\n",
       "<ellipse fill=\"none\" stroke=\"black\" cx=\"171\" cy=\"-162\" rx=\"27\" ry=\"18\"/>\n",
       "<text text-anchor=\"middle\" x=\"171\" y=\"-156.95\" font-family=\"Times,serif\" font-size=\"14.00\">D</text>\n",
       "</g>\n",
       "</g>\n",
       "</svg>\n"
      ],
      "text/plain": [
       "<graphviz.graphs.Digraph at 0x390245540>"
      ]
     },
     "execution_count": 94,
     "metadata": {},
     "output_type": "execute_result"
    }
   ],
   "source": [
    "data2graph(pag, pag_labels)"
   ]
  },
  {
   "cell_type": "code",
   "execution_count": 95,
   "metadata": {},
   "outputs": [
    {
     "data": {
      "image/png": "[encoded data removed]",
      "text/plain": [
       "<IPython.core.display.Image object>"
      ]
     },
     "metadata": {},
     "output_type": "display_data"
    }
   ],
   "source": [
    "from IPython.display import display, Image\n",
    "display(Image(filename='./tmp/ag.png'))"
   ]
  },
  {
   "cell_type": "markdown",
   "metadata": {},
   "source": [
    "## Results"
   ]
  },
  {
   "cell_type": "code",
   "execution_count": 38,
   "metadata": {},
   "outputs": [
    {
     "data": {
      "image/svg+xml": [
       "<?xml version=\"1.0\" encoding=\"UTF-8\" standalone=\"no\"?>\n",
       "<!DOCTYPE svg PUBLIC \"-//W3C//DTD SVG 1.1//EN\"\n",
       " \"http://www.w3.org/Graphics/SVG/1.1/DTD/svg11.dtd\">\n",
       "<!-- Generated by graphviz version 11.0.0 (0)\n",
       " -->\n",
       "<!-- Pages: 1 -->\n",
       "<svg width=\"89pt\" height=\"188pt\"\n",
       " viewBox=\"0.00 0.00 89.00 188.00\" xmlns=\"http://www.w3.org/2000/svg\" xmlns:xlink=\"http://www.w3.org/1999/xlink\">\n",
       "<g id=\"graph0\" class=\"graph\" transform=\"scale(1 1) rotate(0) translate(4 184)\">\n",
       "<polygon fill=\"white\" stroke=\"none\" points=\"-4,4 -4,-184 85,-184 85,4 -4,4\"/>\n",
       "<!-- V0 -->\n",
       "<g id=\"node1\" class=\"node\">\n",
       "<title>V0</title>\n",
       "<ellipse fill=\"none\" stroke=\"black\" cx=\"54\" cy=\"-162\" rx=\"27\" ry=\"18\"/>\n",
       "<text text-anchor=\"middle\" x=\"54\" y=\"-156.95\" font-family=\"Times,serif\" font-size=\"14.00\">V0</text>\n",
       "</g>\n",
       "<!-- V1 -->\n",
       "<g id=\"node2\" class=\"node\">\n",
       "<title>V1</title>\n",
       "<ellipse fill=\"none\" stroke=\"black\" cx=\"27\" cy=\"-90\" rx=\"27\" ry=\"18\"/>\n",
       "<text text-anchor=\"middle\" x=\"27\" y=\"-84.95\" font-family=\"Times,serif\" font-size=\"14.00\">V1</text>\n",
       "</g>\n",
       "<!-- V0&#45;&gt;V1 -->\n",
       "<g id=\"edge1\" class=\"edge\">\n",
       "<title>V0&#45;&gt;V1</title>\n",
       "<path fill=\"none\" stroke=\"black\" d=\"M47.46,-144.05C44.48,-136.32 40.87,-126.96 37.52,-118.27\"/>\n",
       "<polygon fill=\"black\" stroke=\"black\" points=\"40.88,-117.27 34.02,-109.2 34.35,-119.79 40.88,-117.27\"/>\n",
       "</g>\n",
       "<!-- V2 -->\n",
       "<g id=\"node3\" class=\"node\">\n",
       "<title>V2</title>\n",
       "<ellipse fill=\"none\" stroke=\"black\" cx=\"54\" cy=\"-18\" rx=\"27\" ry=\"18\"/>\n",
       "<text text-anchor=\"middle\" x=\"54\" y=\"-12.95\" font-family=\"Times,serif\" font-size=\"14.00\">V2</text>\n",
       "</g>\n",
       "<!-- V0&#45;&gt;V2 -->\n",
       "<g id=\"edge2\" class=\"edge\">\n",
       "<title>V0&#45;&gt;V2</title>\n",
       "<path fill=\"none\" stroke=\"black\" d=\"M57.65,-143.91C59.68,-133.57 61.98,-120.09 63,-108 64.34,-92.06 64.34,-87.94 63,-72 62.32,-63.97 61.08,-55.33 59.73,-47.4\"/>\n",
       "<polygon fill=\"black\" stroke=\"black\" points=\"63.17,-46.79 57.93,-37.58 56.29,-48.05 63.17,-46.79\"/>\n",
       "</g>\n",
       "<!-- V1&#45;&gt;V2 -->\n",
       "<g id=\"edge3\" class=\"edge\">\n",
       "<title>V1&#45;&gt;V2</title>\n",
       "<path fill=\"none\" stroke=\"black\" d=\"M33.54,-72.05C36.52,-64.32 40.13,-54.96 43.48,-46.27\"/>\n",
       "<polygon fill=\"black\" stroke=\"black\" points=\"46.65,-47.79 46.98,-37.2 40.12,-45.27 46.65,-47.79\"/>\n",
       "</g>\n",
       "</g>\n",
       "</svg>\n"
      ],
      "text/plain": [
       "<graphviz.sources.Source at 0x15a8a7df0>"
      ]
     },
     "metadata": {},
     "output_type": "display_data"
    },
    {
     "data": {
      "image/svg+xml": [
       "<?xml version=\"1.0\" encoding=\"UTF-8\" standalone=\"no\"?>\n",
       "<!DOCTYPE svg PUBLIC \"-//W3C//DTD SVG 1.1//EN\"\n",
       " \"http://www.w3.org/Graphics/SVG/1.1/DTD/svg11.dtd\">\n",
       "<!-- Generated by graphviz version 11.0.0 (0)\n",
       " -->\n",
       "<!-- Pages: 1 -->\n",
       "<svg width=\"89pt\" height=\"188pt\"\n",
       " viewBox=\"0.00 0.00 89.00 188.00\" xmlns=\"http://www.w3.org/2000/svg\" xmlns:xlink=\"http://www.w3.org/1999/xlink\">\n",
       "<g id=\"graph0\" class=\"graph\" transform=\"scale(1 1) rotate(0) translate(4 184)\">\n",
       "<polygon fill=\"white\" stroke=\"none\" points=\"-4,4 -4,-184 85,-184 85,4 -4,4\"/>\n",
       "<!-- V0 -->\n",
       "<g id=\"node1\" class=\"node\">\n",
       "<title>V0</title>\n",
       "<ellipse fill=\"none\" stroke=\"black\" cx=\"54\" cy=\"-162\" rx=\"27\" ry=\"18\"/>\n",
       "<text text-anchor=\"middle\" x=\"54\" y=\"-156.95\" font-family=\"Times,serif\" font-size=\"14.00\">V0</text>\n",
       "</g>\n",
       "<!-- V1 -->\n",
       "<g id=\"node2\" class=\"node\">\n",
       "<title>V1</title>\n",
       "<ellipse fill=\"none\" stroke=\"black\" cx=\"27\" cy=\"-90\" rx=\"27\" ry=\"18\"/>\n",
       "<text text-anchor=\"middle\" x=\"27\" y=\"-84.95\" font-family=\"Times,serif\" font-size=\"14.00\">V1</text>\n",
       "</g>\n",
       "<!-- V0&#45;&gt;V1 -->\n",
       "<g id=\"edge1\" class=\"edge\">\n",
       "<title>V0&#45;&gt;V1</title>\n",
       "<path fill=\"none\" stroke=\"black\" d=\"M47.46,-144.05C44.21,-135.63 40.22,-125.28 36.63,-115.97\"/>\n",
       "<ellipse fill=\"none\" stroke=\"black\" cx=\"35.1\" cy=\"-111.99\" rx=\"4\" ry=\"4\"/>\n",
       "</g>\n",
       "<!-- V2 -->\n",
       "<g id=\"node3\" class=\"node\">\n",
       "<title>V2</title>\n",
       "<ellipse fill=\"none\" stroke=\"black\" cx=\"54\" cy=\"-18\" rx=\"27\" ry=\"18\"/>\n",
       "<text text-anchor=\"middle\" x=\"54\" y=\"-12.95\" font-family=\"Times,serif\" font-size=\"14.00\">V2</text>\n",
       "</g>\n",
       "<!-- V0&#45;&gt;V2 -->\n",
       "<g id=\"edge2\" class=\"edge\">\n",
       "<title>V0&#45;&gt;V2</title>\n",
       "<path fill=\"none\" stroke=\"black\" d=\"M57.65,-143.91C59.68,-133.57 61.98,-120.09 63,-108 64.34,-92.06 64.34,-87.94 63,-72 62.25,-63.12 60.81,-53.49 59.3,-44.91\"/>\n",
       "<ellipse fill=\"none\" stroke=\"black\" cx=\"58.48\" cy=\"-40.52\" rx=\"4\" ry=\"4\"/>\n",
       "</g>\n",
       "<!-- V1&#45;&gt;V2 -->\n",
       "<g id=\"edge3\" class=\"edge\">\n",
       "<title>V1&#45;&gt;V2</title>\n",
       "<path fill=\"none\" stroke=\"black\" d=\"M33.54,-72.05C36.79,-63.63 40.78,-53.28 44.37,-43.97\"/>\n",
       "<ellipse fill=\"none\" stroke=\"black\" cx=\"45.9\" cy=\"-39.99\" rx=\"4\" ry=\"4\"/>\n",
       "</g>\n",
       "</g>\n",
       "</svg>\n"
      ],
      "text/plain": [
       "<graphviz.graphs.Digraph at 0x29910b730>"
      ]
     },
     "metadata": {},
     "output_type": "display_data"
    }
   ],
   "source": [
    "display(dag)\n",
    "display(data2graph(pag, pag_labels))"
   ]
  },
  {
   "cell_type": "code",
   "execution_count": 36,
   "metadata": {},
   "outputs": [
    {
     "data": {
      "image/svg+xml": [
       "<?xml version=\"1.0\" encoding=\"UTF-8\" standalone=\"no\"?>\n",
       "<!DOCTYPE svg PUBLIC \"-//W3C//DTD SVG 1.1//EN\"\n",
       " \"http://www.w3.org/Graphics/SVG/1.1/DTD/svg11.dtd\">\n",
       "<!-- Generated by graphviz version 11.0.0 (0)\n",
       " -->\n",
       "<!-- Pages: 1 -->\n",
       "<svg width=\"62pt\" height=\"188pt\"\n",
       " viewBox=\"0.00 0.00 62.00 188.00\" xmlns=\"http://www.w3.org/2000/svg\" xmlns:xlink=\"http://www.w3.org/1999/xlink\">\n",
       "<g id=\"graph0\" class=\"graph\" transform=\"scale(1 1) rotate(0) translate(4 184)\">\n",
       "<polygon fill=\"white\" stroke=\"none\" points=\"-4,4 -4,-184 58,-184 58,4 -4,4\"/>\n",
       "<!-- V0 -->\n",
       "<g id=\"node1\" class=\"node\">\n",
       "<title>V0</title>\n",
       "<ellipse fill=\"none\" stroke=\"black\" cx=\"27\" cy=\"-162\" rx=\"27\" ry=\"18\"/>\n",
       "<text text-anchor=\"middle\" x=\"27\" y=\"-156.95\" font-family=\"Times,serif\" font-size=\"14.00\">V0</text>\n",
       "</g>\n",
       "<!-- V1 -->\n",
       "<g id=\"node2\" class=\"node\">\n",
       "<title>V1</title>\n",
       "<ellipse fill=\"none\" stroke=\"black\" cx=\"27\" cy=\"-90\" rx=\"27\" ry=\"18\"/>\n",
       "<text text-anchor=\"middle\" x=\"27\" y=\"-84.95\" font-family=\"Times,serif\" font-size=\"14.00\">V1</text>\n",
       "</g>\n",
       "<!-- V0&#45;&gt;V1 -->\n",
       "<g id=\"edge1\" class=\"edge\">\n",
       "<title>V0&#45;&gt;V1</title>\n",
       "<path fill=\"none\" stroke=\"black\" d=\"M27,-143.7C27,-136.41 27,-127.73 27,-119.54\"/>\n",
       "<polygon fill=\"black\" stroke=\"black\" points=\"30.5,-119.62 27,-109.62 23.5,-119.62 30.5,-119.62\"/>\n",
       "</g>\n",
       "<!-- V2 -->\n",
       "<g id=\"node3\" class=\"node\">\n",
       "<title>V2</title>\n",
       "<ellipse fill=\"none\" stroke=\"black\" cx=\"27\" cy=\"-18\" rx=\"27\" ry=\"18\"/>\n",
       "<text text-anchor=\"middle\" x=\"27\" y=\"-12.95\" font-family=\"Times,serif\" font-size=\"14.00\">V2</text>\n",
       "</g>\n",
       "<!-- V1&#45;&gt;V2 -->\n",
       "<g id=\"edge2\" class=\"edge\">\n",
       "<title>V1&#45;&gt;V2</title>\n",
       "<path fill=\"none\" stroke=\"black\" d=\"M27,-71.7C27,-64.41 27,-55.73 27,-47.54\"/>\n",
       "<polygon fill=\"black\" stroke=\"black\" points=\"30.5,-47.62 27,-37.62 23.5,-47.62 30.5,-47.62\"/>\n",
       "</g>\n",
       "</g>\n",
       "</svg>\n"
      ],
      "text/plain": [
       "<graphviz.sources.Source at 0x16192aef0>"
      ]
     },
     "metadata": {},
     "output_type": "display_data"
    },
    {
     "data": {
      "image/svg+xml": [
       "<?xml version=\"1.0\" encoding=\"UTF-8\" standalone=\"no\"?>\n",
       "<!DOCTYPE svg PUBLIC \"-//W3C//DTD SVG 1.1//EN\"\n",
       " \"http://www.w3.org/Graphics/SVG/1.1/DTD/svg11.dtd\">\n",
       "<!-- Generated by graphviz version 11.0.0 (0)\n",
       " -->\n",
       "<!-- Pages: 1 -->\n",
       "<svg width=\"89pt\" height=\"188pt\"\n",
       " viewBox=\"0.00 0.00 89.00 188.00\" xmlns=\"http://www.w3.org/2000/svg\" xmlns:xlink=\"http://www.w3.org/1999/xlink\">\n",
       "<g id=\"graph0\" class=\"graph\" transform=\"scale(1 1) rotate(0) translate(4 184)\">\n",
       "<polygon fill=\"white\" stroke=\"none\" points=\"-4,4 -4,-184 85,-184 85,4 -4,4\"/>\n",
       "<!-- V0 -->\n",
       "<g id=\"node1\" class=\"node\">\n",
       "<title>V0</title>\n",
       "<ellipse fill=\"none\" stroke=\"black\" cx=\"54\" cy=\"-162\" rx=\"27\" ry=\"18\"/>\n",
       "<text text-anchor=\"middle\" x=\"54\" y=\"-156.95\" font-family=\"Times,serif\" font-size=\"14.00\">V0</text>\n",
       "</g>\n",
       "<!-- V1 -->\n",
       "<g id=\"node2\" class=\"node\">\n",
       "<title>V1</title>\n",
       "<ellipse fill=\"none\" stroke=\"black\" cx=\"27\" cy=\"-90\" rx=\"27\" ry=\"18\"/>\n",
       "<text text-anchor=\"middle\" x=\"27\" y=\"-84.95\" font-family=\"Times,serif\" font-size=\"14.00\">V1</text>\n",
       "</g>\n",
       "<!-- V0&#45;&gt;V1 -->\n",
       "<g id=\"edge1\" class=\"edge\">\n",
       "<title>V0&#45;&gt;V1</title>\n",
       "<path fill=\"none\" stroke=\"black\" d=\"M47.46,-144.05C44.21,-135.63 40.22,-125.28 36.63,-115.97\"/>\n",
       "<ellipse fill=\"none\" stroke=\"black\" cx=\"35.1\" cy=\"-111.99\" rx=\"4\" ry=\"4\"/>\n",
       "</g>\n",
       "<!-- V2 -->\n",
       "<g id=\"node3\" class=\"node\">\n",
       "<title>V2</title>\n",
       "<ellipse fill=\"none\" stroke=\"black\" cx=\"54\" cy=\"-18\" rx=\"27\" ry=\"18\"/>\n",
       "<text text-anchor=\"middle\" x=\"54\" y=\"-12.95\" font-family=\"Times,serif\" font-size=\"14.00\">V2</text>\n",
       "</g>\n",
       "<!-- V0&#45;&gt;V2 -->\n",
       "<g id=\"edge2\" class=\"edge\">\n",
       "<title>V0&#45;&gt;V2</title>\n",
       "<path fill=\"none\" stroke=\"black\" d=\"M57.65,-143.91C59.68,-133.57 61.98,-120.09 63,-108 64.34,-92.06 64.34,-87.94 63,-72 62.25,-63.12 60.81,-53.49 59.3,-44.91\"/>\n",
       "<ellipse fill=\"none\" stroke=\"black\" cx=\"58.48\" cy=\"-40.52\" rx=\"4\" ry=\"4\"/>\n",
       "</g>\n",
       "<!-- V1&#45;&gt;V2 -->\n",
       "<g id=\"edge3\" class=\"edge\">\n",
       "<title>V1&#45;&gt;V2</title>\n",
       "<path fill=\"none\" stroke=\"black\" d=\"M33.54,-72.05C36.79,-63.63 40.78,-53.28 44.37,-43.97\"/>\n",
       "<ellipse fill=\"none\" stroke=\"black\" cx=\"45.9\" cy=\"-39.99\" rx=\"4\" ry=\"4\"/>\n",
       "</g>\n",
       "</g>\n",
       "</svg>\n"
      ],
      "text/plain": [
       "<graphviz.graphs.Digraph at 0x16193cfa0>"
      ]
     },
     "metadata": {},
     "output_type": "display_data"
    }
   ],
   "source": [
    "display(dag)\n",
    "display(data2graph(pag, pag_labels))"
   ]
  },
  {
   "cell_type": "code",
   "execution_count": 78,
   "metadata": {},
   "outputs": [
    {
     "data": {
      "image/svg+xml": [
       "<?xml version=\"1.0\" encoding=\"UTF-8\" standalone=\"no\"?>\n",
       "<!DOCTYPE svg PUBLIC \"-//W3C//DTD SVG 1.1//EN\"\n",
       " \"http://www.w3.org/Graphics/SVG/1.1/DTD/svg11.dtd\">\n",
       "<!-- Generated by graphviz version 11.0.0 (0)\n",
       " -->\n",
       "<!-- Pages: 1 -->\n",
       "<svg width=\"170pt\" height=\"116pt\"\n",
       " viewBox=\"0.00 0.00 170.00 116.00\" xmlns=\"http://www.w3.org/2000/svg\" xmlns:xlink=\"http://www.w3.org/1999/xlink\">\n",
       "<g id=\"graph0\" class=\"graph\" transform=\"scale(1 1) rotate(0) translate(4 112)\">\n",
       "<polygon fill=\"white\" stroke=\"none\" points=\"-4,4 -4,-112 166,-112 166,4 -4,4\"/>\n",
       "<!-- V0 -->\n",
       "<g id=\"node1\" class=\"node\">\n",
       "<title>V0</title>\n",
       "<ellipse fill=\"none\" stroke=\"black\" cx=\"27\" cy=\"-90\" rx=\"27\" ry=\"18\"/>\n",
       "<text text-anchor=\"middle\" x=\"27\" y=\"-84.95\" font-family=\"Times,serif\" font-size=\"14.00\">V0</text>\n",
       "</g>\n",
       "<!-- V1 -->\n",
       "<g id=\"node2\" class=\"node\">\n",
       "<title>V1</title>\n",
       "<ellipse fill=\"none\" stroke=\"black\" cx=\"99\" cy=\"-90\" rx=\"27\" ry=\"18\"/>\n",
       "<text text-anchor=\"middle\" x=\"99\" y=\"-84.95\" font-family=\"Times,serif\" font-size=\"14.00\">V1</text>\n",
       "</g>\n",
       "<!-- V2 -->\n",
       "<g id=\"node3\" class=\"node\">\n",
       "<title>V2</title>\n",
       "<ellipse fill=\"none\" stroke=\"black\" cx=\"63\" cy=\"-18\" rx=\"27\" ry=\"18\"/>\n",
       "<text text-anchor=\"middle\" x=\"63\" y=\"-12.95\" font-family=\"Times,serif\" font-size=\"14.00\">V2</text>\n",
       "</g>\n",
       "<!-- V1&#45;&gt;V2 -->\n",
       "<g id=\"edge1\" class=\"edge\">\n",
       "<title>V1&#45;&gt;V2</title>\n",
       "<path fill=\"none\" stroke=\"black\" d=\"M90.65,-72.76C86.42,-64.55 81.19,-54.37 76.42,-45.09\"/>\n",
       "<polygon fill=\"black\" stroke=\"black\" points=\"79.68,-43.79 72,-36.49 73.46,-46.99 79.68,-43.79\"/>\n",
       "</g>\n",
       "<!-- V3 -->\n",
       "<g id=\"node4\" class=\"node\">\n",
       "<title>V3</title>\n",
       "<ellipse fill=\"none\" stroke=\"black\" cx=\"135\" cy=\"-18\" rx=\"27\" ry=\"18\"/>\n",
       "<text text-anchor=\"middle\" x=\"135\" y=\"-12.95\" font-family=\"Times,serif\" font-size=\"14.00\">V3</text>\n",
       "</g>\n",
       "<!-- V1&#45;&gt;V3 -->\n",
       "<g id=\"edge2\" class=\"edge\">\n",
       "<title>V1&#45;&gt;V3</title>\n",
       "<path fill=\"none\" stroke=\"black\" d=\"M107.35,-72.76C111.58,-64.55 116.81,-54.37 121.58,-45.09\"/>\n",
       "<polygon fill=\"black\" stroke=\"black\" points=\"124.54,-46.99 126,-36.49 118.32,-43.79 124.54,-46.99\"/>\n",
       "</g>\n",
       "</g>\n",
       "</svg>\n"
      ],
      "text/plain": [
       "<graphviz.sources.Source at 0x16193e170>"
      ]
     },
     "metadata": {},
     "output_type": "display_data"
    },
    {
     "data": {
      "image/svg+xml": [
       "<?xml version=\"1.0\" encoding=\"UTF-8\" standalone=\"no\"?>\n",
       "<!DOCTYPE svg PUBLIC \"-//W3C//DTD SVG 1.1//EN\"\n",
       " \"http://www.w3.org/Graphics/SVG/1.1/DTD/svg11.dtd\">\n",
       "<!-- Generated by graphviz version 11.0.0 (0)\n",
       " -->\n",
       "<!-- Pages: 1 -->\n",
       "<svg width=\"123pt\" height=\"260pt\"\n",
       " viewBox=\"0.00 0.00 122.59 260.00\" xmlns=\"http://www.w3.org/2000/svg\" xmlns:xlink=\"http://www.w3.org/1999/xlink\">\n",
       "<g id=\"graph0\" class=\"graph\" transform=\"scale(1 1) rotate(0) translate(4 256)\">\n",
       "<polygon fill=\"white\" stroke=\"none\" points=\"-4,4 -4,-256 118.59,-256 118.59,4 -4,4\"/>\n",
       "<!-- V0 -->\n",
       "<g id=\"node1\" class=\"node\">\n",
       "<title>V0</title>\n",
       "<ellipse fill=\"none\" stroke=\"black\" cx=\"73\" cy=\"-234\" rx=\"27\" ry=\"18\"/>\n",
       "<text text-anchor=\"middle\" x=\"73\" y=\"-228.95\" font-family=\"Times,serif\" font-size=\"14.00\">V0</text>\n",
       "</g>\n",
       "<!-- V1 -->\n",
       "<g id=\"node2\" class=\"node\">\n",
       "<title>V1</title>\n",
       "<ellipse fill=\"none\" stroke=\"black\" cx=\"73\" cy=\"-162\" rx=\"27\" ry=\"18\"/>\n",
       "<text text-anchor=\"middle\" x=\"73\" y=\"-156.95\" font-family=\"Times,serif\" font-size=\"14.00\">V1</text>\n",
       "</g>\n",
       "<!-- V0&#45;&gt;V1 -->\n",
       "<g id=\"edge1\" class=\"edge\">\n",
       "<title>V0&#45;&gt;V1</title>\n",
       "<path fill=\"none\" stroke=\"black\" d=\"M73,-215.7C73,-207.64 73,-197.89 73,-188.98\"/>\n",
       "<ellipse fill=\"none\" stroke=\"black\" cx=\"73\" cy=\"-184.6\" rx=\"4\" ry=\"4\"/>\n",
       "</g>\n",
       "<!-- V2 -->\n",
       "<g id=\"node3\" class=\"node\">\n",
       "<title>V2</title>\n",
       "<ellipse fill=\"none\" stroke=\"black\" cx=\"27\" cy=\"-90\" rx=\"27\" ry=\"18\"/>\n",
       "<text text-anchor=\"middle\" x=\"27\" y=\"-84.95\" font-family=\"Times,serif\" font-size=\"14.00\">V2</text>\n",
       "</g>\n",
       "<!-- V0&#45;&gt;V2 -->\n",
       "<g id=\"edge2\" class=\"edge\">\n",
       "<title>V0&#45;&gt;V2</title>\n",
       "<path fill=\"none\" stroke=\"black\" d=\"M59.79,-217.89C51.79,-207.85 42.17,-193.98 37,-180 29.51,-159.76 27.21,-135.3 26.66,-117.15\"/>\n",
       "<ellipse fill=\"none\" stroke=\"black\" cx=\"26.59\" cy=\"-112.79\" rx=\"4\" ry=\"4\"/>\n",
       "</g>\n",
       "<!-- V3 -->\n",
       "<g id=\"node4\" class=\"node\">\n",
       "<title>V3</title>\n",
       "<ellipse fill=\"none\" stroke=\"black\" cx=\"82\" cy=\"-18\" rx=\"27\" ry=\"18\"/>\n",
       "<text text-anchor=\"middle\" x=\"82\" y=\"-12.95\" font-family=\"Times,serif\" font-size=\"14.00\">V3</text>\n",
       "</g>\n",
       "<!-- V0&#45;&gt;V3 -->\n",
       "<g id=\"edge3\" class=\"edge\">\n",
       "<title>V0&#45;&gt;V3</title>\n",
       "<path fill=\"none\" stroke=\"black\" d=\"M86.75,-218.07C94.96,-208.1 104.62,-194.25 109,-180 123.53,-132.75 105.73,-75.15 92.91,-43.24\"/>\n",
       "<ellipse fill=\"none\" stroke=\"black\" cx=\"91.34\" cy=\"-39.48\" rx=\"4\" ry=\"4\"/>\n",
       "</g>\n",
       "<!-- V1&#45;&gt;V2 -->\n",
       "<g id=\"edge4\" class=\"edge\">\n",
       "<title>V1&#45;&gt;V2</title>\n",
       "<path fill=\"none\" stroke=\"black\" d=\"M62.56,-145.12C56.56,-135.99 48.92,-124.36 42.26,-114.22\"/>\n",
       "<ellipse fill=\"none\" stroke=\"black\" cx=\"39.87\" cy=\"-110.58\" rx=\"4\" ry=\"4\"/>\n",
       "</g>\n",
       "<!-- V1&#45;&gt;V3 -->\n",
       "<g id=\"edge5\" class=\"edge\">\n",
       "<title>V1&#45;&gt;V3</title>\n",
       "<path fill=\"none\" stroke=\"black\" d=\"M74.1,-143.59C75.67,-118.86 78.55,-73.41 80.37,-44.77\"/>\n",
       "<ellipse fill=\"none\" stroke=\"black\" cx=\"80.63\" cy=\"-40.6\" rx=\"4\" ry=\"4\"/>\n",
       "</g>\n",
       "<!-- V2&#45;&gt;V3 -->\n",
       "<g id=\"edge6\" class=\"edge\">\n",
       "<title>V2&#45;&gt;V3</title>\n",
       "<path fill=\"none\" stroke=\"black\" d=\"M39.21,-73.46C46.61,-64.04 56.19,-51.85 64.4,-41.4\"/>\n",
       "<ellipse fill=\"none\" stroke=\"black\" cx=\"67.05\" cy=\"-38.03\" rx=\"4\" ry=\"4\"/>\n",
       "</g>\n",
       "</g>\n",
       "</svg>\n"
      ],
      "text/plain": [
       "<graphviz.graphs.Digraph at 0x16193d060>"
      ]
     },
     "metadata": {},
     "output_type": "display_data"
    }
   ],
   "source": [
    "display(dag)\n",
    "display(data2graph(pag, pag_labels))"
   ]
  },
  {
   "cell_type": "code",
   "execution_count": 43,
   "metadata": {},
   "outputs": [
    {
     "data": {
      "image/svg+xml": [
       "<?xml version=\"1.0\" encoding=\"UTF-8\" standalone=\"no\"?>\n",
       "<!DOCTYPE svg PUBLIC \"-//W3C//DTD SVG 1.1//EN\"\n",
       " \"http://www.w3.org/Graphics/SVG/1.1/DTD/svg11.dtd\">\n",
       "<!-- Generated by graphviz version 11.0.0 (0)\n",
       " -->\n",
       "<!-- Pages: 1 -->\n",
       "<svg width=\"134pt\" height=\"116pt\"\n",
       " viewBox=\"0.00 0.00 134.00 116.00\" xmlns=\"http://www.w3.org/2000/svg\" xmlns:xlink=\"http://www.w3.org/1999/xlink\">\n",
       "<g id=\"graph0\" class=\"graph\" transform=\"scale(1 1) rotate(0) translate(4 112)\">\n",
       "<polygon fill=\"white\" stroke=\"none\" points=\"-4,4 -4,-112 130,-112 130,4 -4,4\"/>\n",
       "<!-- V0 -->\n",
       "<g id=\"node1\" class=\"node\">\n",
       "<title>V0</title>\n",
       "<ellipse fill=\"none\" stroke=\"black\" cx=\"27\" cy=\"-90\" rx=\"27\" ry=\"18\"/>\n",
       "<text text-anchor=\"middle\" x=\"27\" y=\"-84.95\" font-family=\"Times,serif\" font-size=\"14.00\">V0</text>\n",
       "</g>\n",
       "<!-- V2 -->\n",
       "<g id=\"node2\" class=\"node\">\n",
       "<title>V2</title>\n",
       "<ellipse fill=\"none\" stroke=\"black\" cx=\"63\" cy=\"-18\" rx=\"27\" ry=\"18\"/>\n",
       "<text text-anchor=\"middle\" x=\"63\" y=\"-12.95\" font-family=\"Times,serif\" font-size=\"14.00\">V2</text>\n",
       "</g>\n",
       "<!-- V0&#45;&gt;V2 -->\n",
       "<g id=\"edge1\" class=\"edge\">\n",
       "<title>V0&#45;&gt;V2</title>\n",
       "<path fill=\"none\" stroke=\"black\" d=\"M35.35,-72.76C39.58,-64.55 44.81,-54.37 49.58,-45.09\"/>\n",
       "<polygon fill=\"black\" stroke=\"black\" points=\"52.54,-46.99 54,-36.49 46.32,-43.79 52.54,-46.99\"/>\n",
       "</g>\n",
       "<!-- V1 -->\n",
       "<g id=\"node3\" class=\"node\">\n",
       "<title>V1</title>\n",
       "<ellipse fill=\"none\" stroke=\"black\" cx=\"99\" cy=\"-90\" rx=\"27\" ry=\"18\"/>\n",
       "<text text-anchor=\"middle\" x=\"99\" y=\"-84.95\" font-family=\"Times,serif\" font-size=\"14.00\">V1</text>\n",
       "</g>\n",
       "<!-- V1&#45;&gt;V2 -->\n",
       "<g id=\"edge2\" class=\"edge\">\n",
       "<title>V1&#45;&gt;V2</title>\n",
       "<path fill=\"none\" stroke=\"black\" d=\"M90.65,-72.76C86.42,-64.55 81.19,-54.37 76.42,-45.09\"/>\n",
       "<polygon fill=\"black\" stroke=\"black\" points=\"79.68,-43.79 72,-36.49 73.46,-46.99 79.68,-43.79\"/>\n",
       "</g>\n",
       "</g>\n",
       "</svg>\n"
      ],
      "text/plain": [
       "<graphviz.sources.Source at 0x169a44580>"
      ]
     },
     "metadata": {},
     "output_type": "display_data"
    },
    {
     "data": {
      "image/svg+xml": [
       "<?xml version=\"1.0\" encoding=\"UTF-8\" standalone=\"no\"?>\n",
       "<!DOCTYPE svg PUBLIC \"-//W3C//DTD SVG 1.1//EN\"\n",
       " \"http://www.w3.org/Graphics/SVG/1.1/DTD/svg11.dtd\">\n",
       "<!-- Generated by graphviz version 11.0.0 (0)\n",
       " -->\n",
       "<!-- Pages: 1 -->\n",
       "<svg width=\"89pt\" height=\"188pt\"\n",
       " viewBox=\"0.00 0.00 89.00 188.00\" xmlns=\"http://www.w3.org/2000/svg\" xmlns:xlink=\"http://www.w3.org/1999/xlink\">\n",
       "<g id=\"graph0\" class=\"graph\" transform=\"scale(1 1) rotate(0) translate(4 184)\">\n",
       "<polygon fill=\"white\" stroke=\"none\" points=\"-4,4 -4,-184 85,-184 85,4 -4,4\"/>\n",
       "<!-- V0 -->\n",
       "<g id=\"node1\" class=\"node\">\n",
       "<title>V0</title>\n",
       "<ellipse fill=\"none\" stroke=\"black\" cx=\"54\" cy=\"-162\" rx=\"27\" ry=\"18\"/>\n",
       "<text text-anchor=\"middle\" x=\"54\" y=\"-156.95\" font-family=\"Times,serif\" font-size=\"14.00\">V0</text>\n",
       "</g>\n",
       "<!-- V1 -->\n",
       "<g id=\"node2\" class=\"node\">\n",
       "<title>V1</title>\n",
       "<ellipse fill=\"none\" stroke=\"black\" cx=\"27\" cy=\"-90\" rx=\"27\" ry=\"18\"/>\n",
       "<text text-anchor=\"middle\" x=\"27\" y=\"-84.95\" font-family=\"Times,serif\" font-size=\"14.00\">V1</text>\n",
       "</g>\n",
       "<!-- V0&#45;&gt;V1 -->\n",
       "<g id=\"edge1\" class=\"edge\">\n",
       "<title>V0&#45;&gt;V1</title>\n",
       "<path fill=\"none\" stroke=\"black\" d=\"M47.46,-144.05C44.21,-135.63 40.22,-125.28 36.63,-115.97\"/>\n",
       "<ellipse fill=\"none\" stroke=\"black\" cx=\"35.1\" cy=\"-111.99\" rx=\"4\" ry=\"4\"/>\n",
       "</g>\n",
       "<!-- V2 -->\n",
       "<g id=\"node3\" class=\"node\">\n",
       "<title>V2</title>\n",
       "<ellipse fill=\"none\" stroke=\"black\" cx=\"54\" cy=\"-18\" rx=\"27\" ry=\"18\"/>\n",
       "<text text-anchor=\"middle\" x=\"54\" y=\"-12.95\" font-family=\"Times,serif\" font-size=\"14.00\">V2</text>\n",
       "</g>\n",
       "<!-- V0&#45;&gt;V2 -->\n",
       "<g id=\"edge2\" class=\"edge\">\n",
       "<title>V0&#45;&gt;V2</title>\n",
       "<path fill=\"none\" stroke=\"black\" d=\"M57.65,-143.91C59.68,-133.57 61.98,-120.09 63,-108 64.34,-92.06 64.34,-87.94 63,-72 62.25,-63.12 60.81,-53.49 59.3,-44.91\"/>\n",
       "<ellipse fill=\"none\" stroke=\"black\" cx=\"58.48\" cy=\"-40.52\" rx=\"4\" ry=\"4\"/>\n",
       "</g>\n",
       "<!-- V1&#45;&gt;V2 -->\n",
       "<g id=\"edge3\" class=\"edge\">\n",
       "<title>V1&#45;&gt;V2</title>\n",
       "<path fill=\"none\" stroke=\"black\" d=\"M33.54,-72.05C36.79,-63.63 40.78,-53.28 44.37,-43.97\"/>\n",
       "<ellipse fill=\"none\" stroke=\"black\" cx=\"45.9\" cy=\"-39.99\" rx=\"4\" ry=\"4\"/>\n",
       "</g>\n",
       "</g>\n",
       "</svg>\n"
      ],
      "text/plain": [
       "<graphviz.graphs.Digraph at 0x175c24df0>"
      ]
     },
     "metadata": {},
     "output_type": "display_data"
    }
   ],
   "source": [
    "display(dag)\n",
    "display(data2graph(pag, pag_labels))"
   ]
  },
  {
   "cell_type": "code",
   "execution_count": 33,
   "metadata": {},
   "outputs": [
    {
     "data": {
      "image/svg+xml": [
       "<?xml version=\"1.0\" encoding=\"UTF-8\" standalone=\"no\"?>\n",
       "<!DOCTYPE svg PUBLIC \"-//W3C//DTD SVG 1.1//EN\"\n",
       " \"http://www.w3.org/Graphics/SVG/1.1/DTD/svg11.dtd\">\n",
       "<!-- Generated by graphviz version 11.0.0 (0)\n",
       " -->\n",
       "<!-- Pages: 1 -->\n",
       "<svg width=\"153pt\" height=\"188pt\"\n",
       " viewBox=\"0.00 0.00 153.00 188.00\" xmlns=\"http://www.w3.org/2000/svg\" xmlns:xlink=\"http://www.w3.org/1999/xlink\">\n",
       "<g id=\"graph0\" class=\"graph\" transform=\"scale(1 1) rotate(0) translate(4 184)\">\n",
       "<polygon fill=\"white\" stroke=\"none\" points=\"-4,4 -4,-184 149,-184 149,4 -4,4\"/>\n",
       "<!-- W -->\n",
       "<g id=\"node1\" class=\"node\">\n",
       "<title>W</title>\n",
       "<ellipse fill=\"none\" stroke=\"black\" cx=\"27\" cy=\"-162\" rx=\"27\" ry=\"18\"/>\n",
       "<text text-anchor=\"middle\" x=\"27\" y=\"-156.95\" font-family=\"Times,serif\" font-size=\"14.00\">W</text>\n",
       "</g>\n",
       "<!-- Y -->\n",
       "<g id=\"node2\" class=\"node\">\n",
       "<title>Y</title>\n",
       "<ellipse fill=\"none\" stroke=\"black\" cx=\"73\" cy=\"-90\" rx=\"27\" ry=\"18\"/>\n",
       "<text text-anchor=\"middle\" x=\"73\" y=\"-84.95\" font-family=\"Times,serif\" font-size=\"14.00\">Y</text>\n",
       "</g>\n",
       "<!-- W&#45;&gt;Y -->\n",
       "<g id=\"edge1\" class=\"edge\">\n",
       "<title>W&#45;&gt;Y</title>\n",
       "<path fill=\"none\" stroke=\"black\" d=\"M37.44,-145.12C43.03,-136.61 50.04,-125.94 56.36,-116.32\"/>\n",
       "<polygon fill=\"black\" stroke=\"black\" points=\"59.21,-118.37 61.77,-108.09 53.36,-114.52 59.21,-118.37\"/>\n",
       "</g>\n",
       "<!-- Z -->\n",
       "<g id=\"node3\" class=\"node\">\n",
       "<title>Z</title>\n",
       "<ellipse fill=\"none\" stroke=\"black\" cx=\"73\" cy=\"-18\" rx=\"27\" ry=\"18\"/>\n",
       "<text text-anchor=\"middle\" x=\"73\" y=\"-12.95\" font-family=\"Times,serif\" font-size=\"14.00\">Z</text>\n",
       "</g>\n",
       "<!-- W&#45;&gt;Z -->\n",
       "<g id=\"edge2\" class=\"edge\">\n",
       "<title>W&#45;&gt;Z</title>\n",
       "<path fill=\"none\" stroke=\"black\" d=\"M26.52,-143.71C26.56,-125.35 28.21,-95.77 37,-72 40.76,-61.84 46.86,-51.75 52.99,-43.13\"/>\n",
       "<polygon fill=\"black\" stroke=\"black\" points=\"55.65,-45.41 58.88,-35.32 50.06,-41.2 55.65,-45.41\"/>\n",
       "</g>\n",
       "<!-- Y&#45;&gt;Z -->\n",
       "<g id=\"edge5\" class=\"edge\">\n",
       "<title>Y&#45;&gt;Z</title>\n",
       "<path fill=\"none\" stroke=\"black\" d=\"M73,-71.7C73,-63.64 73,-53.89 73,-44.98\"/>\n",
       "<ellipse fill=\"none\" stroke=\"black\" cx=\"73\" cy=\"-40.6\" rx=\"4\" ry=\"4\"/>\n",
       "</g>\n",
       "<!-- X -->\n",
       "<g id=\"node4\" class=\"node\">\n",
       "<title>X</title>\n",
       "<ellipse fill=\"none\" stroke=\"black\" cx=\"118\" cy=\"-162\" rx=\"27\" ry=\"18\"/>\n",
       "<text text-anchor=\"middle\" x=\"118\" y=\"-156.95\" font-family=\"Times,serif\" font-size=\"14.00\">X</text>\n",
       "</g>\n",
       "<!-- X&#45;&gt;Y -->\n",
       "<g id=\"edge3\" class=\"edge\">\n",
       "<title>X&#45;&gt;Y</title>\n",
       "<path fill=\"none\" stroke=\"black\" d=\"M107.79,-145.12C102.32,-136.61 95.46,-125.94 89.28,-116.32\"/>\n",
       "<polygon fill=\"black\" stroke=\"black\" points=\"92.34,-114.61 83.99,-108.09 86.45,-118.4 92.34,-114.61\"/>\n",
       "</g>\n",
       "<!-- X&#45;&gt;Z -->\n",
       "<g id=\"edge4\" class=\"edge\">\n",
       "<title>X&#45;&gt;Z</title>\n",
       "<path fill=\"none\" stroke=\"black\" d=\"M118.72,-143.72C118.93,-125.37 117.65,-95.79 109,-72 105.3,-61.82 99.21,-51.72 93.08,-43.11\"/>\n",
       "<polygon fill=\"black\" stroke=\"black\" points=\"96,-41.17 87.18,-35.3 90.41,-45.39 96,-41.17\"/>\n",
       "</g>\n",
       "</g>\n",
       "</svg>\n"
      ],
      "text/plain": [
       "<graphviz.graphs.Digraph at 0x389b95d80>"
      ]
     },
     "metadata": {},
     "output_type": "display_data"
    }
   ],
   "source": [
    "#display(dag)\n",
    "# FROM example.r data\n",
    "display(data2graph(pag, pag_labels))"
   ]
  },
  {
   "cell_type": "code",
   "execution_count": 28,
   "metadata": {},
   "outputs": [
    {
     "data": {
      "image/svg+xml": [
       "<?xml version=\"1.0\" encoding=\"UTF-8\" standalone=\"no\"?>\n",
       "<!DOCTYPE svg PUBLIC \"-//W3C//DTD SVG 1.1//EN\"\n",
       " \"http://www.w3.org/Graphics/SVG/1.1/DTD/svg11.dtd\">\n",
       "<!-- Generated by graphviz version 11.0.0 (0)\n",
       " -->\n",
       "<!-- Pages: 1 -->\n",
       "<svg width=\"134pt\" height=\"188pt\"\n",
       " viewBox=\"0.00 0.00 134.00 188.00\" xmlns=\"http://www.w3.org/2000/svg\" xmlns:xlink=\"http://www.w3.org/1999/xlink\">\n",
       "<g id=\"graph0\" class=\"graph\" transform=\"scale(1 1) rotate(0) translate(4 184)\">\n",
       "<polygon fill=\"white\" stroke=\"none\" points=\"-4,4 -4,-184 130,-184 130,4 -4,4\"/>\n",
       "<!-- W -->\n",
       "<g id=\"node1\" class=\"node\">\n",
       "<title>W</title>\n",
       "<ellipse fill=\"none\" stroke=\"black\" cx=\"27\" cy=\"-162\" rx=\"27\" ry=\"18\"/>\n",
       "<text text-anchor=\"middle\" x=\"27\" y=\"-156.95\" font-family=\"Times,serif\" font-size=\"14.00\">W</text>\n",
       "</g>\n",
       "<!-- Y -->\n",
       "<g id=\"node2\" class=\"node\">\n",
       "<title>Y</title>\n",
       "<ellipse fill=\"none\" stroke=\"black\" cx=\"63\" cy=\"-90\" rx=\"27\" ry=\"18\"/>\n",
       "<text text-anchor=\"middle\" x=\"63\" y=\"-84.95\" font-family=\"Times,serif\" font-size=\"14.00\">Y</text>\n",
       "</g>\n",
       "<!-- W&#45;&gt;Y -->\n",
       "<g id=\"edge1\" class=\"edge\">\n",
       "<title>W&#45;&gt;Y</title>\n",
       "<path fill=\"none\" stroke=\"black\" d=\"M35.35,-144.76C39.58,-136.55 44.81,-126.37 49.58,-117.09\"/>\n",
       "<polygon fill=\"black\" stroke=\"black\" points=\"52.54,-118.99 54,-108.49 46.32,-115.79 52.54,-118.99\"/>\n",
       "</g>\n",
       "<!-- Z -->\n",
       "<g id=\"node4\" class=\"node\">\n",
       "<title>Z</title>\n",
       "<ellipse fill=\"none\" stroke=\"black\" cx=\"63\" cy=\"-18\" rx=\"27\" ry=\"18\"/>\n",
       "<text text-anchor=\"middle\" x=\"63\" y=\"-12.95\" font-family=\"Times,serif\" font-size=\"14.00\">Z</text>\n",
       "</g>\n",
       "<!-- Y&#45;&gt;Z -->\n",
       "<g id=\"edge3\" class=\"edge\">\n",
       "<title>Y&#45;&gt;Z</title>\n",
       "<path fill=\"none\" stroke=\"black\" d=\"M63,-71.7C63,-63.64 63,-53.89 63,-44.98\"/>\n",
       "<ellipse fill=\"none\" stroke=\"black\" cx=\"63\" cy=\"-40.6\" rx=\"4\" ry=\"4\"/>\n",
       "</g>\n",
       "<!-- X -->\n",
       "<g id=\"node3\" class=\"node\">\n",
       "<title>X</title>\n",
       "<ellipse fill=\"none\" stroke=\"black\" cx=\"99\" cy=\"-162\" rx=\"27\" ry=\"18\"/>\n",
       "<text text-anchor=\"middle\" x=\"99\" y=\"-156.95\" font-family=\"Times,serif\" font-size=\"14.00\">X</text>\n",
       "</g>\n",
       "<!-- X&#45;&gt;Y -->\n",
       "<g id=\"edge2\" class=\"edge\">\n",
       "<title>X&#45;&gt;Y</title>\n",
       "<path fill=\"none\" stroke=\"black\" d=\"M90.65,-144.76C86.42,-136.55 81.19,-126.37 76.42,-117.09\"/>\n",
       "<polygon fill=\"black\" stroke=\"black\" points=\"79.68,-115.79 72,-108.49 73.46,-118.99 79.68,-115.79\"/>\n",
       "</g>\n",
       "</g>\n",
       "</svg>\n"
      ],
      "text/plain": [
       "<graphviz.graphs.Digraph at 0x3854d2290>"
      ]
     },
     "execution_count": 28,
     "metadata": {},
     "output_type": "execute_result"
    }
   ],
   "source": [
    "# attempt 2\n",
    "data2graph(pag, pag_labels)"
   ]
  },
  {
   "cell_type": "code",
   "execution_count": null,
   "metadata": {},
   "outputs": [],
   "source": []
  }
 ],
 "metadata": {
  "kernelspec": {
   "display_name": "base",
   "language": "python",
   "name": "python3"
  },
  "language_info": {
   "codemirror_mode": {
    "name": "ipython",
    "version": 3
   },
   "file_extension": ".py",
   "mimetype": "text/x-python",
   "name": "python",
   "nbconvert_exporter": "python",
   "pygments_lexer": "ipython3",
   "version": "3.10.14"
  }
 },
 "nbformat": 4,
 "nbformat_minor": 2
}
