{
 "cells": [
  {
   "cell_type": "code",
   "execution_count": 1,
   "metadata": {},
   "outputs": [],
   "source": [
    "import polars as pl\n",
    "import numpy as np\n",
    "import pickle\n",
    "from typing import List\n",
    "from itertools import chain, combinations"
   ]
  },
  {
   "cell_type": "code",
   "execution_count": 2,
   "metadata": {},
   "outputs": [],
   "source": [
    "import statsmodels.api as sm\n",
    "from statsmodels.genmod.generalized_linear_model import GLMResults\n",
    "from statsmodels.genmod.families import family"
   ]
  },
  {
   "cell_type": "code",
   "execution_count": 3,
   "metadata": {},
   "outputs": [
    {
     "name": "stderr",
     "output_type": "stream",
     "text": [
      "No GPU automatically detected. Setting SETTINGS.GPU to 0, and SETTINGS.NJOBS to cpu_count.\n"
     ]
    }
   ],
   "source": [
    "import graphviz\n",
    "import networkx as nx\n",
    "from cdt.data import AcyclicGraphGenerator\n",
    "import scipy"
   ]
  },
  {
   "cell_type": "code",
   "execution_count": 143,
   "metadata": {},
   "outputs": [],
   "source": [
    "class TestingRound:\n",
    "    iterations = 0\n",
    "    last_deviance = None\n",
    "    deviance = 0\n",
    "    convergence_threshold = 1e-8\n",
    "    rss = None\n",
    "    llf = None\n",
    "    total_samples = None\n",
    "    \n",
    "    def __init__(self, y_label, X_labels):\n",
    "        self.y_label = y_label\n",
    "        self.X_labels = X_labels\n",
    "        self._init_beta0()\n",
    "        \n",
    "    def __eq__(self, t):\n",
    "        assert type(t) == TestingRound\n",
    "        return self.y_label == t.y_label and self.X_labels == t.X_labels   \n",
    "    \n",
    "    def __repr__(self):\n",
    "        return f'TestingRound - y: {self.y_label}, X: {self.X_labels}, total samples: {self.total_samples}, beta: {self.beta}, current iteration: {self.iterations}, current deviance: {abs(self.deviance)}, relative deviance change: {abs(self.deviance - self.last_deviance) / (0.1 + abs(self.deviance)) if self.last_deviance is not None else \"?\"}, llf: {self.llf}, rss: {self.rss}' \n",
    "    \n",
    "    def _init_beta0(self):\n",
    "        #self.beta = np.random.randn(len(self.X_labels) + 1) # +1 for intercept\n",
    "        self.beta = np.zeros(len(self.X_labels) + 1) # +1 for intercept\n",
    "    \n",
    "    def aggregate_results(self, results):\n",
    "        results1, results2, deviances, llfs, rss, num_samples = zip(*results)\n",
    "        #print('---')\n",
    "        #print(np.linalg.inv(sum(results1)))\n",
    "        #for r in results2:\n",
    "        #    print(r)\n",
    "        #print(sum(results2))\n",
    "        self.beta = np.linalg.inv(sum(results1)) @ sum(results2)\n",
    "        self.last_deviance = self.deviance\n",
    "        self.deviance = sum(deviances)\n",
    "        self.llf = sum(llfs)\n",
    "        self.rss = sum(rss)\n",
    "        self.total_samples = sum(num_samples)\n",
    "        self.iterations += 1\n",
    "        \n",
    "        return abs(self.deviance - self.last_deviance) / (0.1 + abs(self.deviance)) < self.convergence_threshold\n",
    "\n",
    "\n",
    "    \n",
    "class TestingEngine:\n",
    "    testing_rounds = []\n",
    "    finished_rounds = []\n",
    "    \n",
    "    def __init__(self, available_data, max_regressors=None, max_iterations=25, save_steps=10):\n",
    "        self.available_data = available_data\n",
    "        self.max_regressors = max_regressors\n",
    "        self.max_iterations = max_iterations\n",
    "        self.save_steps = save_steps\n",
    "        \n",
    "        _max_conditioning_set_size = min(len(self.available_data)-1, self.max_regressors) if self.max_regressors is not None else len(self.available_data)-1\n",
    "        \n",
    "        for y_var in available_data:\n",
    "            set_of_regressors = available_data - {y_var}\n",
    "            #for x_var in set_of_regressors:\n",
    "            #set_of_conditioning_variables = set_of_regressors - {x_var}\n",
    "            powerset_of_regressors = chain.from_iterable(combinations(set_of_regressors, r) for r in range(0,_max_conditioning_set_size+1))\n",
    "            #self.testing_rounds.append(TestingRound(y_label=y_var, X_labels=[])) # null model (intercept only)\n",
    "            #self.testing_rounds.append(TestingRound(y_label=y_var, X_labels=[x_var]))\n",
    "            self.testing_rounds.extend([TestingRound(y_label=y_var, X_labels=sorted(list(x_vars))) for x_vars in powerset_of_regressors])\n",
    "            \n",
    "        self.testing_rounds = sorted(self.testing_rounds, key=lambda key: len(key.X_labels))\n",
    "        self.is_finished = len(self.testing_rounds) == 0\n",
    "            \n",
    "    def get_current_test_parameters(self):\n",
    "        curr_testing_round = self.testing_rounds[0]\n",
    "        return curr_testing_round.y_label, curr_testing_round.X_labels, curr_testing_round.beta\n",
    "    \n",
    "    def finish_current_test(self):\n",
    "        self.finished_rounds.append(self.testing_rounds.pop(0))\n",
    "        self.is_finished = len(self.testing_rounds) == 0\n",
    "        \n",
    "    def aggregate_results(self, results):\n",
    "        has_converged = self.testing_rounds[0].aggregate_results(results)\n",
    "        has_reached_max_iterations = self.testing_rounds[0].iterations >= self.max_iterations\n",
    "        #print(self.testing_rounds[0])\n",
    "        if has_converged or has_reached_max_iterations:\n",
    "            self.finish_current_test()\n",
    "        \n",
    "\n",
    "class Server:\n",
    "    clients = {}\n",
    "    \n",
    "    def __init__(self, clients, max_regressors=None):\n",
    "        self.clients = clients\n",
    "        self.available_data = set.union(*[set(c.data_labels) for c in self.clients.values()])\n",
    "        self.testing_engine = TestingEngine(self.available_data, max_regressors=max_regressors)\n",
    "        \n",
    "    def run_tests(self):\n",
    "        counter = 1\n",
    "        while not self.testing_engine.is_finished:\n",
    "            y_label, X_labels, beta = self.testing_engine.get_current_test_parameters()\n",
    "            selected_clients = {id_: c for id_, c in self.clients.items() if set([y_label] + X_labels).issubset(c.data_labels)}\n",
    "            # http response, to compute glm results for y regressed on X with beta\n",
    "            results = [c.compute(y_label, X_labels, beta) for c in selected_clients.values()]\n",
    "            self.testing_engine.aggregate_results(results)\n",
    "            if counter % self.testing_engine.save_steps == 0:\n",
    "                counter = 0\n",
    "                with open('./testengine.ckp', 'wb') as f:\n",
    "                    pickle.dump(self.testing_engine, f)\n",
    "            counter += 1\n",
    "                \n",
    "    \n",
    "class Client:\n",
    "    def __init__(self, data):\n",
    "        self.data = data\n",
    "        self.data_labels = data.columns\n",
    "        \n",
    "        \n",
    "    def compute(self, y_label: str, X_labels: List[str], beta):\n",
    "        y = self.data[y_label]\n",
    "        X = self.data[X_labels]\n",
    "        \n",
    "        X = X.to_numpy()\n",
    "        X = sm.tools.add_constant(X)\n",
    "                \n",
    "        eta, mu, dmu_deta, deviance, llf, rss = self._init_compute(y,X,beta)\n",
    "        \n",
    "        #print('eta', eta)\n",
    "        #print('mu', mu)\n",
    "        #print('dmu/deta', dmu_deta)\n",
    "        \n",
    "        z = eta + (y - mu)/dmu_deta\n",
    "        W = np.diag((dmu_deta**2)/max(np.var(mu), 1e-8))\n",
    "        \n",
    "        #print(z)\n",
    "        \n",
    "        r1 = X.T @ W @ X\n",
    "        r2 = X.T @ W @ z\n",
    "        \n",
    "        \n",
    "        # TODO: r1 und r2 immer gleich, egal welches beta\n",
    "        \n",
    "        #print('r1', r1)\n",
    "        #print('r2', r2)\n",
    "        \n",
    "        return r1, r2, deviance, llf, rss, len(y)\n",
    "        \n",
    "        \n",
    "    def _init_compute(self, y, X, beta):\n",
    "        glm_model = sm.GLM(y, X, family=family.Gaussian())\n",
    "        normalized_cov_params = np.linalg.inv(X.T.dot(X))\n",
    "        scale = glm_model.fit().scale\n",
    "        glm_results = GLMResults(glm_model, beta, normalized_cov_params=normalized_cov_params, scale=None)\n",
    "        \n",
    "        # GLMResult with correct scale\n",
    "        #scale = glm_model.estimate_scale(glm_results.predict(which='linear'))\n",
    "        #glm_results = GLMResults(glm_model, beta, normalized_cov_params=normalized_cov_params, scale=scale)\n",
    "        \n",
    "        eta = glm_results.predict(which='linear')\n",
    "        \n",
    "        # g' is inverse of link function\n",
    "        inverse_link = glm_results.family.link.inverse\n",
    "        mu = inverse_link(eta)\n",
    "        \n",
    "        deviance = glm_results.deviance\n",
    "        \n",
    "        # delta g' is derivative of inverse link function\n",
    "        derivative_inverse_link = glm_results.family.link.inverse_deriv\n",
    "        dmu_deta = derivative_inverse_link(eta)\n",
    "        return eta, mu, dmu_deta, deviance, glm_results.llf, sum((eta-y)**2)\n",
    "    "
   ]
  },
  {
   "cell_type": "code",
   "execution_count": 144,
   "metadata": {},
   "outputs": [],
   "source": [
    "class LikelihoodRatioTest:\n",
    "    def __init__(self, t0: TestingRound, t1: TestingRound) -> None:\n",
    "        \n",
    "        assert t0.y_label == t1.y_label\n",
    "        self.t0 = t0\n",
    "        self.t1 = t1\n",
    "        \n",
    "        if len(t0.X_labels) == 0 and len(t1.X_labels) == 1:\n",
    "            self.y_label = self.t0.y_label\n",
    "            self.x_label = self.t1.X_labels[0]\n",
    "            self.s_labels = []\n",
    "        else:\n",
    "            assert len(t0.X_labels) == 1\n",
    "            assert len(t1.X_labels) > 1\n",
    "            assert t0.X_labels[0] in t1.X_labels\n",
    "            \n",
    "            self.y_label = self.t0.y_label\n",
    "            self.x_label = self.t0.X_labels[0] if len(t0.X_labels) > 0 else None\n",
    "            self.s_labels = sorted(list(set(self.t1.X_labels) - {self.x_label})) if t1 is not None else []\n",
    "        \n",
    "        #self.p_val = self._run_f_test()\n",
    "        self.p_val = self._run_likelihood_test()\n",
    "        \n",
    "    def __repr__(self):\n",
    "        return f\"LikelihoodRatioTest - y: {self.y_label}, x: {self.x_label}, S: {self.s_labels}, p: {self.p_val}\"\n",
    "    \n",
    "    def _run_likelihood_test(self):\n",
    "        t = -2*(self.t0.llf - self.t1.llf)\n",
    "        \n",
    "        par0 = len(self.t0.X_labels) + 1 # + intercept\n",
    "        par1 = len(self.t1.X_labels) + 1 # + intercept\n",
    "        \n",
    "        p_val = scipy.stats.chi2.sf(t, par1-par0)\n",
    "        \n",
    "        return p_val\n",
    "        \n",
    "    def _run_f_test(self):\n",
    "        rss0 = self.t0.rss\n",
    "        rss1 = self.t1.rss\n",
    "        par0 = 2 # X + intercept\n",
    "        par1 = len(self.s_labels) + 2 # + X + intercepts\n",
    "        nobs = self.t0.total_samples\n",
    "        delta_rss = rss0 - rss1\n",
    "        dfn = par1 - par0\n",
    "        dfd = nobs - par1\n",
    "        \n",
    "        f = delta_rss*dfd/rss1/dfn\n",
    "        \n",
    "        # print(nobs)\n",
    "        # print(rss0, rss1)\n",
    "        # print(dfn, dfd)\n",
    "        # print(f)\n",
    "        # print('-'*15)\n",
    "        \n",
    "        p_val = scipy.stats.f.sf(f, dfn, dfd)\n",
    "        \n",
    "        return p_val"
   ]
  },
  {
   "cell_type": "code",
   "execution_count": 145,
   "metadata": {},
   "outputs": [],
   "source": [
    "class SymmetricLikelihoodRatioTest:\n",
    "    \n",
    "    def __init__(self, lrt0: LikelihoodRatioTest, lrt1: LikelihoodRatioTest):\n",
    "        \n",
    "        assert lrt0.y_label == lrt1.x_label or lrt1.x_label is None\n",
    "        assert lrt1.y_label == lrt0.x_label or lrt0.x_label is None\n",
    "        \n",
    "        \n",
    "        #print(lrt0.s_labels, lrt1.s_labels)\n",
    "        assert lrt0.s_labels.sort() == lrt1.s_labels.sort()\n",
    "        \n",
    "        self.label1 = lrt0.y_label\n",
    "        self.label2 = lrt1.y_label\n",
    "        self.conditioning_set = lrt0.s_labels\n",
    "        \n",
    "        self.lrt0: LikelihoodRatioTest = lrt0\n",
    "        self.lrt1: LikelihoodRatioTest = lrt1\n",
    "        \n",
    "        self.p_val = min(2*min(self.lrt0.p_val, self.lrt1.p_val), max(self.lrt0.p_val, self.lrt1.p_val))\n",
    "        \n",
    "    def __repr__(self):\n",
    "        #return f\"SymmetricLikelihoodRatioTest - v0: {self.label1}, v1: {self.label2}, conditioning set: {self.conditioning_set}\"\n",
    "        return f\"SymmetricLikelihoodRatioTest - v0: {self.label1}, v1: {self.label2}, conditioning set: {self.conditioning_set}\\n\\t-{self.lrt0}\\n\\t-{self.lrt1}\""
   ]
  },
  {
   "cell_type": "code",
   "execution_count": null,
   "metadata": {},
   "outputs": [],
   "source": []
  },
  {
   "cell_type": "code",
   "execution_count": 146,
   "metadata": {},
   "outputs": [],
   "source": [
    "# TODO: MAJOR PROBLEM WHEN SET OF REGRESSORS EXISTS FOR MORE CLIENTS IN t0 THEN THEY DO FOR t1. SCREWS RSS AND NUM SAMPLES.\n",
    "# TODO: KEEP RESULTS MAPPED TO CLIENTS AND USE ONLY RESULTS OF INTERSECTION"
   ]
  },
  {
   "cell_type": "code",
   "execution_count": 147,
   "metadata": {},
   "outputs": [],
   "source": [
    "# RANDOM DATA GENERATION PROCESS"
   ]
  },
  {
   "cell_type": "code",
   "execution_count": 148,
   "metadata": {},
   "outputs": [],
   "source": [
    "# generate: try rescale=False and rescale=True (default)"
   ]
  },
  {
   "cell_type": "code",
   "execution_count": 149,
   "metadata": {},
   "outputs": [],
   "source": [
    "NUM_CLIENTS = 3\n",
    "TOTAL_FEATURES = 4\n",
    "FEATURES_PER_CLIENT = 4"
   ]
  },
  {
   "cell_type": "code",
   "execution_count": 150,
   "metadata": {},
   "outputs": [],
   "source": [
    "generator = AcyclicGraphGenerator('linear', npoints=900, nodes=TOTAL_FEATURES)\n",
    "data, graph = generator.generate()\n",
    "#generator.to_csv('generated_graph')"
   ]
  },
  {
   "cell_type": "code",
   "execution_count": 151,
   "metadata": {},
   "outputs": [
    {
     "data": {
      "image/svg+xml": [
       "<?xml version=\"1.0\" encoding=\"UTF-8\" standalone=\"no\"?>\n",
       "<!DOCTYPE svg PUBLIC \"-//W3C//DTD SVG 1.1//EN\"\n",
       " \"http://www.w3.org/Graphics/SVG/1.1/DTD/svg11.dtd\">\n",
       "<!-- Generated by graphviz version 11.0.0 (0)\n",
       " -->\n",
       "<!-- Pages: 1 -->\n",
       "<svg width=\"161pt\" height=\"188pt\"\n",
       " viewBox=\"0.00 0.00 161.00 188.00\" xmlns=\"http://www.w3.org/2000/svg\" xmlns:xlink=\"http://www.w3.org/1999/xlink\">\n",
       "<g id=\"graph0\" class=\"graph\" transform=\"scale(1 1) rotate(0) translate(4 184)\">\n",
       "<polygon fill=\"white\" stroke=\"none\" points=\"-4,4 -4,-184 157,-184 157,4 -4,4\"/>\n",
       "<!-- V0 -->\n",
       "<g id=\"node1\" class=\"node\">\n",
       "<title>V0</title>\n",
       "<ellipse fill=\"none\" stroke=\"black\" cx=\"54\" cy=\"-162\" rx=\"27\" ry=\"18\"/>\n",
       "<text text-anchor=\"middle\" x=\"54\" y=\"-156.95\" font-family=\"Times,serif\" font-size=\"14.00\">V0</text>\n",
       "</g>\n",
       "<!-- V1 -->\n",
       "<g id=\"node2\" class=\"node\">\n",
       "<title>V1</title>\n",
       "<ellipse fill=\"none\" stroke=\"black\" cx=\"27\" cy=\"-90\" rx=\"27\" ry=\"18\"/>\n",
       "<text text-anchor=\"middle\" x=\"27\" y=\"-84.95\" font-family=\"Times,serif\" font-size=\"14.00\">V1</text>\n",
       "</g>\n",
       "<!-- V0&#45;&gt;V1 -->\n",
       "<g id=\"edge1\" class=\"edge\">\n",
       "<title>V0&#45;&gt;V1</title>\n",
       "<path fill=\"none\" stroke=\"black\" d=\"M47.46,-144.05C44.48,-136.32 40.87,-126.96 37.52,-118.27\"/>\n",
       "<polygon fill=\"black\" stroke=\"black\" points=\"40.88,-117.27 34.02,-109.2 34.35,-119.79 40.88,-117.27\"/>\n",
       "</g>\n",
       "<!-- V2 -->\n",
       "<g id=\"node3\" class=\"node\">\n",
       "<title>V2</title>\n",
       "<ellipse fill=\"none\" stroke=\"black\" cx=\"54\" cy=\"-18\" rx=\"27\" ry=\"18\"/>\n",
       "<text text-anchor=\"middle\" x=\"54\" y=\"-12.95\" font-family=\"Times,serif\" font-size=\"14.00\">V2</text>\n",
       "</g>\n",
       "<!-- V0&#45;&gt;V2 -->\n",
       "<g id=\"edge2\" class=\"edge\">\n",
       "<title>V0&#45;&gt;V2</title>\n",
       "<path fill=\"none\" stroke=\"black\" d=\"M57.65,-143.91C59.68,-133.57 61.98,-120.09 63,-108 64.34,-92.06 64.34,-87.94 63,-72 62.32,-63.97 61.08,-55.33 59.73,-47.4\"/>\n",
       "<polygon fill=\"black\" stroke=\"black\" points=\"63.17,-46.79 57.93,-37.58 56.29,-48.05 63.17,-46.79\"/>\n",
       "</g>\n",
       "<!-- V1&#45;&gt;V2 -->\n",
       "<g id=\"edge3\" class=\"edge\">\n",
       "<title>V1&#45;&gt;V2</title>\n",
       "<path fill=\"none\" stroke=\"black\" d=\"M33.54,-72.05C36.52,-64.32 40.13,-54.96 43.48,-46.27\"/>\n",
       "<polygon fill=\"black\" stroke=\"black\" points=\"46.65,-47.79 46.98,-37.2 40.12,-45.27 46.65,-47.79\"/>\n",
       "</g>\n",
       "<!-- V3 -->\n",
       "<g id=\"node4\" class=\"node\">\n",
       "<title>V3</title>\n",
       "<ellipse fill=\"none\" stroke=\"black\" cx=\"126\" cy=\"-162\" rx=\"27\" ry=\"18\"/>\n",
       "<text text-anchor=\"middle\" x=\"126\" y=\"-156.95\" font-family=\"Times,serif\" font-size=\"14.00\">V3</text>\n",
       "</g>\n",
       "</g>\n",
       "</svg>\n"
      ],
      "text/plain": [
       "<graphviz.sources.Source at 0x28ba19600>"
      ]
     },
     "execution_count": 151,
     "metadata": {},
     "output_type": "execute_result"
    }
   ],
   "source": [
    "dag = graphviz.Source(nx.nx_agraph.to_agraph(graph).to_string())\n",
    "# dag.render('target_graph')\n",
    "dag"
   ]
  },
  {
   "cell_type": "code",
   "execution_count": 152,
   "metadata": {},
   "outputs": [
    {
     "name": "stderr",
     "output_type": "stream",
     "text": [
      "'DataFrame.swapaxes' is deprecated and will be removed in a future version. Please use 'DataFrame.transpose' instead.\n"
     ]
    }
   ],
   "source": [
    "data_splits = np.array_split(data, NUM_CLIENTS)"
   ]
  },
  {
   "cell_type": "code",
   "execution_count": 153,
   "metadata": {},
   "outputs": [],
   "source": [
    "selected_data_splits = []\n",
    "for data_split in data_splits:\n",
    "    drop_cols = list(np.random.choice(data_split.columns, TOTAL_FEATURES-FEATURES_PER_CLIENT, replace=False))\n",
    "    selected_data_splits.append(data_split.drop(drop_cols, axis=1))\n",
    "data_splits = selected_data_splits\n",
    "del selected_data_splits"
   ]
  },
  {
   "cell_type": "code",
   "execution_count": 154,
   "metadata": {},
   "outputs": [],
   "source": [
    "clients = {i:Client(data_split) for i,data_split in enumerate(data_splits)}"
   ]
  },
  {
   "cell_type": "code",
   "execution_count": 155,
   "metadata": {},
   "outputs": [],
   "source": [
    "server = Server(clients)"
   ]
  },
  {
   "cell_type": "code",
   "execution_count": 156,
   "metadata": {},
   "outputs": [],
   "source": [
    "server.run_tests()"
   ]
  },
  {
   "cell_type": "code",
   "execution_count": 157,
   "metadata": {},
   "outputs": [
    {
     "data": {
      "text/plain": [
       "[TestingRound - y: V1, X: [], total samples: 900, beta: [-1.27156576e-16], current iteration: 2, current deviance: 900.0, relative deviance change: 0.0, llf: -1271.651326802688, rss: 900.0,\n",
       " TestingRound - y: V0, X: [], total samples: 900, beta: [-1.69542101e-16], current iteration: 2, current deviance: 900.0000000000002, relative deviance change: 0.0, llf: -1270.864947850766, rss: 900.0000000000002,\n",
       " TestingRound - y: V3, X: [], total samples: 900, beta: [1.21858385e-16], current iteration: 2, current deviance: 900.0, relative deviance change: 0.0, llf: -1073.888328981216, rss: 899.9999999999999,\n",
       " TestingRound - y: V2, X: [], total samples: 900, beta: [2.11927626e-17], current iteration: 2, current deviance: 899.9999999999998, relative deviance change: 0.0, llf: -1272.9138389003733, rss: 899.9999999999993,\n",
       " TestingRound - y: V1, X: ['V2'], total samples: 900, beta: [0.00202489 0.92534071], current iteration: 4, current deviance: 130.16596684383177, relative deviance change: 0.0, llf: -405.5367983467965, rss: 130.1659668438317,\n",
       " TestingRound - y: V1, X: ['V3'], total samples: 900, beta: [-0.37381685  0.02009304], current iteration: 4, current deviance: 1024.218915866173, relative deviance change: 0.0, llf: -1308.1933009077845, rss: 1024.2189158661727,\n",
       " TestingRound - y: V1, X: ['V0'], total samples: 900, beta: [-7.14366060e-04  9.59020877e-01], current iteration: 4, current deviance: 74.52815654230456, relative deviance change: 1.904221593246281e-16, llf: -155.62242200761403, rss: 74.52815654230459,\n",
       " TestingRound - y: V0, X: ['V2'], total samples: 900, beta: [0.00358128 0.91071671], current iteration: 4, current deviance: 153.35361531182883, relative deviance change: 0.0, llf: -478.24649379693915, rss: 153.35361531182895,\n",
       " TestingRound - y: V0, X: ['V3'], total samples: 900, beta: [-0.39853626  0.04514515], current iteration: 4, current deviance: 1039.8694590815871, relative deviance change: 2.1863495457263644e-15, llf: -1313.8415027489787, rss: 1039.8694590815871,\n",
       " TestingRound - y: V0, X: ['V1'], total samples: 900, beta: [4.50321841e-04 9.57414153e-01], current iteration: 4, current deviance: 74.52638894393606, relative deviance change: 0.0, llf: -154.62376068443695, rss: 74.52638894393608,\n",
       " TestingRound - y: V3, X: ['V0'], total samples: 900, beta: [-0.00294238  0.06517308], current iteration: 4, current deviance: 896.7382039131776, relative deviance change: 0.0, llf: -1071.4638263811628, rss: 896.7382039131772,\n",
       " TestingRound - y: V3, X: ['V1'], total samples: 900, beta: [0.00234234 0.05213662], current iteration: 4, current deviance: 897.4964572180572, relative deviance change: 1.2665695904590404e-16, llf: -1072.9724753385406, rss: 897.4964572180571,\n",
       " TestingRound - y: V3, X: ['V2'], total samples: 900, beta: [-0.00052561  0.04262484], current iteration: 4, current deviance: 898.5377069552969, relative deviance change: 0.0, llf: -1072.423612392199, rss: 898.5377069552975,\n",
       " TestingRound - y: V2, X: ['V0'], total samples: 900, beta: [-2.48235817e-04  9.11716796e-01], current iteration: 4, current deviance: 153.34281543458664, relative deviance change: 0.0, llf: -479.42493402522314, rss: 153.34281543458653,\n",
       " TestingRound - y: V2, X: ['V3'], total samples: 900, beta: [-0.35635843  0.02058011], current iteration: 4, current deviance: 1013.1777379519943, relative deviance change: 3.3659134153503563e-16, llf: -1308.5674807336936, rss: 1013.1777379519946,\n",
       " TestingRound - y: V2, X: ['V1'], total samples: 900, beta: [1.50662603e-05 9.24812431e-01], current iteration: 4, current deviance: 130.16207579616648, relative deviance change: 2.1818867277133043e-16, llf: -405.88424159590215, rss: 130.16207579616648,\n",
       " TestingRound - y: V1, X: ['V2', 'V3'], total samples: 900, beta: [0.00173399 0.92455189 0.01553113], current iteration: 5, current deviance: 129.94949151162155, relative deviance change: 1.1846249775896874e-11, llf: -404.7715702566132, rss: 129.9494915116215,\n",
       " TestingRound - y: V1, X: ['V0', 'V2'], total samples: 900, beta: [-5.62042390e-04  6.78265688e-01  3.07804217e-01], current iteration: 5, current deviance: 59.93635462962055, relative deviance change: 6.422730597504438e-12, llf: -57.646968569627695, rss: 59.93635462962055,\n",
       " TestingRound - y: V1, X: ['V0', 'V3'], total samples: 900, beta: [-7.56318909e-04  9.59373490e-01 -4.71008972e-03], current iteration: 5, current deviance: 74.50501347224272, relative deviance change: 4.978165986746666e-10, llf: -155.49037707833628, rss: 74.50501347224272,\n",
       " TestingRound - y: V0, X: ['V2', 'V3'], total samples: 900, beta: [0.0026993  0.90958724 0.02350241], current iteration: 5, current deviance: 152.8431240833498, relative deviance change: 7.285055987003784e-11, llf: -476.77254205596904, rss: 152.84312408334978,\n",
       " TestingRound - y: V0, X: ['V1', 'V2'], total samples: 900, beta: [7.27360384e-04 7.96720038e-01 1.73712343e-01], current iteration: 4, current deviance: 70.60941381019333, relative deviance change: 9.511022861536837e-09, llf: -129.9238151088708, rss: 70.60941381019332,\n",
       " TestingRound - y: V0, X: ['V1', 'V3'], total samples: 900, beta: [2.07410232e-04 9.56929541e-01 9.74489546e-03], current iteration: 5, current deviance: 74.43793319607295, relative deviance change: 3.091337442554454e-11, llf: -154.1266322988452, rss: 74.43793319607292,\n",
       " TestingRound - y: V3, X: ['V0', 'V1'], total samples: 900, beta: [-0.00774709  0.12618247 -0.05867132], current iteration: 8, current deviance: 896.563952512514, relative deviance change: 8.264392902243718e-10, llf: -1070.4998200683367, rss: 896.5639525125142,\n",
       " TestingRound - y: V3, X: ['V0', 'V2'], total samples: 900, beta: [-0.00024878  0.14600557 -0.08915446], current iteration: 6, current deviance: 895.5884988370764, relative deviance change: 1.4631150799332296e-09, llf: -1072.0981222995001, rss: 895.5884988370763,\n",
       " TestingRound - y: V3, X: ['V1', 'V2'], total samples: 900, beta: [ 0.01032488  0.1059882  -0.06405931], current iteration: 9, current deviance: 897.1791186128871, relative deviance change: 1.755649182683246e-09, llf: -1075.02860840423, rss: 897.1791186128876,\n",
       " TestingRound - y: V2, X: ['V0', 'V3'], total samples: 900, beta: [-2.64587906e-04  9.12710912e-01 -1.40180366e-02], current iteration: 5, current deviance: 153.14856325002904, relative deviance change: 1.238549775473512e-09, llf: -478.81500198006535, rss: 153.14856325002904,\n",
       " TestingRound - y: V2, X: ['V0', 'V1'], total samples: 900, beta: [-2.70705196e-05  3.03941688e-01  6.33755984e-01], current iteration: 4, current deviance: 123.32047278566463, relative deviance change: 2.4883532705416985e-09, llf: -381.4903632076845, rss: 123.32047278566462,\n",
       " TestingRound - y: V2, X: ['V1', 'V3'], total samples: 900, beta: [ 1.35131368e-04  9.25237394e-01 -8.60534568e-03], current iteration: 4, current deviance: 130.0975687016173, relative deviance change: 1.1663524679040423e-09, llf: -405.58947427936243, rss: 130.09756870161726,\n",
       " TestingRound - y: V1, X: ['V0', 'V2', 'V3'], total samples: 900, beta: [-5.65562468e-04  6.78328713e-01  3.07765962e-01 -3.88517937e-04], current iteration: 5, current deviance: 59.93610345797652, relative deviance change: 1.1378558456092275e-10, llf: -57.646337864111665, rss: 59.93610345797653,\n",
       " TestingRound - y: V0, X: ['V1', 'V2', 'V3'], total samples: 900, beta: [4.76361615e-04 7.95580171e-01 1.74325061e-01 1.12595187e-02], current iteration: 5, current deviance: 70.49262310785784, relative deviance change: 2.605770086252002e-11, llf: -129.21020956521113, rss: 70.49262310785784,\n",
       " TestingRound - y: V3, X: ['V0', 'V1', 'V2'], total samples: 900, beta: [-0.00061462  0.14851986 -0.00336648 -0.08804266], current iteration: 7, current deviance: 895.5883930516943, relative deviance change: 7.733658458746262e-10, llf: -1072.024102325067, rss: 895.5883930516949,\n",
       " TestingRound - y: V2, X: ['V0', 'V1', 'V3'], total samples: 900, beta: [ 3.96056176e-05  3.05554826e-01  6.32799159e-01 -1.14179184e-02], current iteration: 4, current deviance: 123.20197782083208, relative deviance change: 1.575377636071039e-09, llf: -380.97640135400945, rss: 123.20197782083204]"
      ]
     },
     "execution_count": 157,
     "metadata": {},
     "output_type": "execute_result"
    }
   ],
   "source": [
    "server.testing_engine.finished_rounds"
   ]
  },
  {
   "cell_type": "code",
   "execution_count": 161,
   "metadata": {},
   "outputs": [],
   "source": [
    "finished_testing_rounds = server.testing_engine.finished_rounds\n",
    "\n",
    "av_data = server.testing_engine.available_data\n",
    "\n",
    "tr = {}\n",
    "null_models = {}\n",
    "for y_var in av_data:\n",
    "    null_models[y_var] = [t for t in finished_testing_rounds if t.y_label == y_var and len(t.X_labels) == 0][0]\n",
    "    for x_var in av_data - {y_var}:\n",
    "        x_testings = {}\n",
    "        x_testings['base'] = [t for t in finished_testing_rounds if t.y_label == y_var and x_var in t.X_labels and len(t.X_labels) == 1][0]\n",
    "        x_testings['conditioning'] = [t for t in finished_testing_rounds if t.y_label == y_var and x_var in t.X_labels and len(t.X_labels) > 1]\n",
    "        x_testings['conditioning'] = sorted(x_testings['conditioning'], key=lambda x: ','.join(x.X_labels))\n",
    "        tr[(y_var, x_var)] = x_testings"
   ]
  },
  {
   "cell_type": "code",
   "execution_count": 162,
   "metadata": {},
   "outputs": [
    {
     "data": {
      "text/plain": [
       "[TestingRound - y: V2, X: ['V0', 'V1'], total samples: 900, beta: [-2.70705196e-05  3.03941688e-01  6.33755984e-01], current iteration: 4, current deviance: 123.32047278566463, relative deviance change: 2.4883532705416985e-09, llf: -381.4903632076845, rss: 123.32047278566462,\n",
       " TestingRound - y: V2, X: ['V0', 'V1', 'V3'], total samples: 900, beta: [ 3.96056176e-05  3.05554826e-01  6.32799159e-01 -1.14179184e-02], current iteration: 4, current deviance: 123.20197782083208, relative deviance change: 1.575377636071039e-09, llf: -380.97640135400945, rss: 123.20197782083204,\n",
       " TestingRound - y: V2, X: ['V1', 'V3'], total samples: 900, beta: [ 1.35131368e-04  9.25237394e-01 -8.60534568e-03], current iteration: 4, current deviance: 130.0975687016173, relative deviance change: 1.1663524679040423e-09, llf: -405.58947427936243, rss: 130.09756870161726]"
      ]
     },
     "execution_count": 162,
     "metadata": {},
     "output_type": "execute_result"
    }
   ],
   "source": [
    "tr[('V2', 'V1')]['conditioning']"
   ]
  },
  {
   "cell_type": "code",
   "execution_count": 163,
   "metadata": {},
   "outputs": [
    {
     "data": {
      "text/plain": [
       "[TestingRound - y: V1, X: ['V0', 'V2'], total samples: 900, beta: [-5.62042390e-04  6.78265688e-01  3.07804217e-01], current iteration: 5, current deviance: 59.93635462962055, relative deviance change: 6.422730597504438e-12, llf: -57.646968569627695, rss: 59.93635462962055,\n",
       " TestingRound - y: V1, X: ['V0', 'V2', 'V3'], total samples: 900, beta: [-5.65562468e-04  6.78328713e-01  3.07765962e-01 -3.88517937e-04], current iteration: 5, current deviance: 59.93610345797652, relative deviance change: 1.1378558456092275e-10, llf: -57.646337864111665, rss: 59.93610345797653,\n",
       " TestingRound - y: V1, X: ['V2', 'V3'], total samples: 900, beta: [0.00173399 0.92455189 0.01553113], current iteration: 5, current deviance: 129.94949151162155, relative deviance change: 1.1846249775896874e-11, llf: -404.7715702566132, rss: 129.9494915116215]"
      ]
     },
     "execution_count": 163,
     "metadata": {},
     "output_type": "execute_result"
    }
   ],
   "source": [
    "tr[('V1', 'V2')]['conditioning']"
   ]
  },
  {
   "cell_type": "code",
   "execution_count": 164,
   "metadata": {},
   "outputs": [],
   "source": [
    "likelihood_ratio_tests = []\n",
    "\n",
    "unique_combinations = [k for k in tr.keys() if k[0] < k[1]]\n",
    "\n",
    "for v0, v1 in unique_combinations:\n",
    "    base_test0 = tr[(v0,v1)]['base']\n",
    "    base_test1 = tr[(v1,v0)]['base']\n",
    "    # null test\n",
    "    lrt0 = LikelihoodRatioTest(null_models[v0], base_test0)\n",
    "    lrt1 = LikelihoodRatioTest(null_models[v1], base_test1)\n",
    "    likelihood_ratio_tests.append(SymmetricLikelihoodRatioTest(lrt0, lrt1))\n",
    "    \n",
    "    cond_tests0 = tr[(v0, v1)]['conditioning']\n",
    "    cond_tests1 = tr[(v1, v0)]['conditioning']\n",
    "    \n",
    "    lrts0 = [LikelihoodRatioTest(base_test0, t) for t in cond_tests0]\n",
    "    lrts1 = [LikelihoodRatioTest(base_test1, t) for t in cond_tests1]\n",
    "    \n",
    "    likelihood_ratio_tests.extend([SymmetricLikelihoodRatioTest(l0, l1) for l0, l1 in zip(lrts0, lrts1)])"
   ]
  },
  {
   "cell_type": "code",
   "execution_count": 165,
   "metadata": {},
   "outputs": [
    {
     "data": {
      "text/plain": [
       "[SymmetricLikelihoodRatioTest - v0: V1, v1: V2, conditioning set: []\n",
       " \t-LikelihoodRatioTest - y: V1, x: V2, S: [], p: 0.0\n",
       " \t-LikelihoodRatioTest - y: V2, x: V1, S: [], p: 0.0,\n",
       " SymmetricLikelihoodRatioTest - v0: V1, v1: V2, conditioning set: ['V0']\n",
       " \t-LikelihoodRatioTest - y: V1, x: V2, S: ['V0'], p: 2.4742800751676956e-153\n",
       " \t-LikelihoodRatioTest - y: V2, x: V1, S: ['V0'], p: 2.8521468786317094e-12,\n",
       " SymmetricLikelihoodRatioTest - v0: V1, v1: V2, conditioning set: ['V0', 'V3']\n",
       " \t-LikelihoodRatioTest - y: V1, x: V2, S: ['V0', 'V3'], p: 8.186395183285156e-152\n",
       " \t-LikelihoodRatioTest - y: V2, x: V1, S: ['V0', 'V3'], p: 1.522868581627445e-11,\n",
       " SymmetricLikelihoodRatioTest - v0: V1, v1: V2, conditioning set: ['V3']\n",
       " \t-LikelihoodRatioTest - y: V1, x: V2, S: ['V3'], p: 0.21604399311506794\n",
       " \t-LikelihoodRatioTest - y: V2, x: V1, S: ['V3'], p: 0.44259912965432047,\n",
       " SymmetricLikelihoodRatioTest - v0: V1, v1: V3, conditioning set: []\n",
       " \t-LikelihoodRatioTest - y: V1, x: V3, S: [], p: 1.0\n",
       " \t-LikelihoodRatioTest - y: V3, x: V1, S: [], p: 0.1759260224987595,\n",
       " SymmetricLikelihoodRatioTest - v0: V1, v1: V3, conditioning set: ['V0', 'V2']\n",
       " \t-LikelihoodRatioTest - y: V1, x: V3, S: ['V0', 'V2'], p: 0.0\n",
       " \t-LikelihoodRatioTest - y: V3, x: V1, S: ['V0'], p: 0.026161538672978366,\n",
       " SymmetricLikelihoodRatioTest - v0: V1, v1: V3, conditioning set: ['V0']\n",
       " \t-LikelihoodRatioTest - y: V1, x: V3, S: ['V0'], p: 0.0\n",
       " \t-LikelihoodRatioTest - y: V3, x: V1, S: ['V0', 'V2'], p: 0.38737075803477133,\n",
       " SymmetricLikelihoodRatioTest - v0: V1, v1: V3, conditioning set: ['V2']\n",
       " \t-LikelihoodRatioTest - y: V1, x: V3, S: ['V2'], p: 0.0\n",
       " \t-LikelihoodRatioTest - y: V3, x: V1, S: ['V2'], p: 1.0,\n",
       " SymmetricLikelihoodRatioTest - v0: V0, v1: V2, conditioning set: []\n",
       " \t-LikelihoodRatioTest - y: V0, x: V2, S: [], p: 0.0\n",
       " \t-LikelihoodRatioTest - y: V2, x: V0, S: [], p: 0.0,\n",
       " SymmetricLikelihoodRatioTest - v0: V0, v1: V2, conditioning set: ['V1']\n",
       " \t-LikelihoodRatioTest - y: V0, x: V2, S: ['V1'], p: 1.603968094111745e-153\n",
       " \t-LikelihoodRatioTest - y: V2, x: V0, S: ['V1'], p: 1.6646529385331473e-44,\n",
       " SymmetricLikelihoodRatioTest - v0: V0, v1: V2, conditioning set: ['V1', 'V3']\n",
       " \t-LikelihoodRatioTest - y: V0, x: V2, S: ['V1', 'V3'], p: 2.602961677235901e-152\n",
       " \t-LikelihoodRatioTest - y: V2, x: V0, S: ['V1', 'V3'], p: 1.7552763826853562e-43,\n",
       " SymmetricLikelihoodRatioTest - v0: V0, v1: V2, conditioning set: ['V3']\n",
       " \t-LikelihoodRatioTest - y: V0, x: V2, S: ['V3'], p: 0.08598904349810967\n",
       " \t-LikelihoodRatioTest - y: V2, x: V0, S: ['V3'], p: 0.2693873259934689,\n",
       " SymmetricLikelihoodRatioTest - v0: V0, v1: V3, conditioning set: []\n",
       " \t-LikelihoodRatioTest - y: V0, x: V3, S: [], p: 1.0\n",
       " \t-LikelihoodRatioTest - y: V3, x: V0, S: [], p: 0.027662081534111857,\n",
       " SymmetricLikelihoodRatioTest - v0: V0, v1: V3, conditioning set: ['V1', 'V2']\n",
       " \t-LikelihoodRatioTest - y: V0, x: V3, S: ['V1', 'V2'], p: 0.0\n",
       " \t-LikelihoodRatioTest - y: V3, x: V0, S: ['V1'], p: 0.16497603772047295,\n",
       " SymmetricLikelihoodRatioTest - v0: V0, v1: V3, conditioning set: ['V1']\n",
       " \t-LikelihoodRatioTest - y: V0, x: V3, S: ['V1'], p: 0.0\n",
       " \t-LikelihoodRatioTest - y: V3, x: V0, S: ['V1', 'V2'], p: 1.0,\n",
       " SymmetricLikelihoodRatioTest - v0: V0, v1: V3, conditioning set: ['V2']\n",
       " \t-LikelihoodRatioTest - y: V0, x: V3, S: ['V2'], p: 0.0\n",
       " \t-LikelihoodRatioTest - y: V3, x: V0, S: ['V2'], p: 1.0,\n",
       " SymmetricLikelihoodRatioTest - v0: V0, v1: V1, conditioning set: []\n",
       " \t-LikelihoodRatioTest - y: V0, x: V1, S: [], p: 0.0\n",
       " \t-LikelihoodRatioTest - y: V1, x: V0, S: [], p: 0.0,\n",
       " SymmetricLikelihoodRatioTest - v0: V0, v1: V1, conditioning set: ['V2']\n",
       " \t-LikelihoodRatioTest - y: V0, x: V1, S: ['V2'], p: 2.087572278526939e-12\n",
       " \t-LikelihoodRatioTest - y: V1, x: V0, S: ['V2'], p: 1.5976398289422765e-44,\n",
       " SymmetricLikelihoodRatioTest - v0: V0, v1: V1, conditioning set: ['V2', 'V3']\n",
       " \t-LikelihoodRatioTest - y: V0, x: V1, S: ['V2', 'V3'], p: 9.184065731276032e-12\n",
       " \t-LikelihoodRatioTest - y: V1, x: V0, S: ['V2', 'V3'], p: 2.815316968968626e-43,\n",
       " SymmetricLikelihoodRatioTest - v0: V0, v1: V1, conditioning set: ['V3']\n",
       " \t-LikelihoodRatioTest - y: V0, x: V1, S: ['V3'], p: 0.318704203262037\n",
       " \t-LikelihoodRatioTest - y: V1, x: V0, S: ['V3'], p: 0.6073241874186389,\n",
       " SymmetricLikelihoodRatioTest - v0: V2, v1: V3, conditioning set: []\n",
       " \t-LikelihoodRatioTest - y: V2, x: V3, S: [], p: 1.0\n",
       " \t-LikelihoodRatioTest - y: V3, x: V2, S: [], p: 0.08697802514158552,\n",
       " SymmetricLikelihoodRatioTest - v0: V2, v1: V3, conditioning set: ['V0', 'V1']\n",
       " \t-LikelihoodRatioTest - y: V2, x: V3, S: ['V0', 'V1'], p: 0.0\n",
       " \t-LikelihoodRatioTest - y: V3, x: V2, S: ['V0', 'V1'], p: 0.6706485383212567,\n",
       " SymmetricLikelihoodRatioTest - v0: V2, v1: V3, conditioning set: ['V0']\n",
       " \t-LikelihoodRatioTest - y: V2, x: V3, S: ['V0'], p: 0.0\n",
       " \t-LikelihoodRatioTest - y: V3, x: V2, S: ['V0'], p: 0.41976245557754444,\n",
       " SymmetricLikelihoodRatioTest - v0: V2, v1: V3, conditioning set: ['V1']\n",
       " \t-LikelihoodRatioTest - y: V2, x: V3, S: ['V1'], p: 0.0\n",
       " \t-LikelihoodRatioTest - y: V3, x: V2, S: ['V1'], p: 1.0]"
      ]
     },
     "execution_count": 165,
     "metadata": {},
     "output_type": "execute_result"
    }
   ],
   "source": [
    "likelihood_ratio_tests"
   ]
  },
  {
   "cell_type": "code",
   "execution_count": 166,
   "metadata": {},
   "outputs": [
    {
     "data": {
      "text/plain": [
       "(0.0, 0.6073241874186389)"
      ]
     },
     "execution_count": 166,
     "metadata": {},
     "output_type": "execute_result"
    }
   ],
   "source": [
    "p_vals = [l.p_val for l in likelihood_ratio_tests]\n",
    "min(p_vals), max(p_vals)"
   ]
  },
  {
   "cell_type": "code",
   "execution_count": 167,
   "metadata": {},
   "outputs": [],
   "source": [
    "import matplotlib.pyplot as plt"
   ]
  },
  {
   "cell_type": "code",
   "execution_count": 168,
   "metadata": {},
   "outputs": [
    {
     "data": {
      "image/png": "[encoded data removed]",
      "text/plain": [
       "<Figure size 640x480 with 1 Axes>"
      ]
     },
     "metadata": {},
     "output_type": "display_data"
    }
   ],
   "source": [
    "plt.hist(p_vals)\n",
    "plt.show()"
   ]
  },
  {
   "cell_type": "code",
   "execution_count": 169,
   "metadata": {},
   "outputs": [
    {
     "data": {
      "text/plain": [
       "SymmetricLikelihoodRatioTest - v0: V1, v1: V2, conditioning set: []\n",
       "\t-LikelihoodRatioTest - y: V1, x: V2, S: [], p: 0.0\n",
       "\t-LikelihoodRatioTest - y: V2, x: V1, S: [], p: 0.0"
      ]
     },
     "execution_count": 169,
     "metadata": {},
     "output_type": "execute_result"
    }
   ],
   "source": [
    "likelihood_ratio_tests[0]"
   ]
  },
  {
   "cell_type": "code",
   "execution_count": 170,
   "metadata": {},
   "outputs": [],
   "source": [
    "# TODO: HOW TO DO TEST WITHOUT CONDITIONING SET?"
   ]
  },
  {
   "cell_type": "code",
   "execution_count": 171,
   "metadata": {},
   "outputs": [],
   "source": [
    "label2id_mapping = {l:i for i,l in enumerate(sorted(server.available_data), start=1)}"
   ]
  },
  {
   "cell_type": "code",
   "execution_count": 172,
   "metadata": {},
   "outputs": [],
   "source": [
    "def lrt2pandas(lrts: List[SymmetricLikelihoodRatioTest], label2id_mapping):\n",
    "    data = []\n",
    "    for lrt in lrts:\n",
    "        d = {}\n",
    "        d['ord'] = len(lrt.conditioning_set)\n",
    "        if lrt.label1 < lrt.label2:\n",
    "            d['X'] = str(label2id_mapping[lrt.label1])\n",
    "            d['Y'] = str(label2id_mapping[lrt.label2])\n",
    "        else:\n",
    "            d['X'] = str(label2id_mapping[lrt.label2])\n",
    "            d['Y'] = str(label2id_mapping[lrt.label1])\n",
    "        d['S'] = ','.join([str(label2id_mapping[l]) for l in lrt.conditioning_set])\n",
    "        #d['S'] = list([label2id_mapping[l] for l in lrt.conditioning_set])\n",
    "        d['pvalue'] = lrt.p_val\n",
    "        data.append(d)\n",
    "    return pl.from_dicts(data).unique().sort('ord', 'X', 'Y', 'S').to_pandas()"
   ]
  },
  {
   "cell_type": "code",
   "execution_count": 173,
   "metadata": {},
   "outputs": [
    {
     "data": {
      "text/html": [
       "<div>\n",
       "<style scoped>\n",
       "    .dataframe tbody tr th:only-of-type {\n",
       "        vertical-align: middle;\n",
       "    }\n",
       "\n",
       "    .dataframe tbody tr th {\n",
       "        vertical-align: top;\n",
       "    }\n",
       "\n",
       "    .dataframe thead th {\n",
       "        text-align: right;\n",
       "    }\n",
       "</style>\n",
       "<table border=\"1\" class=\"dataframe\">\n",
       "  <thead>\n",
       "    <tr style=\"text-align: right;\">\n",
       "      <th></th>\n",
       "      <th>ord</th>\n",
       "      <th>X</th>\n",
       "      <th>Y</th>\n",
       "      <th>S</th>\n",
       "      <th>pvalue</th>\n",
       "    </tr>\n",
       "  </thead>\n",
       "  <tbody>\n",
       "    <tr>\n",
       "      <th>0</th>\n",
       "      <td>0</td>\n",
       "      <td>1</td>\n",
       "      <td>2</td>\n",
       "      <td></td>\n",
       "      <td>0.000000e+00</td>\n",
       "    </tr>\n",
       "    <tr>\n",
       "      <th>1</th>\n",
       "      <td>0</td>\n",
       "      <td>1</td>\n",
       "      <td>3</td>\n",
       "      <td></td>\n",
       "      <td>0.000000e+00</td>\n",
       "    </tr>\n",
       "    <tr>\n",
       "      <th>2</th>\n",
       "      <td>0</td>\n",
       "      <td>1</td>\n",
       "      <td>4</td>\n",
       "      <td></td>\n",
       "      <td>5.532416e-02</td>\n",
       "    </tr>\n",
       "    <tr>\n",
       "      <th>3</th>\n",
       "      <td>0</td>\n",
       "      <td>2</td>\n",
       "      <td>3</td>\n",
       "      <td></td>\n",
       "      <td>0.000000e+00</td>\n",
       "    </tr>\n",
       "    <tr>\n",
       "      <th>4</th>\n",
       "      <td>0</td>\n",
       "      <td>2</td>\n",
       "      <td>4</td>\n",
       "      <td></td>\n",
       "      <td>3.518520e-01</td>\n",
       "    </tr>\n",
       "    <tr>\n",
       "      <th>5</th>\n",
       "      <td>0</td>\n",
       "      <td>3</td>\n",
       "      <td>4</td>\n",
       "      <td></td>\n",
       "      <td>1.739561e-01</td>\n",
       "    </tr>\n",
       "    <tr>\n",
       "      <th>6</th>\n",
       "      <td>1</td>\n",
       "      <td>1</td>\n",
       "      <td>2</td>\n",
       "      <td>3</td>\n",
       "      <td>3.195280e-44</td>\n",
       "    </tr>\n",
       "    <tr>\n",
       "      <th>7</th>\n",
       "      <td>1</td>\n",
       "      <td>1</td>\n",
       "      <td>2</td>\n",
       "      <td>4</td>\n",
       "      <td>6.073242e-01</td>\n",
       "    </tr>\n",
       "    <tr>\n",
       "      <th>8</th>\n",
       "      <td>1</td>\n",
       "      <td>1</td>\n",
       "      <td>3</td>\n",
       "      <td>2</td>\n",
       "      <td>3.207936e-153</td>\n",
       "    </tr>\n",
       "    <tr>\n",
       "      <th>9</th>\n",
       "      <td>1</td>\n",
       "      <td>1</td>\n",
       "      <td>3</td>\n",
       "      <td>4</td>\n",
       "      <td>1.719781e-01</td>\n",
       "    </tr>\n",
       "    <tr>\n",
       "      <th>10</th>\n",
       "      <td>1</td>\n",
       "      <td>1</td>\n",
       "      <td>4</td>\n",
       "      <td>2</td>\n",
       "      <td>0.000000e+00</td>\n",
       "    </tr>\n",
       "    <tr>\n",
       "      <th>11</th>\n",
       "      <td>1</td>\n",
       "      <td>1</td>\n",
       "      <td>4</td>\n",
       "      <td>3</td>\n",
       "      <td>0.000000e+00</td>\n",
       "    </tr>\n",
       "    <tr>\n",
       "      <th>12</th>\n",
       "      <td>1</td>\n",
       "      <td>2</td>\n",
       "      <td>3</td>\n",
       "      <td>1</td>\n",
       "      <td>4.948560e-153</td>\n",
       "    </tr>\n",
       "    <tr>\n",
       "      <th>13</th>\n",
       "      <td>1</td>\n",
       "      <td>2</td>\n",
       "      <td>3</td>\n",
       "      <td>4</td>\n",
       "      <td>4.320880e-01</td>\n",
       "    </tr>\n",
       "    <tr>\n",
       "      <th>14</th>\n",
       "      <td>1</td>\n",
       "      <td>2</td>\n",
       "      <td>4</td>\n",
       "      <td>1</td>\n",
       "      <td>0.000000e+00</td>\n",
       "    </tr>\n",
       "    <tr>\n",
       "      <th>15</th>\n",
       "      <td>1</td>\n",
       "      <td>2</td>\n",
       "      <td>4</td>\n",
       "      <td>3</td>\n",
       "      <td>0.000000e+00</td>\n",
       "    </tr>\n",
       "    <tr>\n",
       "      <th>16</th>\n",
       "      <td>1</td>\n",
       "      <td>3</td>\n",
       "      <td>4</td>\n",
       "      <td>1</td>\n",
       "      <td>0.000000e+00</td>\n",
       "    </tr>\n",
       "    <tr>\n",
       "      <th>17</th>\n",
       "      <td>1</td>\n",
       "      <td>3</td>\n",
       "      <td>4</td>\n",
       "      <td>2</td>\n",
       "      <td>0.000000e+00</td>\n",
       "    </tr>\n",
       "    <tr>\n",
       "      <th>18</th>\n",
       "      <td>2</td>\n",
       "      <td>1</td>\n",
       "      <td>2</td>\n",
       "      <td>3,4</td>\n",
       "      <td>5.630634e-43</td>\n",
       "    </tr>\n",
       "    <tr>\n",
       "      <th>19</th>\n",
       "      <td>2</td>\n",
       "      <td>1</td>\n",
       "      <td>3</td>\n",
       "      <td>2,4</td>\n",
       "      <td>5.205923e-152</td>\n",
       "    </tr>\n",
       "    <tr>\n",
       "      <th>20</th>\n",
       "      <td>2</td>\n",
       "      <td>1</td>\n",
       "      <td>4</td>\n",
       "      <td>2,3</td>\n",
       "      <td>0.000000e+00</td>\n",
       "    </tr>\n",
       "    <tr>\n",
       "      <th>21</th>\n",
       "      <td>2</td>\n",
       "      <td>2</td>\n",
       "      <td>3</td>\n",
       "      <td>1,4</td>\n",
       "      <td>1.637279e-151</td>\n",
       "    </tr>\n",
       "    <tr>\n",
       "      <th>22</th>\n",
       "      <td>2</td>\n",
       "      <td>2</td>\n",
       "      <td>4</td>\n",
       "      <td>1,3</td>\n",
       "      <td>0.000000e+00</td>\n",
       "    </tr>\n",
       "    <tr>\n",
       "      <th>23</th>\n",
       "      <td>2</td>\n",
       "      <td>3</td>\n",
       "      <td>4</td>\n",
       "      <td>1,2</td>\n",
       "      <td>0.000000e+00</td>\n",
       "    </tr>\n",
       "  </tbody>\n",
       "</table>\n",
       "</div>"
      ],
      "text/plain": [
       "    ord  X  Y    S         pvalue\n",
       "0     0  1  2        0.000000e+00\n",
       "1     0  1  3        0.000000e+00\n",
       "2     0  1  4        5.532416e-02\n",
       "3     0  2  3        0.000000e+00\n",
       "4     0  2  4        3.518520e-01\n",
       "5     0  3  4        1.739561e-01\n",
       "6     1  1  2    3   3.195280e-44\n",
       "7     1  1  2    4   6.073242e-01\n",
       "8     1  1  3    2  3.207936e-153\n",
       "9     1  1  3    4   1.719781e-01\n",
       "10    1  1  4    2   0.000000e+00\n",
       "11    1  1  4    3   0.000000e+00\n",
       "12    1  2  3    1  4.948560e-153\n",
       "13    1  2  3    4   4.320880e-01\n",
       "14    1  2  4    1   0.000000e+00\n",
       "15    1  2  4    3   0.000000e+00\n",
       "16    1  3  4    1   0.000000e+00\n",
       "17    1  3  4    2   0.000000e+00\n",
       "18    2  1  2  3,4   5.630634e-43\n",
       "19    2  1  3  2,4  5.205923e-152\n",
       "20    2  1  4  2,3   0.000000e+00\n",
       "21    2  2  3  1,4  1.637279e-151\n",
       "22    2  2  4  1,3   0.000000e+00\n",
       "23    2  3  4  1,2   0.000000e+00"
      ]
     },
     "execution_count": 173,
     "metadata": {},
     "output_type": "execute_result"
    }
   ],
   "source": [
    "df = lrt2pandas(likelihood_ratio_tests, label2id_mapping)\n",
    "df"
   ]
  },
  {
   "cell_type": "code",
   "execution_count": 174,
   "metadata": {},
   "outputs": [],
   "source": [
    "#import os\n",
    "#os.environ['R_HOME'] = '/opt/homebrew/Caskroom/miniforge/base/envs/promotion'"
   ]
  },
  {
   "cell_type": "code",
   "execution_count": 175,
   "metadata": {},
   "outputs": [],
   "source": [
    "import rpy2.robjects as ro\n",
    "from rpy2.robjects import pandas2ri\n",
    "from collections import OrderedDict"
   ]
  },
  {
   "cell_type": "code",
   "execution_count": 176,
   "metadata": {},
   "outputs": [],
   "source": [
    "def run_local_fci(df, labels, alpha=0.05):\n",
    "    #print(df)\n",
    "    #print(labels)\n",
    "    print('0.5')\n",
    "    with (ro.default_converter + pandas2ri.converter).context():\n",
    "        print('1')\n",
    "        ro.r['source']('../scripts/aggregation.r')\n",
    "        aggregate_ci_results_f = ro.globalenv['aggregate_ci_results']\n",
    "        \n",
    "        print('2')\n",
    "        d = [('citestResults', ro.conversion.get_conversion().py2rpy(df)), ('labels', ro.StrVector(labels))]\n",
    "        od = OrderedDict(d)\n",
    "        lv = ro.ListVector(od)\n",
    "\n",
    "        print('4')\n",
    "        print(lv)\n",
    "\n",
    "        result = aggregate_ci_results_f([lv], alpha)\n",
    "\n",
    "        pag = [x[1].tolist() for x in result['G_PAG_List'].items()][0]\n",
    "        pag_labels = [list(x[1]) for x in result['G_PAG_Label_List'].items()][0]\n",
    "        \n",
    "    return pag,pag_labels"
   ]
  },
  {
   "cell_type": "code",
   "execution_count": 177,
   "metadata": {},
   "outputs": [
    {
     "data": {
      "text/plain": [
       "['V0', 'V1', 'V2', 'V3']"
      ]
     },
     "execution_count": 177,
     "metadata": {},
     "output_type": "execute_result"
    }
   ],
   "source": [
    "labels = [str(v) for v in label2id_mapping.keys()]\n",
    "labels"
   ]
  },
  {
   "cell_type": "code",
   "execution_count": 178,
   "metadata": {},
   "outputs": [
    {
     "name": "stdout",
     "output_type": "stream",
     "text": [
      "0.5\n",
      "1\n"
     ]
    },
    {
     "name": "stderr",
     "output_type": "stream",
     "text": [
      "R[write to console]: \n",
      "Attache Paket: ‘igraph’\n",
      "\n",
      "\n",
      "R[write to console]: Die folgenden Objekte sind maskiert von ‘package:stats’:\n",
      "\n",
      "    decompose, spectrum\n",
      "\n",
      "\n",
      "R[write to console]: Das folgende Objekt ist maskiert ‘package:base’:\n",
      "\n",
      "    union\n",
      "\n",
      "\n",
      "R[write to console]: Lade nötiges Paket: graph\n",
      "\n",
      "R[write to console]: Lade nötiges Paket: BiocGenerics\n",
      "\n",
      "R[write to console]: \n",
      "Attache Paket: ‘BiocGenerics’\n",
      "\n",
      "\n",
      "R[write to console]: Die folgenden Objekte sind maskiert von ‘package:igraph’:\n",
      "\n",
      "    normalize, path, union\n",
      "\n",
      "\n",
      "R[write to console]: Die folgenden Objekte sind maskiert von ‘package:stats’:\n",
      "\n",
      "    IQR, mad, sd, var, xtabs\n",
      "\n",
      "\n",
      "R[write to console]: Die folgenden Objekte sind maskiert von ‘package:base’:\n",
      "\n",
      "    anyDuplicated, aperm, append, as.data.frame, basename, cbind,\n",
      "    colnames, dirname, do.call, duplicated, eval, evalq, Filter, Find,\n",
      "    get, grep, grepl, intersect, is.unsorted, lapply, Map, mapply,\n",
      "    match, mget, order, paste, pmax, pmax.int, pmin, pmin.int,\n",
      "    Position, rank, rbind, Reduce, rownames, sapply, setdiff, sort,\n",
      "    table, tapply, union, unique, unsplit, which.max, which.min\n",
      "\n",
      "\n",
      "R[write to console]: \n",
      "Attache Paket: ‘graph’\n",
      "\n",
      "\n",
      "R[write to console]: Die folgenden Objekte sind maskiert von ‘package:igraph’:\n",
      "\n",
      "    degree, edges, intersection\n",
      "\n",
      "\n",
      "R[write to console]: \n",
      "Attache Paket: ‘RBGL’\n",
      "\n",
      "\n",
      "R[write to console]: Die folgenden Objekte sind maskiert von ‘package:igraph’:\n",
      "\n",
      "    bfs, dfs, transitivity\n",
      "\n",
      "\n",
      "R[write to console]: Lade nötiges Paket: foreach\n",
      "\n",
      "R[write to console]: Lade nötiges Paket: future\n",
      "\n",
      "R[write to console]: \n",
      "Attache Paket: ‘future’\n",
      "\n",
      "\n",
      "R[write to console]: Die folgenden Objekte sind maskiert von ‘package:igraph’:\n",
      "\n",
      "    %->%, %<-%\n",
      "\n",
      "\n",
      "R[write to console]: \n",
      "Attache Paket: ‘gtools’\n",
      "\n",
      "\n",
      "R[write to console]: Die folgenden Objekte sind maskiert von ‘package:rje’:\n",
      "\n",
      "    combinations, ddirichlet, logit, rdirichlet\n",
      "\n",
      "\n",
      "R[write to console]: Das folgende Objekt ist maskiert ‘package:igraph’:\n",
      "\n",
      "    permute\n",
      "\n",
      "\n"
     ]
    },
    {
     "name": "stdout",
     "output_type": "stream",
     "text": [
      "2\n",
      "4\n",
      "$citestResults\n",
      "   ord X Y   S        pvalue\n",
      "0    0 1 2      0.000000e+00\n",
      "1    0 1 3      0.000000e+00\n",
      "2    0 1 4      5.532416e-02\n",
      "3    0 2 3      0.000000e+00\n",
      "4    0 2 4      3.518520e-01\n",
      "5    0 3 4      1.739561e-01\n",
      "6    1 1 2   3  3.195280e-44\n",
      "7    1 1 2   4  6.073242e-01\n",
      "8    1 1 3   2 3.207936e-153\n",
      "9    1 1 3   4  1.719781e-01\n",
      "10   1 1 4   2  0.000000e+00\n",
      "11   1 1 4   3  0.000000e+00\n",
      "12   1 2 3   1 4.948560e-153\n",
      "13   1 2 3   4  4.320880e-01\n",
      "14   1 2 4   1  0.000000e+00\n",
      "15   1 2 4   3  0.000000e+00\n",
      "16   1 3 4   1  0.000000e+00\n",
      "17   1 3 4   2  0.000000e+00\n",
      "18   2 1 2 3,4  5.630634e-43\n",
      "19   2 1 3 2,4 5.205923e-152\n",
      "20   2 1 4 2,3  0.000000e+00\n",
      "21   2 2 3 1,4 1.637279e-151\n",
      "22   2 2 4 1,3  0.000000e+00\n",
      "23   2 3 4 1,2  0.000000e+00\n",
      "\n",
      "$labels\n",
      "[1] \"V0\" \"V1\" \"V2\" \"V3\"\n",
      "\n",
      "\n",
      "[1] \"V0\" \"V1\" \"V2\" \"V3\"\n",
      "[1] 4\n",
      "Order=0; remaining edges:12\n"
     ]
    },
    {
     "name": "stderr",
     "output_type": "stream",
     "text": [
      "R[write to console]: Fehler in names(x) <- value : \n",
      "  Attribut 'names' [5] muss dieselbe Länge haben wie der Vektor [0]\n",
      "\n"
     ]
    },
    {
     "ename": "RRuntimeError",
     "evalue": "Fehler in names(x) <- value : \n  Attribut 'names' [5] muss dieselbe Länge haben wie der Vektor [0]\n",
     "output_type": "error",
     "traceback": [
      "\u001b[0;31m---------------------------------------------------------------------------\u001b[0m",
      "\u001b[0;31mRRuntimeError\u001b[0m                             Traceback (most recent call last)",
      "Cell \u001b[0;32mIn[178], line 1\u001b[0m\n\u001b[0;32m----> 1\u001b[0m \u001b[43mrun_local_fci\u001b[49m\u001b[43m(\u001b[49m\u001b[43mdf\u001b[49m\u001b[43m,\u001b[49m\u001b[43m \u001b[49m\u001b[43mlabels\u001b[49m\u001b[43m)\u001b[49m\n",
      "Cell \u001b[0;32mIn[176], line 18\u001b[0m, in \u001b[0;36mrun_local_fci\u001b[0;34m(df, labels, alpha)\u001b[0m\n\u001b[1;32m     15\u001b[0m \u001b[38;5;28mprint\u001b[39m(\u001b[38;5;124m'\u001b[39m\u001b[38;5;124m4\u001b[39m\u001b[38;5;124m'\u001b[39m)\n\u001b[1;32m     16\u001b[0m \u001b[38;5;28mprint\u001b[39m(lv)\n\u001b[0;32m---> 18\u001b[0m result \u001b[38;5;241m=\u001b[39m \u001b[43maggregate_ci_results_f\u001b[49m\u001b[43m(\u001b[49m\u001b[43m[\u001b[49m\u001b[43mlv\u001b[49m\u001b[43m]\u001b[49m\u001b[43m,\u001b[49m\u001b[43m \u001b[49m\u001b[43malpha\u001b[49m\u001b[43m)\u001b[49m\n\u001b[1;32m     20\u001b[0m pag \u001b[38;5;241m=\u001b[39m [x[\u001b[38;5;241m1\u001b[39m]\u001b[38;5;241m.\u001b[39mtolist() \u001b[38;5;28;01mfor\u001b[39;00m x \u001b[38;5;129;01min\u001b[39;00m result[\u001b[38;5;124m'\u001b[39m\u001b[38;5;124mG_PAG_List\u001b[39m\u001b[38;5;124m'\u001b[39m]\u001b[38;5;241m.\u001b[39mitems()][\u001b[38;5;241m0\u001b[39m]\n\u001b[1;32m     21\u001b[0m pag_labels \u001b[38;5;241m=\u001b[39m [\u001b[38;5;28mlist\u001b[39m(x[\u001b[38;5;241m1\u001b[39m]) \u001b[38;5;28;01mfor\u001b[39;00m x \u001b[38;5;129;01min\u001b[39;00m result[\u001b[38;5;124m'\u001b[39m\u001b[38;5;124mG_PAG_Label_List\u001b[39m\u001b[38;5;124m'\u001b[39m]\u001b[38;5;241m.\u001b[39mitems()][\u001b[38;5;241m0\u001b[39m]\n",
      "File \u001b[0;32m/opt/homebrew/Caskroom/miniforge/base/envs/promotion/lib/python3.10/site-packages/rpy2/robjects/functions.py:208\u001b[0m, in \u001b[0;36mSignatureTranslatedFunction.__call__\u001b[0;34m(self, *args, **kwargs)\u001b[0m\n\u001b[1;32m    206\u001b[0m         v \u001b[38;5;241m=\u001b[39m kwargs\u001b[38;5;241m.\u001b[39mpop(k)\n\u001b[1;32m    207\u001b[0m         kwargs[r_k] \u001b[38;5;241m=\u001b[39m v\n\u001b[0;32m--> 208\u001b[0m \u001b[38;5;28;01mreturn\u001b[39;00m (\u001b[38;5;28;43msuper\u001b[39;49m\u001b[43m(\u001b[49m\u001b[43mSignatureTranslatedFunction\u001b[49m\u001b[43m,\u001b[49m\u001b[43m \u001b[49m\u001b[38;5;28;43mself\u001b[39;49m\u001b[43m)\u001b[49m\n\u001b[1;32m    209\u001b[0m \u001b[43m        \u001b[49m\u001b[38;5;241;43m.\u001b[39;49m\u001b[38;5;21;43m__call__\u001b[39;49m\u001b[43m(\u001b[49m\u001b[38;5;241;43m*\u001b[39;49m\u001b[43margs\u001b[49m\u001b[43m,\u001b[49m\u001b[43m \u001b[49m\u001b[38;5;241;43m*\u001b[39;49m\u001b[38;5;241;43m*\u001b[39;49m\u001b[43mkwargs\u001b[49m\u001b[43m)\u001b[49m)\n",
      "File \u001b[0;32m/opt/homebrew/Caskroom/miniforge/base/envs/promotion/lib/python3.10/site-packages/rpy2/robjects/functions.py:131\u001b[0m, in \u001b[0;36mFunction.__call__\u001b[0;34m(self, *args, **kwargs)\u001b[0m\n\u001b[1;32m    129\u001b[0m     \u001b[38;5;28;01melse\u001b[39;00m:\n\u001b[1;32m    130\u001b[0m         new_kwargs[k] \u001b[38;5;241m=\u001b[39m cv\u001b[38;5;241m.\u001b[39mpy2rpy(v)\n\u001b[0;32m--> 131\u001b[0m res \u001b[38;5;241m=\u001b[39m \u001b[38;5;28;43msuper\u001b[39;49m\u001b[43m(\u001b[49m\u001b[43mFunction\u001b[49m\u001b[43m,\u001b[49m\u001b[43m \u001b[49m\u001b[38;5;28;43mself\u001b[39;49m\u001b[43m)\u001b[49m\u001b[38;5;241;43m.\u001b[39;49m\u001b[38;5;21;43m__call__\u001b[39;49m\u001b[43m(\u001b[49m\u001b[38;5;241;43m*\u001b[39;49m\u001b[43mnew_args\u001b[49m\u001b[43m,\u001b[49m\u001b[43m \u001b[49m\u001b[38;5;241;43m*\u001b[39;49m\u001b[38;5;241;43m*\u001b[39;49m\u001b[43mnew_kwargs\u001b[49m\u001b[43m)\u001b[49m\n\u001b[1;32m    132\u001b[0m res \u001b[38;5;241m=\u001b[39m cv\u001b[38;5;241m.\u001b[39mrpy2py(res)\n\u001b[1;32m    133\u001b[0m \u001b[38;5;28;01mreturn\u001b[39;00m res\n",
      "File \u001b[0;32m/opt/homebrew/Caskroom/miniforge/base/envs/promotion/lib/python3.10/site-packages/rpy2/rinterface_lib/conversion.py:45\u001b[0m, in \u001b[0;36m_cdata_res_to_rinterface.<locals>._\u001b[0;34m(*args, **kwargs)\u001b[0m\n\u001b[1;32m     44\u001b[0m \u001b[38;5;28;01mdef\u001b[39;00m \u001b[38;5;21m_\u001b[39m(\u001b[38;5;241m*\u001b[39margs, \u001b[38;5;241m*\u001b[39m\u001b[38;5;241m*\u001b[39mkwargs):\n\u001b[0;32m---> 45\u001b[0m     cdata \u001b[38;5;241m=\u001b[39m \u001b[43mfunction\u001b[49m\u001b[43m(\u001b[49m\u001b[38;5;241;43m*\u001b[39;49m\u001b[43margs\u001b[49m\u001b[43m,\u001b[49m\u001b[43m \u001b[49m\u001b[38;5;241;43m*\u001b[39;49m\u001b[38;5;241;43m*\u001b[39;49m\u001b[43mkwargs\u001b[49m\u001b[43m)\u001b[49m\n\u001b[1;32m     46\u001b[0m     \u001b[38;5;66;03m# TODO: test cdata is of the expected CType\u001b[39;00m\n\u001b[1;32m     47\u001b[0m     \u001b[38;5;28;01mreturn\u001b[39;00m _cdata_to_rinterface(cdata)\n",
      "File \u001b[0;32m/opt/homebrew/Caskroom/miniforge/base/envs/promotion/lib/python3.10/site-packages/rpy2/rinterface.py:817\u001b[0m, in \u001b[0;36mSexpClosure.__call__\u001b[0;34m(self, *args, **kwargs)\u001b[0m\n\u001b[1;32m    810\u001b[0m     res \u001b[38;5;241m=\u001b[39m rmemory\u001b[38;5;241m.\u001b[39mprotect(\n\u001b[1;32m    811\u001b[0m         openrlib\u001b[38;5;241m.\u001b[39mrlib\u001b[38;5;241m.\u001b[39mR_tryEval(\n\u001b[1;32m    812\u001b[0m             call_r,\n\u001b[1;32m    813\u001b[0m             call_context\u001b[38;5;241m.\u001b[39m__sexp__\u001b[38;5;241m.\u001b[39m_cdata,\n\u001b[1;32m    814\u001b[0m             error_occured)\n\u001b[1;32m    815\u001b[0m     )\n\u001b[1;32m    816\u001b[0m     \u001b[38;5;28;01mif\u001b[39;00m error_occured[\u001b[38;5;241m0\u001b[39m]:\n\u001b[0;32m--> 817\u001b[0m         \u001b[38;5;28;01mraise\u001b[39;00m embedded\u001b[38;5;241m.\u001b[39mRRuntimeError(_rinterface\u001b[38;5;241m.\u001b[39m_geterrmessage())\n\u001b[1;32m    818\u001b[0m \u001b[38;5;28;01mreturn\u001b[39;00m res\n",
      "\u001b[0;31mRRuntimeError\u001b[0m: Fehler in names(x) <- value : \n  Attribut 'names' [5] muss dieselbe Länge haben wie der Vektor [0]\n"
     ]
    }
   ],
   "source": [
    "run_local_fci(df, labels)"
   ]
  },
  {
   "cell_type": "code",
   "execution_count": null,
   "metadata": {},
   "outputs": [
    {
     "name": "stdout",
     "output_type": "stream",
     "text": [
      "/opt/homebrew/Caskroom/miniforge/base/envs/promotion/bin/R\n"
     ]
    }
   ],
   "source": [
    "!which R"
   ]
  },
  {
   "cell_type": "code",
   "execution_count": null,
   "metadata": {},
   "outputs": [],
   "source": []
  },
  {
   "cell_type": "code",
   "execution_count": null,
   "metadata": {},
   "outputs": [],
   "source": []
  },
  {
   "cell_type": "code",
   "execution_count": null,
   "metadata": {},
   "outputs": [],
   "source": []
  }
 ],
 "metadata": {
  "kernelspec": {
   "display_name": "base",
   "language": "python",
   "name": "python3"
  },
  "language_info": {
   "codemirror_mode": {
    "name": "ipython",
    "version": 3
   },
   "file_extension": ".py",
   "mimetype": "text/x-python",
   "name": "python",
   "nbconvert_exporter": "python",
   "pygments_lexer": "ipython3",
   "version": "3.10.14"
  }
 },
 "nbformat": 4,
 "nbformat_minor": 2
}
