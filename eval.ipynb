{
 "cells": [
  {
   "cell_type": "code",
   "execution_count": 1,
   "metadata": {},
   "outputs": [],
   "source": [
    "import polars as pl"
   ]
  },
  {
   "cell_type": "code",
   "execution_count": 2,
   "metadata": {},
   "outputs": [],
   "source": [
    "df = pl.read_ndjson('./experiments/base_updated2/log-913.ndjson', infer_schema_length=None)"
   ]
  },
  {
   "cell_type": "code",
   "execution_count": 3,
   "metadata": {},
   "outputs": [],
   "source": [
    "df_schema = df.schema"
   ]
  },
  {
   "cell_type": "code",
   "execution_count": 96,
   "metadata": {},
   "outputs": [
    {
     "data": {
      "text/plain": [
       "2844"
      ]
     },
     "execution_count": 96,
     "metadata": {},
     "output_type": "execute_result"
    }
   ],
   "source": [
    "df = pl.scan_ndjson('./experiments/base/log-9*.ndjson', schema=df_schema).collect()\n",
    "\n",
    "#df = df.filter(pl.col('symmetric') == True)\n",
    "#df = df.filter(pl.col('comparison_category') == 'riod_pooled_citest')\n",
    "#df = df.filter(pl.col('llf_neg_prob_fix') == 'clipping')\n",
    "df = df.filter(pl.col('num_samples') >= 100)\n",
    "#df = df.filter(pl.col('alpha') == 0.01)\n",
    "len(df)"
   ]
  },
  {
   "cell_type": "code",
   "execution_count": 97,
   "metadata": {},
   "outputs": [
    {
     "data": {
      "application/vnd.jupyter.widget-view+json": {
       "model_id": "22b3d59b6169457d952aa036af807535",
       "version_major": 2,
       "version_minor": 0
      },
      "text/plain": [
       "BokehModel(combine_events=True, render_bundle={'docs_json': {'c9f7ee95-d6d3-4db0-b1ae-c88b15157ba2': {'version…"
      ]
     },
     "execution_count": 97,
     "metadata": {},
     "output_type": "execute_result"
    }
   ],
   "source": [
    "_df = df\n",
    "_df = _df.with_columns(accuracy=pl.col('tp') + pl.col('tn'))\n",
    "\n",
    "_df = _df.with_columns(comparison_type=pl.col('name').str.slice(0,3))\n",
    "_df = _df.with_columns(comparison_variables=pl.col('name').str.slice(0,3))\n",
    "_df = _df.with_columns(comparison_type=pl.col('name').str.slice(0,3))\n",
    "\n",
    "grouping_keys = ['comparison_type', 'num_samples', 'alpha', 'tikhonov_lambda', 'comparison_category', 'llf_neg_prob_fix']\n",
    "by_keys = ['name', 'num_clients']\n",
    "y_key = 'accuracy'\n",
    "\n",
    "_df.plot.box(y=y_key,\n",
    "             by=by_keys,\n",
    "             groupby=grouping_keys,\n",
    "             c=by_keys[0],\n",
    "             rot=60,\n",
    "             cmap='Pastel2',\n",
    "             ylim=(-0.1,1.1),\n",
    "             legend=False,\n",
    "             widget_location='bottom'\n",
    "             )"
   ]
  },
  {
   "cell_type": "code",
   "execution_count": 98,
   "metadata": {},
   "outputs": [
    {
     "name": "stderr",
     "output_type": "stream",
     "text": [
      "bokeh backend could not plot any Elements in the Overlay."
     ]
    },
    {
     "data": {
      "text/plain": [
       ":DynamicMap   [comparison_type,num_clients,alpha,tikhonov_lambda,llf_neg_prob_fix]\n",
       "   :NdOverlay   [name]"
      ]
     },
     "execution_count": 98,
     "metadata": {},
     "output_type": "execute_result"
    }
   ],
   "source": [
    "__df = df.select('name', 'num_clients', 'num_samples', 'symmetric', 'alpha', 'tikhonov_lambda', 'llf_neg_prob_fix', 'predicted_p_vals', 'true_p_vals') \\\n",
    "    .explode('predicted_p_vals', 'true_p_vals') \\\n",
    "    .group_by('name', 'symmetric', 'num_clients', 'num_samples', 'alpha', 'tikhonov_lambda', 'llf_neg_prob_fix') \\\n",
    "    .agg(pl.corr('predicted_p_vals', 'true_p_vals')) \\\n",
    "    .rename({'predicted_p_vals': 'p_value_correlation'}) \n",
    "    \n",
    "__df = __df.with_columns(comparison_type=pl.col('name').str.slice(0,3))\n",
    "    \n",
    "__df.sort('num_samples').plot.line(x='num_samples', y='p_value_correlation',alpha=0.6, by='name', groupby=['comparison_type','num_clients', 'alpha', 'tikhonov_lambda', 'llf_neg_prob_fix'], ylim=(0.8,1.001))"
   ]
  },
  {
   "cell_type": "code",
   "execution_count": 99,
   "metadata": {},
   "outputs": [
    {
     "name": "stderr",
     "output_type": "stream",
     "text": [
      "bokeh backend could not plot any Elements in the Overlay."
     ]
    },
    {
     "data": {
      "text/plain": [
       ":DynamicMap   [comparison_type,num_clients,symmetric,alpha,tikhonov_lambda,llf_neg_prob_fix]\n",
       "   :NdOverlay   [name]"
      ]
     },
     "execution_count": 99,
     "metadata": {},
     "output_type": "execute_result"
    }
   ],
   "source": [
    "__df = df\n",
    "\n",
    "__df = __df.with_columns(comparison_type=pl.col('name').str.slice(0,3))\n",
    "\n",
    "#_df_decision_agreements.sort('num_samples').plot.line(x='num_samples', y='accuracy',alpha=0.6, by='name', groupby=['comparison_type','num_clients', 'symmetric', 'alpha', 'tikhonov_lambda', 'llf_neg_prob_fix'], ylim=(-0.1,1.1))\n",
    "\n",
    "\n",
    "__df = __df.explode('predicted_p_vals', 'true_p_vals')\n",
    "__df = __df.with_columns(decision_agreement=((pl.col('predicted_p_vals') > pl.col('alpha')) &\n",
    "                                                               (pl.col('true_p_vals') > pl.col('alpha'))) |\n",
    "                                                               ((pl.col('predicted_p_vals') < pl.col('alpha')) &\n",
    "                                                               (pl.col('true_p_vals') < pl.col('alpha')))\n",
    "                                                               )\n",
    "\n",
    "grouping_cols = ['num_samples', 'name', 'comparison_type','num_clients', 'symmetric', 'alpha', 'tikhonov_lambda', 'llf_neg_prob_fix']\n",
    "\n",
    "__df = __df.group_by(grouping_cols).agg(pl.col('decision_agreement').mean())\n",
    "\n",
    "__df.sort('num_samples').plot.line(x='num_samples', y='decision_agreement',alpha=0.6, by='name', groupby=['comparison_type','num_clients', 'symmetric', 'alpha', 'tikhonov_lambda', 'llf_neg_prob_fix'], ylim=(0.8,1.001))"
   ]
  },
  {
   "cell_type": "code",
   "execution_count": 92,
   "metadata": {},
   "outputs": [
    {
     "name": "stderr",
     "output_type": "stream",
     "text": [
      "bokeh backend could not plot any Elements in the Overlay."
     ]
    },
    {
     "data": {
      "text/plain": [
       ":DynamicMap   [comparison_type,num_clients,symmetric,alpha,tikhonov_lambda,llf_neg_prob_fix]\n",
       "   :NdOverlay   [name]"
      ]
     },
     "execution_count": 92,
     "metadata": {},
     "output_type": "execute_result"
    }
   ],
   "source": [
    "_df_decision_agreements = _df\n",
    "\n",
    "#_df_decision_agreements.sort('num_samples').plot.line(x='num_samples', y='accuracy',alpha=0.6, by='name', groupby=['comparison_type','num_clients', 'symmetric', 'alpha', 'tikhonov_lambda', 'llf_neg_prob_fix'], ylim=(-0.1,1.1))\n",
    "\n",
    "\n",
    "_df_decision_agreements = _df_decision_agreements.with_columns(accuracy=pl.col('tn')+pl.col('tp'))\n",
    "\n",
    "grouping_cols = ['num_samples', 'name', 'comparison_type','num_clients', 'symmetric', 'alpha', 'tikhonov_lambda', 'llf_neg_prob_fix']\n",
    "\n",
    "_df_decision_agreements = _df_decision_agreements.group_by(grouping_cols).agg(pl.col('accuracy').mean())\n",
    "\n",
    "_df_decision_agreements.sort('num_samples').plot.line(x='num_samples', y='accuracy',alpha=0.6, by='name', groupby=['comparison_type','num_clients', 'symmetric', 'alpha', 'tikhonov_lambda', 'llf_neg_prob_fix'], ylim=(0.8,1.001))"
   ]
  },
  {
   "cell_type": "code",
   "execution_count": 93,
   "metadata": {},
   "outputs": [
    {
     "data": {
      "application/vnd.jupyter.widget-view+json": {
       "model_id": "a7ff487c61d049469349f5050aa0f362",
       "version_major": 2,
       "version_minor": 0
      },
      "text/plain": [
       "BokehModel(combine_events=True, render_bundle={'docs_json': {'93b8e207-c7da-4c81-a883-dfd6a9495181': {'version…"
      ]
     },
     "execution_count": 93,
     "metadata": {},
     "output_type": "execute_result"
    }
   ],
   "source": [
    "_df.explode('predicted_p_vals', 'true_p_vals').plot.scatter(x='predicted_p_vals',\n",
    "                                                             y='true_p_vals',\n",
    "                                                             groupby=['name', 'num_samples', 'num_clients', 'llf_neg_prob_fix'],\n",
    "                                                             ylim=(-0.1,1.1),\n",
    "                                                             xlim=(-0.1,1.1),\n",
    "                                                             width=400,\n",
    "                                                             height=400,\n",
    "                                                             alpha=0.5\n",
    "                                                             )"
   ]
  },
  {
   "cell_type": "code",
   "execution_count": 95,
   "metadata": {},
   "outputs": [
    {
     "name": "stdout",
     "output_type": "stream",
     "text": [
      "shape: (2, 2)\n",
      "┌────────────────────┬───────┐\n",
      "│ decision_agreement ┆ count │\n",
      "│ ---                ┆ ---   │\n",
      "│ bool               ┆ u32   │\n",
      "╞════════════════════╪═══════╡\n",
      "│ false              ┆ 51    │\n",
      "│ true               ┆ 9471  │\n",
      "└────────────────────┴───────┘\n",
      "shape: (7, 2)\n",
      "┌─────────────────┬─────┐\n",
      "│ name            ┆ len │\n",
      "│ ---             ┆ --- │\n",
      "│ str             ┆ u32 │\n",
      "╞═════════════════╪═════╡\n",
      "│ L-M Con. Indep. ┆ 15  │\n",
      "│ L-B Con. Dep.   ┆ 13  │\n",
      "│ L-M Con. Dep.   ┆ 10  │\n",
      "│ L-B Con. Indep. ┆ 7   │\n",
      "│ L-M Unc. Dep.   ┆ 3   │\n",
      "│ L-B Unc. Indep. ┆ 2   │\n",
      "│ L-B Unc. Dep.   ┆ 1   │\n",
      "└─────────────────┴─────┘\n",
      "shape: (3, 2)\n",
      "┌─────────────┬─────┐\n",
      "│ num_clients ┆ len │\n",
      "│ ---         ┆ --- │\n",
      "│ i64         ┆ u32 │\n",
      "╞═════════════╪═════╡\n",
      "│ 5           ┆ 24  │\n",
      "│ 3           ┆ 21  │\n",
      "│ 1           ┆ 6   │\n",
      "└─────────────┴─────┘\n",
      "shape: (38, 4)\n",
      "┌─────────────────┬─────────────┬─────────────┬─────┐\n",
      "│ name            ┆ num_samples ┆ num_clients ┆ len │\n",
      "│ ---             ┆ ---         ┆ ---         ┆ --- │\n",
      "│ str             ┆ i64         ┆ i64         ┆ u32 │\n",
      "╞═════════════════╪═════════════╪═════════════╪═════╡\n",
      "│ L-B Con. Indep. ┆ 300         ┆ 3           ┆ 3   │\n",
      "│ L-M Con. Indep. ┆ 100         ┆ 3           ┆ 3   │\n",
      "│ L-B Con. Dep.   ┆ 500         ┆ 5           ┆ 3   │\n",
      "│ L-M Con. Indep. ┆ 200         ┆ 3           ┆ 2   │\n",
      "│ L-M Con. Dep.   ┆ 100         ┆ 5           ┆ 2   │\n",
      "│ …               ┆ …           ┆ …           ┆ …   │\n",
      "│ L-M Con. Dep.   ┆ 100         ┆ 3           ┆ 1   │\n",
      "│ L-B Con. Dep.   ┆ 200         ┆ 5           ┆ 1   │\n",
      "│ L-B Unc. Indep. ┆ 500         ┆ 1           ┆ 1   │\n",
      "│ L-B Con. Indep. ┆ 400         ┆ 5           ┆ 1   │\n",
      "│ L-B Unc. Indep. ┆ 500         ┆ 3           ┆ 1   │\n",
      "└─────────────────┴─────────────┴─────────────┴─────┘\n"
     ]
    },
    {
     "data": {
      "application/vnd.jupyter.widget-view+json": {
       "model_id": "1c172c038e574544b0774bcd30a7a659",
       "version_major": 2,
       "version_minor": 0
      },
      "text/plain": [
       "BokehModel(combine_events=True, render_bundle={'docs_json': {'535e0284-1b8a-4c20-a72c-fa2e162b20c0': {'version…"
      ]
     },
     "execution_count": 95,
     "metadata": {},
     "output_type": "execute_result"
    }
   ],
   "source": [
    "__df = _df\n",
    "__df = __df.explode('predicted_p_vals', 'true_p_vals')\n",
    "__df = __df.with_columns(decision_agreement=((pl.col('predicted_p_vals') > pl.col('alpha')) &\n",
    "                                            (pl.col('true_p_vals') > pl.col('alpha'))) |\n",
    "                                            ((pl.col('predicted_p_vals') < pl.col('alpha')) &\n",
    "                                            (pl.col('true_p_vals') < pl.col('alpha')))\n",
    "                                            )\n",
    "\n",
    "\n",
    "print(__df['decision_agreement'].value_counts())\n",
    "print(__df.filter(~pl.col('decision_agreement')).group_by('name').len().sort('len', descending=True))\n",
    "print(__df.filter(~pl.col('decision_agreement')).group_by('num_clients').len().sort('len', descending=True))\n",
    "print(__df.filter(~pl.col('decision_agreement')).group_by('name', 'num_samples', 'num_clients').len().sort('len', descending=True))\n",
    "\n",
    "__df.filter(~pl.col('decision_agreement')).plot.scatter(x='predicted_p_vals',\n",
    "                y='true_p_vals',\n",
    "                #by='decision_agreement',\n",
    "                #by=['name', 'num_samples', 'num_clients'],\n",
    "                groupby=['name', 'num_samples', 'num_clients'],#, 'llf_neg_prob_fix', 'alpha'],\n",
    "                ylim=(-0.1,1.1),\n",
    "                xlim=(-0.1,1.1),\n",
    "                width=400,\n",
    "                height=400,\n",
    "                alpha=0.5\n",
    "                )"
   ]
  },
  {
   "cell_type": "code",
   "execution_count": 26,
   "metadata": {},
   "outputs": [],
   "source": [
    "# L-B Con. Indep. !!!\n",
    "# L-M Con. Indep. !!!\n",
    "# L-M Con. Dep."
   ]
  },
  {
   "cell_type": "code",
   "execution_count": 78,
   "metadata": {},
   "outputs": [
    {
     "data": {
      "text/plain": [
       "2646"
      ]
     },
     "execution_count": 78,
     "metadata": {},
     "output_type": "execute_result"
    }
   ],
   "source": [
    "df = pl.scan_ndjson('./experiments/base/log-9*.ndjson', schema=df_schema).collect()\n",
    "\n",
    "df = df.filter(pl.col('num_samples') >= 100)\n",
    "#df = df.filter(pl.col('alpha') == 0.01)\n",
    "\n",
    "len(df)"
   ]
  },
  {
   "cell_type": "code",
   "execution_count": 79,
   "metadata": {},
   "outputs": [
    {
     "data": {
      "application/vnd.jupyter.widget-view+json": {
       "model_id": "4c457c98ba844d1cbea5c7f67e515e8c",
       "version_major": 2,
       "version_minor": 0
      },
      "text/plain": [
       "BokehModel(combine_events=True, render_bundle={'docs_json': {'bb5e5fb1-f49c-4f69-80c2-57d764503262': {'version…"
      ]
     },
     "execution_count": 79,
     "metadata": {},
     "output_type": "execute_result"
    }
   ],
   "source": [
    "_df = df\n",
    "_df = _df.explode('predicted_p_vals', 'true_p_vals')\n",
    "_df = _df.with_columns(decision_agreement=((pl.col('predicted_p_vals') > pl.col('alpha')) &\n",
    "                                            (pl.col('true_p_vals') > pl.col('alpha'))) |\n",
    "                                            ((pl.col('predicted_p_vals') < pl.col('alpha')) &\n",
    "                                            (pl.col('true_p_vals') < pl.col('alpha')))\n",
    "                                            )\n",
    "\n",
    "_df = _df.with_columns(comparison_variables=pl.col('name').str.slice(0,3))\n",
    "_df = _df.with_columns(comparison_type=pl.col('name').str.slice(4))\n",
    "\n",
    "\n",
    "_df = _df.sort('num_samples')\n",
    "\n",
    "\n",
    "_df.plot.line(x='num_samples',\n",
    "                y='decision_agreement',\n",
    "                alpha=0.8,\n",
    "                by='comparison_variables',\n",
    "                groupby=['comparison_type','num_clients', 'alpha'],\n",
    "                ylim=(-0.1,1.001)) #* _df.plot.errorbars(y='decision_agreement', yerr1='std')"
   ]
  },
  {
   "cell_type": "code",
   "execution_count": 80,
   "metadata": {},
   "outputs": [
    {
     "data": {
      "application/vnd.jupyter.widget-view+json": {
       "model_id": "374583f465eb48a3be2c8b54c80e377d",
       "version_major": 2,
       "version_minor": 0
      },
      "text/plain": [
       "BokehModel(combine_events=True, render_bundle={'docs_json': {'b0385479-81a3-434f-a3e5-be0977936055': {'version…"
      ]
     },
     "execution_count": 80,
     "metadata": {},
     "output_type": "execute_result"
    }
   ],
   "source": [
    "_df = df.select('name', 'num_clients', 'num_samples', 'symmetric', 'alpha', 'tikhonov_lambda', 'llf_neg_prob_fix', 'predicted_p_vals', 'true_p_vals') \\\n",
    "    .explode('predicted_p_vals', 'true_p_vals') \\\n",
    "    .group_by('name', 'num_clients', 'num_samples', 'alpha') \\\n",
    "    .agg(pl.corr('predicted_p_vals', 'true_p_vals')) \\\n",
    "    .rename({'predicted_p_vals': 'p_value_correlation'}) \n",
    "    \n",
    "_df = _df.with_columns(comparison_variables=pl.col('name').str.slice(0,3))\n",
    "_df = _df.with_columns(comparison_type=pl.col('name').str.slice(4))\n",
    "    \n",
    "_df.sort('num_samples').plot.line(x='num_samples',\n",
    "                                  y='p_value_correlation',\n",
    "                                  alpha=0.6,\n",
    "                                  by='comparison_variables',\n",
    "                                  groupby=['comparison_type','num_clients', 'alpha'],\n",
    "                                  ylim=(0.8,1.001))"
   ]
  },
  {
   "cell_type": "code",
   "execution_count": null,
   "metadata": {},
   "outputs": [],
   "source": []
  },
  {
   "cell_type": "code",
   "execution_count": null,
   "metadata": {},
   "outputs": [],
   "source": [
    "_df = df\n",
    "_df = _df.explode('predicted_p_vals', 'true_p_vals')\n",
    "\n",
    "\n",
    "_df = _df.with_columns(comparison_variables=pl.col('name').str.slice(0,3))\n",
    "_df = _df.with_columns(comparison_type=pl.col('name').str.slice(4))\n",
    "\n",
    "#_df = _df.with_columns(pl.col(''))\n",
    "\n",
    "\n",
    "_df.sort('num_samples').plot.line(x='num_samples',\n",
    "                                   y='decision_agreement',\n",
    "                                   alpha=0.8,\n",
    "                                   by='comparison_variables',\n",
    "                                   groupby=['comparison_type','num_clients', 'alpha'],\n",
    "                                   ylim=(-0.01,1.001))"
   ]
  },
  {
   "cell_type": "code",
   "execution_count": null,
   "metadata": {},
   "outputs": [],
   "source": []
  },
  {
   "cell_type": "code",
   "execution_count": null,
   "metadata": {},
   "outputs": [],
   "source": [
    "# PLOTS FROM PAPER"
   ]
  },
  {
   "cell_type": "code",
   "execution_count": null,
   "metadata": {},
   "outputs": [],
   "source": []
  },
  {
   "cell_type": "code",
   "execution_count": null,
   "metadata": {},
   "outputs": [],
   "source": [
    "__df = df.select('name', 'num_clients', 'num_samples', 'symmetric', 'alpha', 'tikhonov_lambda', 'llf_neg_prob_fix', 'predicted_p_vals', 'true_p_vals') \\\n",
    "    .explode('predicted_p_vals', 'true_p_vals') \\\n",
    "    .group_by('name', 'symmetric', 'num_clients', 'num_samples', 'alpha', 'tikhonov_lambda', 'llf_neg_prob_fix') \\\n",
    "    .agg(pl.corr('predicted_p_vals', 'true_p_vals')) \\\n",
    "    .rename({'predicted_p_vals': 'p_value_correlation'}) \n",
    "    \n",
    "__df = __df.with_columns(comparison_type=pl.col('name').str.slice(0,3))\n",
    "    \n",
    "__df.sort('num_samples').plot.line(x='num_samples', y='p_value_correlation',alpha=0.6, by='name', groupby=['comparison_type','num_clients', 'alpha', 'tikhonov_lambda', 'llf_neg_prob_fix'])"
   ]
  },
  {
   "cell_type": "code",
   "execution_count": null,
   "metadata": {},
   "outputs": [],
   "source": []
  },
  {
   "cell_type": "code",
   "execution_count": null,
   "metadata": {},
   "outputs": [],
   "source": []
  },
  {
   "cell_type": "code",
   "execution_count": 78,
   "metadata": {},
   "outputs": [],
   "source": [
    "import glob\n",
    "import polars as pl"
   ]
  },
  {
   "cell_type": "code",
   "execution_count": 80,
   "metadata": {},
   "outputs": [],
   "source": [
    "# for file in glob.glob('./experiments/base/*.ndjson'):\n",
    "#     #print(file)\n",
    "#     df = pl.read_ndjson(file)\n",
    "#     #print(len(df))\n",
    "#     df = df.filter(pl.col('num_samples') >= 100)\n",
    "#     #print(len(df))\n",
    "#     #break\n",
    "#     df = df.write_ndjson(file)"
   ]
  },
  {
   "cell_type": "code",
   "execution_count": null,
   "metadata": {},
   "outputs": [],
   "source": []
  }
 ],
 "metadata": {
  "kernelspec": {
   "display_name": "promotion",
   "language": "python",
   "name": "python3"
  },
  "language_info": {
   "codemirror_mode": {
    "name": "ipython",
    "version": 3
   },
   "file_extension": ".py",
   "mimetype": "text/x-python",
   "name": "python",
   "nbconvert_exporter": "python",
   "pygments_lexer": "ipython3",
   "version": "3.10.14"
  }
 },
 "nbformat": 4,
 "nbformat_minor": 2
}
