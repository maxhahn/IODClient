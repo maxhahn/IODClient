{
 "cells": [
  {
   "cell_type": "code",
   "execution_count": 163,
   "metadata": {},
   "outputs": [],
   "source": [
    "import random\n",
    "import numpy as np\n",
    "from scipy import stats\n",
    "import polars as pl"
   ]
  },
  {
   "cell_type": "code",
   "execution_count": 10,
   "metadata": {},
   "outputs": [],
   "source": [
    "def uniform_sample():\n",
    "    v = np.random.uniform(-0.8,1)\n",
    "    v = v if v > 0.1 else v - 0.2\n",
    "    return v"
   ]
  },
  {
   "cell_type": "code",
   "execution_count": 125,
   "metadata": {},
   "outputs": [],
   "source": [
    "import random\n",
    "\n",
    "def get_quantiles(num_cats, min_perc_per_cat):\n",
    "    num_objects = int((1.0-num_cats*min_perc_per_cat)*100)\n",
    "\n",
    "    containers = [[] for _ in range(num_cats)]\n",
    "    objects = (1 for _ in range(num_objects))\n",
    "    # we don't need a list of these, just have to iterate over it, so this is a genexp\n",
    "\n",
    "    for object in objects:\n",
    "        random.choice(containers).append(object)\n",
    "        \n",
    "    containers = [sum(c)/100 for c in containers]\n",
    "    containers\n",
    "\n",
    "\n",
    "    containers = [c+min_perc_per_cat for c in containers]\n",
    "    #assert sum(containers) == 1\n",
    "\n",
    "    quantiles = [containers[0]]\n",
    "    for i in range(1,len(containers)-1):\n",
    "        quantiles.append(containers[i] + quantiles[-1])\n",
    "        \n",
    "    return quantiles\n",
    "\n",
    "def to_categorical(c, quantiles):\n",
    "    return c.qcut(quantiles, labels=[str(i) for i in range(1,len(quantiles)+2)])"
   ]
  },
  {
   "cell_type": "code",
   "execution_count": null,
   "metadata": {},
   "outputs": [],
   "source": [
    "def toposort(variables):\n",
    "    sorted_list = []\n",
    "    no_inc_edge_nodes = {v for v in variables if len(v.parents) == 0}\n",
    "    graph = {v:set(v.parents) for v in variables if len(v.parents) > 0}\n",
    "    \n",
    "    while len(no_inc_edge_nodes) > 0:\n",
    "        node = no_inc_edge_nodes.pop()\n",
    "        sorted_list.append(node)\n",
    "        for node_i in [v for v,ps in graph.items() if node in ps]:\n",
    "            graph[node_i].remove(node)\n",
    "            if len(graph[node_i]) == 0:\n",
    "                no_inc_edge_nodes.add(node_i)\n",
    "                \n",
    "    return sorted_list"
   ]
  },
  {
   "cell_type": "code",
   "execution_count": 127,
   "metadata": {},
   "outputs": [],
   "source": [
    "class Node:\n",
    "    def __init__(self, name, parents):\n",
    "        self.name = name\n",
    "        self.parents = parents\n",
    "        self.coefficients = [uniform_sample() for _ in parents]\n",
    "        self.intercept = uniform_sample()\n",
    "        self.value = None\n",
    "        \n",
    "    def get(self, num_samples=100):\n",
    "        if self.value is None:\n",
    "            self.value = self._calc(num_samples)\n",
    "        return self.value\n",
    "    \n",
    "    def reset(self):\n",
    "        self.value = None\n",
    "        for p in self.parents:\n",
    "            p.reset()\n",
    "        \n",
    "    def _calc(self, num_samples):\n",
    "        val = pl.Series(name=self.name, values=np.random.normal(0,1, num_samples))\n",
    "        if len(self.parents) > 0:\n",
    "            val += self.intercept \n",
    "        for parent, coeff in zip(self.parents, self.coefficients):\n",
    "            val += parent.get(num_samples).cast(pl.Float64)*coeff\n",
    "            \n",
    "        return val\n",
    "    \n",
    "    def __repr__(self):\n",
    "        return f'Node {self.name} - descends from {\", \".join([p.name for p in self.parents]) if len(self.parents) > 0 else \"none\"}'"
   ]
  },
  {
   "cell_type": "code",
   "execution_count": 153,
   "metadata": {},
   "outputs": [],
   "source": [
    "class CategoricalNode(Node):\n",
    "    def __init__(self, name, parents, min_categories=2, max_categories=4, min_percent_per_category=0.15):\n",
    "        super().__init__(name, parents)\n",
    "        \n",
    "        self.num_categories = np.random.randint(min_categories, max_categories+1)\n",
    "        self.min_percent_per_category = min_percent_per_category\n",
    "        \n",
    "    def _calc(self, num_samples):\n",
    "       quantiles = get_quantiles(self.num_categories, self.min_percent_per_category)\n",
    "       return to_categorical(super()._calc(num_samples), quantiles).cast(pl.Utf8)"
   ]
  },
  {
   "cell_type": "code",
   "execution_count": 158,
   "metadata": {},
   "outputs": [],
   "source": [
    "class NodeCollection():\n",
    "    def __init__(self, nodes):\n",
    "        self.nodes = toposort(nodes)\n",
    "        \n",
    "    def get(self, num_samples):\n",
    "        data = [n.get(num_samples) for n in self.nodes[::-1]]\n",
    "        data = pl.DataFrame(data)\n",
    "        return data\n",
    "    \n",
    "    def reset(self):\n",
    "        self.nodes[-1].reset()"
   ]
  },
  {
   "cell_type": "code",
   "execution_count": 159,
   "metadata": {},
   "outputs": [],
   "source": [
    "a = Node('A', [])\n",
    "b = CategoricalNode('B', [])\n",
    "c = Node('C', [a,b])"
   ]
  },
  {
   "cell_type": "code",
   "execution_count": 160,
   "metadata": {},
   "outputs": [],
   "source": [
    "nc = NodeCollection([a,b,c])"
   ]
  },
  {
   "cell_type": "code",
   "execution_count": 161,
   "metadata": {},
   "outputs": [],
   "source": [
    "nc.reset()"
   ]
  },
  {
   "cell_type": "code",
   "execution_count": 164,
   "metadata": {},
   "outputs": [],
   "source": [
    "df = nc.get(10000)"
   ]
  },
  {
   "cell_type": "code",
   "execution_count": 165,
   "metadata": {},
   "outputs": [],
   "source": [
    "df.write_parquet('./testdata.parquet')"
   ]
  },
  {
   "cell_type": "code",
   "execution_count": 167,
   "metadata": {},
   "outputs": [
    {
     "data": {
      "text/html": [
       "<div><style>\n",
       ".dataframe > thead > tr,\n",
       ".dataframe > tbody > tr {\n",
       "  text-align: right;\n",
       "  white-space: pre-wrap;\n",
       "}\n",
       "</style>\n",
       "<small>shape: (10_000, 4)</small><table border=\"1\" class=\"dataframe\"><thead><tr><th>C</th><th>A</th><th>B_1</th><th>B_2</th></tr><tr><td>f64</td><td>f64</td><td>u8</td><td>u8</td></tr></thead><tbody><tr><td>0.009434</td><td>-0.121922</td><td>1</td><td>0</td></tr><tr><td>-0.661531</td><td>-0.168285</td><td>0</td><td>1</td></tr><tr><td>0.944038</td><td>0.868483</td><td>1</td><td>0</td></tr><tr><td>0.097012</td><td>-0.300551</td><td>0</td><td>1</td></tr><tr><td>-1.68967</td><td>-0.566939</td><td>1</td><td>0</td></tr><tr><td>&hellip;</td><td>&hellip;</td><td>&hellip;</td><td>&hellip;</td></tr><tr><td>-0.983367</td><td>0.611019</td><td>1</td><td>0</td></tr><tr><td>0.028485</td><td>0.363459</td><td>1</td><td>0</td></tr><tr><td>1.80375</td><td>0.855562</td><td>1</td><td>0</td></tr><tr><td>-0.088968</td><td>0.445007</td><td>0</td><td>1</td></tr><tr><td>-0.592241</td><td>-0.316908</td><td>1</td><td>0</td></tr></tbody></table></div>"
      ],
      "text/plain": [
       "shape: (10_000, 4)\n",
       "┌───────────┬───────────┬─────┬─────┐\n",
       "│ C         ┆ A         ┆ B_1 ┆ B_2 │\n",
       "│ ---       ┆ ---       ┆ --- ┆ --- │\n",
       "│ f64       ┆ f64       ┆ u8  ┆ u8  │\n",
       "╞═══════════╪═══════════╪═════╪═════╡\n",
       "│ 0.009434  ┆ -0.121922 ┆ 1   ┆ 0   │\n",
       "│ -0.661531 ┆ -0.168285 ┆ 0   ┆ 1   │\n",
       "│ 0.944038  ┆ 0.868483  ┆ 1   ┆ 0   │\n",
       "│ 0.097012  ┆ -0.300551 ┆ 0   ┆ 1   │\n",
       "│ -1.68967  ┆ -0.566939 ┆ 1   ┆ 0   │\n",
       "│ …         ┆ …         ┆ …   ┆ …   │\n",
       "│ -0.983367 ┆ 0.611019  ┆ 1   ┆ 0   │\n",
       "│ 0.028485  ┆ 0.363459  ┆ 1   ┆ 0   │\n",
       "│ 1.80375   ┆ 0.855562  ┆ 1   ┆ 0   │\n",
       "│ -0.088968 ┆ 0.445007  ┆ 0   ┆ 1   │\n",
       "│ -0.592241 ┆ -0.316908 ┆ 1   ┆ 0   │\n",
       "└───────────┴───────────┴─────┴─────┘"
      ]
     },
     "execution_count": 167,
     "metadata": {},
     "output_type": "execute_result"
    }
   ],
   "source": [
    "df.to_dummies('B')"
   ]
  },
  {
   "cell_type": "code",
   "execution_count": null,
   "metadata": {},
   "outputs": [],
   "source": []
  }
 ],
 "metadata": {
  "kernelspec": {
   "display_name": "promotion",
   "language": "python",
   "name": "python3"
  },
  "language_info": {
   "codemirror_mode": {
    "name": "ipython",
    "version": 3
   },
   "file_extension": ".py",
   "mimetype": "text/x-python",
   "name": "python",
   "nbconvert_exporter": "python",
   "pygments_lexer": "ipython3",
   "version": "3.10.14"
  }
 },
 "nbformat": 4,
 "nbformat_minor": 2
}
