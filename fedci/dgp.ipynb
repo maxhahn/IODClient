{
 "cells": [
  {
   "cell_type": "code",
   "execution_count": 1,
   "metadata": {},
   "outputs": [],
   "source": [
    "import random\n",
    "import numpy as np\n",
    "from scipy import stats"
   ]
  },
  {
   "cell_type": "code",
   "execution_count": null,
   "metadata": {},
   "outputs": [],
   "source": [
    "# [-1,-0.1] | [0.1, 1.0]\n",
    "# [-0.8, 1.0]"
   ]
  },
  {
   "cell_type": "code",
   "execution_count": 10,
   "metadata": {},
   "outputs": [],
   "source": [
    "def uniform_sample():\n",
    "    v = np.random.uniform(-0.8,1)\n",
    "    v = v if v > 0.1 else v - 0.2\n",
    "    return v"
   ]
  },
  {
   "cell_type": "code",
   "execution_count": 48,
   "metadata": {},
   "outputs": [],
   "source": [
    "class Node:\n",
    "    def __init__(self, name, parents):\n",
    "        self.name = name\n",
    "        self.parents = parents\n",
    "        self.coefficients = [uniform_sample() for _ in parents]\n",
    "        self.intercept = uniform_sample()\n",
    "        self.value = None\n",
    "        \n",
    "    def get(self, num_samples):\n",
    "        if self.value is None:\n",
    "            self.value = self._calc(num_samples)\n",
    "        return self.value\n",
    "    \n",
    "    def reset(self):\n",
    "        self.value = None\n",
    "        for p in self.parents:\n",
    "            p.reset()\n",
    "        \n",
    "    def _calc(self, num_samples):\n",
    "        val = np.random.normal(0,1, num_samples)\n",
    "        if len(self.parents) > 0:\n",
    "            val += self.intercept \n",
    "        for parent, coeff in zip(self.parents, self.coefficients):\n",
    "            val += parent.get(num_samples)*coeff\n",
    "            \n",
    "        return val\n",
    "    \n",
    "    def __repr__(self):\n",
    "        return f'Node {self.name} - descends from {\", \".join([p.name for p in self.parents]) if len(self.parents) > 0 else \"none\"}'"
   ]
  },
  {
   "cell_type": "code",
   "execution_count": 49,
   "metadata": {},
   "outputs": [],
   "source": [
    "def toposort(variables):\n",
    "    sorted_list = []\n",
    "    no_inc_edge_nodes = {v for v in variables if len(v.parents) == 0}\n",
    "    graph = {v:set(v.parents) for v in variables if len(v.parents) > 0}\n",
    "    \n",
    "    while len(no_inc_edge_nodes) > 0:\n",
    "        node = no_inc_edge_nodes.pop()\n",
    "        sorted_list.append(node)\n",
    "        for node_i in [v for v,ps in graph.items() if node in ps]:\n",
    "            graph[node_i].remove(node)\n",
    "            if len(graph[node_i]) == 0:\n",
    "                no_inc_edge_nodes.add(node_i)\n",
    "                \n",
    "    return sorted_list"
   ]
  },
  {
   "cell_type": "code",
   "execution_count": 50,
   "metadata": {},
   "outputs": [],
   "source": [
    "a = Node('A', [])\n",
    "b = Node('B', [])\n",
    "c = Node('C', [a,b])"
   ]
  },
  {
   "cell_type": "code",
   "execution_count": 51,
   "metadata": {},
   "outputs": [
    {
     "data": {
      "text/plain": [
       "array([-1.14354762, -1.1808442 , -2.15612981, -1.54237387, -1.99227455,\n",
       "       -0.71277121, -0.45862334, -1.13007901, -0.17098833,  0.80733743,\n",
       "       -3.51476953, -0.23604779, -1.67093401,  0.91471831,  1.50678496,\n",
       "        0.16002049,  1.48924346, -0.77883134,  1.61978097,  1.17019914,\n",
       "       -0.40439477, -3.20148715, -1.53600654, -0.19507694,  0.98761621,\n",
       "       -2.80804387, -0.35995236, -1.79169207,  0.31790072, -0.87709724,\n",
       "       -1.07679657, -0.56644735, -1.81967697, -0.28349953, -0.61510872,\n",
       "       -1.59233984,  1.05810717, -1.69719084,  0.59369585, -0.1301698 ,\n",
       "        0.79103481, -1.08517266, -2.29520691, -1.72455794,  1.68745879,\n",
       "       -0.32304163,  1.68314824, -3.42699345, -0.7298698 , -2.38586044,\n",
       "       -1.70100038, -2.68157888, -1.3962608 , -1.94862243, -3.42774711,\n",
       "        1.86695217, -1.00801078,  0.34370335, -3.90365918, -1.95534581,\n",
       "       -0.97236106, -1.36194245,  2.02423733,  0.68519315,  1.17082893,\n",
       "       -0.64832675, -1.72607051,  3.00006305, -0.12337808,  1.34236321,\n",
       "        1.38350379,  0.0655263 ,  0.02512554, -1.2482855 , -2.16468271,\n",
       "        0.75006221, -1.69403063,  1.04384776, -2.35181134, -2.87543803,\n",
       "       -2.60431265,  1.25673674, -0.3222607 , -0.00500384,  0.96711763,\n",
       "       -0.94469811, -2.31403533, -3.33889712,  0.75182105,  0.33853231,\n",
       "       -1.49509163, -0.05886212, -0.75901211, -2.82742085, -1.159297  ,\n",
       "       -1.2706972 , -1.1914155 , -1.18246914, -0.41536516,  1.30832604])"
      ]
     },
     "execution_count": 51,
     "metadata": {},
     "output_type": "execute_result"
    }
   ],
   "source": [
    "c.get(100)"
   ]
  },
  {
   "cell_type": "code",
   "execution_count": 53,
   "metadata": {},
   "outputs": [],
   "source": [
    "import polars as pl"
   ]
  },
  {
   "cell_type": "code",
   "execution_count": 59,
   "metadata": {},
   "outputs": [],
   "source": [
    "t= pl.Series(name=c.name, values=c.get(100))"
   ]
  },
  {
   "cell_type": "code",
   "execution_count": null,
   "metadata": {},
   "outputs": [],
   "source": [
    "# TODO: qcut with 2,3, or 4 categories\n",
    "# TODO: parameterize names and breakpoints\n",
    "# TODO: let breakpoint proportions be sampled. At least 15% per category, rest randomly"
   ]
  },
  {
   "cell_type": "code",
   "execution_count": 106,
   "metadata": {},
   "outputs": [],
   "source": [
    "import random\n",
    "\n",
    "def get_quantiles(num_cats, min_perc_per_cat):\n",
    "    num_objects = int((1.0-num_cats*min_perc_per_cat)*100)\n",
    "\n",
    "    containers = [[] for _ in range(num_cats)]\n",
    "    objects = (1 for _ in range(num_objects))\n",
    "    # we don't need a list of these, just have to iterate over it, so this is a genexp\n",
    "\n",
    "    for object in objects:\n",
    "        random.choice(containers).append(object)\n",
    "        \n",
    "    containers = [sum(c)/100 for c in containers]\n",
    "    containers\n",
    "\n",
    "\n",
    "    containers = [c+min_perc_per_cat for c in containers]\n",
    "    #assert sum(containers) == 1\n",
    "\n",
    "    quantiles = [containers[0]]\n",
    "    for i in range(1,len(containers)-1):\n",
    "        quantiles.append(containers[i] + quantiles[-1])\n",
    "        \n",
    "    return quantiles"
   ]
  },
  {
   "cell_type": "code",
   "execution_count": 111,
   "metadata": {},
   "outputs": [
    {
     "data": {
      "text/plain": [
       "[0.33999999999999997, 0.6699999999999999]"
      ]
     },
     "execution_count": 111,
     "metadata": {},
     "output_type": "execute_result"
    }
   ],
   "source": [
    "num_cats = np.random.randint(2,5)\n",
    "min_perc_per_cat = 0.15\n",
    "\n",
    "quantiles = get_quantiles(num_cats, min_perc_per_cat)\n",
    "quantiles"
   ]
  },
  {
   "cell_type": "code",
   "execution_count": 112,
   "metadata": {},
   "outputs": [
    {
     "data": {
      "text/html": [
       "<div><style>\n",
       ".dataframe > thead > tr,\n",
       ".dataframe > tbody > tr {\n",
       "  text-align: right;\n",
       "  white-space: pre-wrap;\n",
       "}\n",
       "</style>\n",
       "<small>shape: (100,)</small><table border=\"1\" class=\"dataframe\"><thead><tr><th>C</th></tr><tr><td>cat</td></tr></thead><tbody><tr><td>&quot;2&quot;</td></tr><tr><td>&quot;2&quot;</td></tr><tr><td>&quot;1&quot;</td></tr><tr><td>&quot;1&quot;</td></tr><tr><td>&quot;1&quot;</td></tr><tr><td>&hellip;</td></tr><tr><td>&quot;2&quot;</td></tr><tr><td>&quot;2&quot;</td></tr><tr><td>&quot;2&quot;</td></tr><tr><td>&quot;2&quot;</td></tr><tr><td>&quot;3&quot;</td></tr></tbody></table></div>"
      ],
      "text/plain": [
       "shape: (100,)\n",
       "Series: 'C' [cat]\n",
       "[\n",
       "\t\"2\"\n",
       "\t\"2\"\n",
       "\t\"1\"\n",
       "\t\"1\"\n",
       "\t\"1\"\n",
       "\t…\n",
       "\t\"2\"\n",
       "\t\"2\"\n",
       "\t\"2\"\n",
       "\t\"2\"\n",
       "\t\"3\"\n",
       "]"
      ]
     },
     "execution_count": 112,
     "metadata": {},
     "output_type": "execute_result"
    }
   ],
   "source": [
    "t.qcut(quantiles, labels=[str(i) for i in range(1,len(quantiles)+2)])"
   ]
  },
  {
   "cell_type": "code",
   "execution_count": null,
   "metadata": {},
   "outputs": [],
   "source": []
  }
 ],
 "metadata": {
  "kernelspec": {
   "display_name": "promotion",
   "language": "python",
   "name": "python3"
  },
  "language_info": {
   "codemirror_mode": {
    "name": "ipython",
    "version": 3
   },
   "file_extension": ".py",
   "mimetype": "text/x-python",
   "name": "python",
   "nbconvert_exporter": "python",
   "pygments_lexer": "ipython3",
   "version": "3.10.14"
  }
 },
 "nbformat": 4,
 "nbformat_minor": 2
}
